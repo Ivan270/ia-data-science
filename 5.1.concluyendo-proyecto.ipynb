{
 "cells": [
  {
   "cell_type": "markdown",
   "id": "010c6ead",
   "metadata": {},
   "source": [
    "## Datos anteriores"
   ]
  },
  {
   "cell_type": "code",
   "execution_count": 14,
   "id": "767a5807",
   "metadata": {},
   "outputs": [],
   "source": [
    "import pandas as pd\n",
    "import warnings\n",
    "import matplotlib.ticker as ticker\n",
    "\n",
    "warnings.filterwarnings(\"ignore\")\n",
    "\n",
    "url_clientes = \"https://gist.githubusercontent.com/ahcamachod/d08898e1cc84c7271856e78d9558ca3d/raw/2f7e1fa53711efe6433a5c5ec79948f600591cb9/clientes_zoop.csv\"\n",
    "url_ventas = \"https://gist.githubusercontent.com/ahcamachod/966d7162a3c3a2769b8770b35abf1bcc/raw/d79941b3fa46a450f3611589abd8663399c1277b/ventas_zoop.csv\"\n",
    "url_zoop_pay = \"https://gist.githubusercontent.com/ahcamachod/ce728231a836a973c0df94a9f03ed871/raw/8db6da43d7cd94fcab937208067d0fceb521b78c/zoop_pay.csv\"\n",
    "\n",
    "clientes = pd.read_csv(url_clientes)\n",
    "ventas = pd.read_csv(url_ventas)\n",
    "ventas[\"fecha\"] = pd.to_datetime(ventas[\"fecha\"], format=\"%Y-%m-%d\")\n",
    "ventas[\"horario\"] = pd.to_datetime(ventas[\"horario\"], format=\"%H:%M\").dt.time\n",
    "\n",
    "df = pd.merge(ventas, clientes, on=\"ID_compra\", how=\"inner\")\n",
    "# Reorganizar las columnas en el orden deseado\n",
    "columnas_ordenadas = [\n",
    "    \"ID_compra\",\n",
    "    \"fecha\",\n",
    "    \"horario\",\n",
    "    \"categoria\",\n",
    "    \"precio_unitario\",\n",
    "    \"cantidad\",\n",
    "    \"envio\",\n",
    "    \"metodo_pago\",\n",
    "    \"ID_cliente\",\n",
    "    \"edad\",\n",
    "    \"sexo_biologico\",\n",
    "    \"ciudad\",\n",
    "    \"estado\",\n",
    "    \"region\",\n",
    "    \"cashback\",\n",
    "    \"nota\",\n",
    "]\n",
    "\n",
    "# Aplicar el orden de las columnas\n",
    "df = df[columnas_ordenadas]\n",
    "\n",
    "import matplotlib.pyplot as plt\n",
    "import seaborn as sns\n",
    "\n",
    "# 1. Crear la tabla resumen\n",
    "metodos_de_pago = df[\"metodo_pago\"].value_counts().reset_index()\n",
    "metodos_de_pago.columns = [\"metodo_pago\", \"cantidad\"]\n",
    "\n",
    "# 1. Crear una columna de facturación total por compra\n",
    "df[\"facturacion\"] = df[\"precio_unitario\"] * df[\"cantidad\"] + df[\"envio\"]\n",
    "\n",
    "# 2. Agrupar por categoría y sumar la facturación\n",
    "facturacion_categoria = df.groupby(\"categoria\")[\"facturacion\"].sum().sort_values()\n",
    "\n",
    "# Asegurarse de que la columna 'fecha' es datetime\n",
    "df[\"fecha\"] = pd.to_datetime(df[\"fecha\"])\n",
    "\n",
    "# Crear columna con el mes como texto completo\n",
    "df[\"mes_nombre\"] = df[\"fecha\"].dt.strftime(\"%B\")  # e.g., 'January', 'February', etc.\n",
    "\n",
    "# Crear columna con el número del mes para ordenar correctamente\n",
    "df[\"mes_numero\"] = df[\"fecha\"].dt.month\n",
    "\n",
    "# Calcular la facturación mensual\n",
    "ventas_mensuales = (\n",
    "    df.groupby([\"mes_numero\", \"mes_nombre\"])[\"facturacion\"].sum().reset_index()\n",
    ")\n",
    "\n",
    "# Ordenar por número de mes\n",
    "ventas_mensuales = ventas_mensuales.sort_values(\"mes_numero\")\n",
    "\n",
    "# Diccionario de traducción de meses\n",
    "meses = {\n",
    "    \"January\": \"Ene\",\n",
    "    \"February\": \"Feb\",\n",
    "    \"March\": \"Mar\",\n",
    "    \"April\": \"Abr\",\n",
    "    \"May\": \"May\",\n",
    "    \"June\": \"Jun\",\n",
    "    \"July\": \"Jul\",\n",
    "    \"August\": \"Ago\",\n",
    "    \"September\": \"Sep\",\n",
    "    \"October\": \"Oct\",\n",
    "    \"November\": \"Nov\",\n",
    "    \"December\": \"Dic\",\n",
    "}\n",
    "\n",
    "# Aplicar traducción\n",
    "ventas_mensuales[\"mes\"] = ventas_mensuales[\"mes_nombre\"].map(meses)\n",
    "\n",
    "# 2. Crear columna de trimestre (formato 'T1', 'T2', etc.)\n",
    "df[\"trimestre\"] = df[\"fecha\"].dt.to_period(\"Q\").astype(str).str.replace(\"2023Q\", \"T\")\n",
    "\n",
    "# 3. Agrupar por trimestre y método de pago, sumando facturación\n",
    "ventas_trimestre = (\n",
    "    df.groupby([\"trimestre\", \"metodo_pago\"])[\"facturacion\"].sum().unstack(fill_value=0)\n",
    ")\n",
    "\n",
    "# Filtrar solo las 3 categorías deseadas\n",
    "categorias_interes = [\"Papelería y oficina\", \"Libros\", \"Alimentos y bebidas\"]\n",
    "df_filtrado = df[df[\"categoria\"].isin(categorias_interes)]\n",
    "\n",
    "# Agrupar por trimestre y categoría, sumando la facturación\n",
    "ventas_categoria = (\n",
    "    df_filtrado.groupby([\"trimestre\", \"categoria\"])[\"facturacion\"]\n",
    "    .sum()\n",
    "    .unstack(fill_value=0)\n",
    ")\n",
    "\n",
    "# Adicionamos los colores al proyecto\n",
    "ROJO_1, ROJO_2, ROJO_3 = \"#e23155\", \"#cc2c4e\", \"#b32742\"\n",
    "AZUL_1, AZUL_2, AZUL_3 = \"#203f75\", \"#1c3867\", \"#19325b\"\n",
    "BLANCO, GRIS_1, GRIS_2, GRIS_3, GRIS_4, GRIS_5 = (\n",
    "    \"#ffffff\",\n",
    "    \"#ebebeb\",\n",
    "    \"#d9d9d9\",\n",
    "    \"#cccccc\",\n",
    "    \"#555655\",\n",
    "    \"#231f20\",\n",
    ")\n",
    "AQUA_1, AQUA_2, AQUA_3 = \"#addcd4\", \"#9fccc5\", \"#96bfb9\""
   ]
  },
  {
   "cell_type": "markdown",
   "id": "10938863",
   "metadata": {},
   "source": [
    "# Generando funciones para los gráficos"
   ]
  },
  {
   "cell_type": "markdown",
   "id": "d0f7b13c",
   "metadata": {},
   "source": [
    "## Gráfico 1: Métodos de pago más utilizados en 2023"
   ]
  },
  {
   "cell_type": "markdown",
   "id": "970326a3",
   "metadata": {},
   "source": [
    "```python\n",
    "metodos_de_pago = df[\"metodo_pago\"].value_counts().reset_index()\n",
    "metodos_de_pago.columns = [\"metodo_pago\", \"cantidad\"]\n",
    "\n",
    "# 2. Calcular porcentaje\n",
    "top_2 = metodos_de_pago[\"cantidad\"][:2].sum()\n",
    "total = metodos_de_pago[\"cantidad\"].sum()\n",
    "porcentaje = round((top_2 / total) * 100, 1)\n",
    "\n",
    "# 3. Visualización\n",
    "plt.figure(figsize=(10, 6), facecolor=GRIS_1)\n",
    "ax = sns.barplot(data=metodos_de_pago, x=\"metodo_pago\", y=\"cantidad\", color=ROJO_1)\n",
    "\n",
    "# Personalización del gráfico\n",
    "ax.set_facecolor(GRIS_1)\n",
    "ax.set_title(\"Métodos de pago más utilizados en 2023\", fontsize=18, color=GRIS_5)\n",
    "\n",
    "# Eje X\n",
    "ax.set_xlabel(\"Método de Pago\", fontsize=12, color=AZUL_1)\n",
    "ax.set_xticklabels(ax.get_xticklabels(), fontsize=12, color=AZUL_1)\n",
    "\n",
    "# Eje Y eliminado\n",
    "ax.set_ylabel(None)\n",
    "ax.set_yticks([])\n",
    "\n",
    "# Quitar bordes\n",
    "for spine in [\"left\", \"top\", \"right\"]:\n",
    "    ax.spines[spine].set_visible(False)\n",
    "\n",
    "# Añadir cantidades sobre las barras\n",
    "for i, row in metodos_de_pago.iterrows():\n",
    "    ax.text(\n",
    "        i,\n",
    "        row[\"cantidad\"] + max(metodos_de_pago[\"cantidad\"]) * 0.01,\n",
    "        int(row[\"cantidad\"]),\n",
    "        ha=\"center\",\n",
    "        fontsize=12,\n",
    "        color=AZUL_1,\n",
    "    )\n",
    "\n",
    "# Añadir texto explicativo en el gráfico\n",
    "texto = (\n",
    "    f\"$\\\\bf{porcentaje}$% de los clientes utilizan Tarjeta de Crédito o Transferencia \\n\"\n",
    "    \"para el pago. Sería interesante considerar asociaciones con \\n\"\n",
    "    \"bancos para la creación de un Zoop Pay con el fin de fidelizar \\n\"\n",
    "    \"a nuestra clientela.\"\n",
    ")\n",
    "\n",
    "ax.text(1.5, 2500, texto, fontsize=10, color=AZUL_3)\n",
    "\n",
    "# plt.tight_layout()\n",
    "plt.show()\n",
    "```"
   ]
  },
  {
   "cell_type": "code",
   "execution_count": 15,
   "id": "1424c2a3",
   "metadata": {},
   "outputs": [],
   "source": [
    "def metodo_pago():\n",
    "    metodos_de_pago = df[\"metodo_pago\"].value_counts().reset_index()\n",
    "    metodos_de_pago.columns = [\"metodo_pago\", \"cantidad\"]\n",
    "\n",
    "    # 2. Calcular porcentaje\n",
    "    top_2 = metodos_de_pago[\"cantidad\"][:2].sum()\n",
    "    total = metodos_de_pago[\"cantidad\"].sum()\n",
    "    porcentaje = round((top_2 / total) * 100, 1)\n",
    "\n",
    "    # 3. Visualización\n",
    "    plt.figure(figsize=(10, 6), facecolor=GRIS_1)\n",
    "    ax = sns.barplot(data=metodos_de_pago, x=\"metodo_pago\", y=\"cantidad\", color=ROJO_1)\n",
    "\n",
    "    # Personalización del gráfico\n",
    "    ax.set_facecolor(GRIS_1)\n",
    "    ax.set_title(\"Métodos de pago más utilizados en 2023\", fontsize=18, color=GRIS_5)\n",
    "\n",
    "    # Eje X\n",
    "    ax.set_xlabel(\"Método de Pago\", fontsize=12, color=AZUL_1)\n",
    "    ax.set_xticklabels(ax.get_xticklabels(), fontsize=12, color=AZUL_1)\n",
    "\n",
    "    # Eje Y eliminado\n",
    "    ax.set_ylabel(None)\n",
    "    ax.set_yticks([])\n",
    "\n",
    "    # Quitar bordes\n",
    "    for spine in [\"left\", \"top\", \"right\"]:\n",
    "        ax.spines[spine].set_visible(False)\n",
    "\n",
    "    # Añadir cantidades sobre las barras\n",
    "    for i, row in metodos_de_pago.iterrows():\n",
    "        ax.text(\n",
    "            i,\n",
    "            row[\"cantidad\"] + max(metodos_de_pago[\"cantidad\"]) * 0.01,\n",
    "            int(row[\"cantidad\"]),\n",
    "            ha=\"center\",\n",
    "            fontsize=12,\n",
    "            color=AZUL_1,\n",
    "        )\n",
    "\n",
    "    # Añadir texto explicativo en el gráfico\n",
    "    texto = (\n",
    "        f\"$\\\\bf{porcentaje}$% de los clientes utilizan Tarjeta de Crédito o Transferencia \\n\"\n",
    "        \"para el pago. Sería interesante considerar asociaciones con \\n\"\n",
    "        \"bancos para la creación de un Zoop Pay con el fin de fidelizar \\n\"\n",
    "        \"a nuestra clientela.\"\n",
    "    )\n",
    "\n",
    "    ax.text(1.5, 2500, texto, fontsize=10, color=AZUL_3)\n",
    "\n",
    "    return plt"
   ]
  },
  {
   "cell_type": "code",
   "execution_count": 16,
   "id": "02c41111",
   "metadata": {},
   "outputs": [
    {
     "data": {
      "image/png": "[encoded data removed]",
      "text/plain": [
       "<Figure size 1000x600 with 1 Axes>"
      ]
     },
     "metadata": {},
     "output_type": "display_data"
    }
   ],
   "source": [
    "metodo_pago().show()"
   ]
  },
  {
   "cell_type": "markdown",
   "id": "7b822154",
   "metadata": {},
   "source": [
    "## Gráfico 2: Ventas totales mensuales del 2023"
   ]
  },
  {
   "cell_type": "markdown",
   "id": "24d5648a",
   "metadata": {},
   "source": [
    "```python\n",
    "# Preparar los datos\n",
    "df[\"mes\"] = df[\"fecha\"].dt.strftime(\"%B\")\n",
    "ventas_mensuales = df.groupby(\"mes\")[\"facturacion\"].sum().reindex(meses.keys())\n",
    "ventas_mensuales.index = [meses[m] for m in ventas_mensuales.index]\n",
    "\n",
    "# Crear figura y eje\n",
    "fig, ax = plt.subplots(figsize=(12, 6), facecolor=GRIS_1)\n",
    "ax.set_facecolor(GRIS_1)\n",
    "\n",
    "# Graficar línea\n",
    "ax.plot(\n",
    "    ventas_mensuales.index,\n",
    "    ventas_mensuales.values,\n",
    "    marker=\"o\",\n",
    "    color=AZUL_1,\n",
    "    linewidth=2,\n",
    ")\n",
    "\n",
    "# Título\n",
    "ax.set_title(\"Ventas totales mensuales en 2023\", fontsize=18, color=GRIS_5)\n",
    "\n",
    "# Ejes\n",
    "ax.set_xlabel(\"\")\n",
    "ax.set_ylabel(\"\")\n",
    "ax.tick_params(axis=\"x\", labelsize=12, labelcolor=AZUL_1)\n",
    "ax.tick_params(axis=\"y\", labelsize=12, labelcolor=AZUL_1)\n",
    "\n",
    "\n",
    "# Formato del eje Y\n",
    "def millones_mxn(x, _):\n",
    "    return f\"MXN$ {x/1e6:.2f} M\"\n",
    "\n",
    "\n",
    "ax.yaxis.set_major_formatter(ticker.FuncFormatter(millones_mxn))\n",
    "\n",
    "# Quitar bordes derecho y superior\n",
    "ax.spines[\"right\"].set_visible(False)\n",
    "ax.spines[\"top\"].set_visible(False)\n",
    "\n",
    "# Encontrar los 4 puntos más altos\n",
    "top_ventas = ventas_mensuales.sort_values(ascending=False).head(4)\n",
    "for i, (mes, valor) in enumerate(top_ventas.items(), 1):\n",
    "    idx = list(ventas_mensuales.index).index(mes)\n",
    "\n",
    "    # Dibujar círculo con scatter\n",
    "    ax.scatter(idx, valor, s=200, facecolors=\"none\", edgecolors=ROJO_1, linewidth=2)\n",
    "\n",
    "    # Agregar número a la izquierda\n",
    "    ax.text(idx - 0.6, valor, str(i), fontsize=12, color=ROJO_1, va=\"center\")\n",
    "\n",
    "# plt.tight_layout()\n",
    "plt.show()\n",
    "\n",
    "```"
   ]
  },
  {
   "cell_type": "code",
   "execution_count": null,
   "id": "b15bae78",
   "metadata": {},
   "outputs": [],
   "source": [
    "def ventas_mensuales():\n",
    "    # Preparar los datos\n",
    "    df[\"mes\"] = df[\"fecha\"].dt.strftime(\"%B\")\n",
    "    ventas_mensuales = df.groupby(\"mes\")[\"facturacion\"].sum().reindex(meses.keys())\n",
    "    ventas_mensuales.index = [meses[m] for m in ventas_mensuales.index]\n",
    "\n",
    "    # Crear figura y eje\n",
    "    fig, ax = plt.subplots(figsize=(12, 6), facecolor=GRIS_1)\n",
    "    ax.set_facecolor(GRIS_1)\n",
    "\n",
    "    # Graficar línea\n",
    "    ax.plot(\n",
    "        ventas_mensuales.index,\n",
    "        ventas_mensuales.values,\n",
    "        marker=\"o\",\n",
    "        color=AZUL_1,\n",
    "        linewidth=2,\n",
    "    )\n",
    "\n",
    "    # Título\n",
    "    ax.set_title(\"Ventas totales mensuales en 2023\", fontsize=18, color=GRIS_5)\n",
    "\n",
    "    # Ejes\n",
    "    ax.set_xlabel(\"\")\n",
    "    ax.set_ylabel(\"\")\n",
    "    ax.tick_params(axis=\"x\", labelsize=12, labelcolor=AZUL_1)\n",
    "    ax.tick_params(axis=\"y\", labelsize=12, labelcolor=AZUL_1)\n",
    "\n",
    "    # Formato del eje Y\n",
    "    def millones_mxn(x, _):\n",
    "        return f\"MXN$ {x/1e6:.2f} M\"\n",
    "\n",
    "    ax.yaxis.set_major_formatter(ticker.FuncFormatter(millones_mxn))\n",
    "\n",
    "    # Quitar bordes derecho y superior\n",
    "    ax.spines[\"right\"].set_visible(False)\n",
    "    ax.spines[\"top\"].set_visible(False)\n",
    "\n",
    "    # Encontrar los 4 puntos más altos\n",
    "    top_ventas = ventas_mensuales.sort_values(ascending=False).head(4)\n",
    "    for i, (mes, valor) in enumerate(top_ventas.items(), 1):\n",
    "        idx = list(ventas_mensuales.index).index(mes)\n",
    "\n",
    "        # Dibujar círculo con scatter\n",
    "        ax.scatter(idx, valor, s=200, facecolors=\"none\", edgecolors=ROJO_1, linewidth=2)\n",
    "\n",
    "        # Agregar número a la izquierda\n",
    "        ax.text(idx - 0.6, valor, str(i), fontsize=12, color=ROJO_1, va=\"center\")\n",
    "\n",
    "    # plt.tight_layout()\n",
    "    return plt"
   ]
  },
  {
   "cell_type": "code",
   "execution_count": 18,
   "id": "52229ac0",
   "metadata": {},
   "outputs": [
    {
     "data": {
      "image/png": "[encoded data removed]",
      "text/plain": [
       "<Figure size 1200x600 with 1 Axes>"
      ]
     },
     "metadata": {},
     "output_type": "display_data"
    }
   ],
   "source": [
    "ventas_mensuales().show()"
   ]
  },
  {
   "cell_type": "markdown",
   "id": "a1acf3f2",
   "metadata": {},
   "source": [
    "## Gráfico 3: Facturación por categoría de producto en 2023"
   ]
  },
  {
   "cell_type": "markdown",
   "id": "9b584d96",
   "metadata": {},
   "source": [
    "```python\n",
    "# 1. Crear una columna de facturación total por compra\n",
    "df[\"facturacion\"] = df[\"precio_unitario\"] * df[\"cantidad\"] + df[\"envio\"]\n",
    "\n",
    "# 2. Agrupar por categoría y sumar la facturación\n",
    "facturacion_categoria = df.groupby(\"categoria\")[\"facturacion\"].sum().sort_values()\n",
    "\n",
    "# 3. Visualización en barras horizontales\n",
    "plt.figure(figsize=(10, 6))\n",
    "sns.barplot(\n",
    "    x=facturacion_categoria.values, y=facturacion_categoria.index, palette=\"viridis\"\n",
    ")\n",
    "\n",
    "plt.title(\"Facturación por Categoría de Producto\")\n",
    "plt.xlabel(\"Facturación Total (MXN)\")\n",
    "plt.ylabel(\"Categoría\")\n",
    "plt.tight_layout()\n",
    "plt.show()\n",
    "\n",
    "```"
   ]
  },
  {
   "cell_type": "markdown",
   "id": "8004cbc4",
   "metadata": {},
   "source": [
    "### Mejorando el gráfico"
   ]
  },
  {
   "cell_type": "markdown",
   "id": "13f25626",
   "metadata": {},
   "source": [
    "#### Prompt\n",
    "\n",
    "Ahora, vamos refinar el gráfico de facturación por categoría. Recuerda que este gráfico fue de barras horizontales.\n",
    "\n",
    "El script original del gráfico es el siguiente:\n",
    "\n",
    "```python\n",
    "# 1. Crear una columna de facturación total por compra\n",
    "df[\"facturacion\"] = df[\"precio_unitario\"] * df[\"cantidad\"] + df[\"envio\"]\n",
    "\n",
    "# 2. Agrupar por categoría y sumar la facturación\n",
    "facturacion_categoria = df.groupby(\"categoria\")[\"facturacion\"].sum().sort_values()\n",
    "\n",
    "# 3. Visualización en barras horizontales\n",
    "plt.figure(figsize=(10, 6))\n",
    "sns.barplot(\n",
    "    x=facturacion_categoria.values, y=facturacion_categoria.index, palette=\"viridis\"\n",
    ")\n",
    "\n",
    "plt.title(\"Facturación por Categoría de Producto\")\n",
    "plt.xlabel(\"Facturación Total (MXN)\")\n",
    "plt.ylabel(\"Categoría\")\n",
    "plt.tight_layout()\n",
    "plt.show()\n",
    "\n",
    "```\n",
    "Nuestro gráfico debe seguir la identidad visual de Zoop, con el fondo de la figura y del gráfico en el color GRIS_1, las barras en el color AQUA_1 y el tamaño de la figura debe ser de (10, 6).\n",
    "\n",
    "El título de la figura es \"Facturación por categoría de producto en 2023\" con tamaño 18 y su color GRIS_5.\n",
    "\n",
    "Las etiquetas del eje x (xticks) deben ser suprimidas al igual que los labels de los ejes x y y (xlabel y ylabel), y las etiquetas del eje y (yticks) deben tener tamaño 12 con el color AZUL_1. Todas las bordes del gráfico deben ser suprimidas.\n",
    "\n",
    "Además, es necesario mostrar el total de la facturación de cada categoría al lado derecho de cada barra, con el texto también en color AZUL_1 y tamaño 12.\n",
    "\n",
    "También vamos a agregar un texto dentro del área del gráfico. Para ello, divide el valor de la 1ª barra entre la suma de todas las barras y conviértelo en un porcentaje, almacenándolo en la variable \"porcentaje\".\n",
    "\n",
    "Ahora, en la posición x = 0.4e7 y y = 5, agrega el siguiente texto con tamaño 12 y color AZUL_3: f\"$\\\\bf{porcentaje:.2f}$% de las ventas corresponden únicamente a las ventas de Electrónica.\\nEsto equivale a casi el doble en relación con todas las demás categorías\\npresentes en el portafolio de Zoop.\".\n",
    "\n",
    "Utiliza las bibliotecas de visualización de datos de Python para crear esta visualización.\n",
    "\n",
    "#### Respuesta\n",
    "\n",
    "Aquí tienes el código refinado que genera el gráfico de **facturación por categoría de producto en 2023**, cumpliendo con los requerimientos visuales de identidad Zoop y la anotación especial sobre el desempeño de la categoría \"Electrónica\":\n",
    "\n",
    "---\n",
    "\n",
    "### ✅ Código actualizado con estilo Zoop:\n",
    "\n",
    "```python\n",
    "import matplotlib.pyplot as plt\n",
    "import seaborn as sns\n",
    "\n",
    "# Colores corporativos\n",
    "ROJO_1, ROJO_2, ROJO_3 = \"#e23155\", \"#cc2c4e\", \"#b32742\"\n",
    "AZUL_1, AZUL_2, AZUL_3 = \"#203f75\", \"#1c3867\", \"#19325b\"\n",
    "BLANCO, GRIS_1, GRIS_2, GRIS_3, GRIS_4, GRIS_5 = (\n",
    "    \"#ffffff\", \"#ebebeb\", \"#d9d9d9\", \"#cccccc\", \"#555655\", \"#231f20\"\n",
    ")\n",
    "AQUA_1, AQUA_2, AQUA_3 = \"#addcd4\", \"#9fccc5\", \"#96bfb9\"\n",
    "\n",
    "# 1. Crear columna de facturación total por compra\n",
    "df[\"facturacion\"] = df[\"precio_unitario\"] * df[\"cantidad\"] + df[\"envio\"]\n",
    "\n",
    "# 2. Agrupar por categoría y ordenar por facturación\n",
    "facturacion_categoria = df.groupby(\"categoria\")[\"facturacion\"].sum().sort_values()\n",
    "\n",
    "# 3. Calcular porcentaje de la categoría con mayor facturación\n",
    "mayor_categoria_valor = facturacion_categoria.values[-1]\n",
    "porcentaje = (mayor_categoria_valor / facturacion_categoria.sum()) * 100\n",
    "\n",
    "# 4. Visualización personalizada\n",
    "plt.figure(figsize=(10, 6))\n",
    "ax = sns.barplot(\n",
    "    x=facturacion_categoria.values,\n",
    "    y=facturacion_categoria.index,\n",
    "    palette=[AQUA_1] * len(facturacion_categoria)\n",
    ")\n",
    "\n",
    "# Estilo general\n",
    "ax.set_facecolor(GRIS_1)\n",
    "plt.gcf().set_facecolor(GRIS_1)\n",
    "plt.title(\"Facturación por categoría de producto en 2023\", fontsize=18, color=GRIS_5)\n",
    "\n",
    "# Ejes\n",
    "ax.tick_params(axis=\"y\", labelsize=12, colors=AZUL_1)\n",
    "ax.tick_params(axis=\"x\", bottom=False, labelbottom=False)\n",
    "ax.set_xlabel(\"\")\n",
    "ax.set_ylabel(\"\")\n",
    "\n",
    "# Quitar bordes\n",
    "sns.despine(left=True, bottom=True, right=True, top=True)\n",
    "\n",
    "# Mostrar valores al final de cada barra\n",
    "for i, valor in enumerate(facturacion_categoria.values):\n",
    "    ax.text(\n",
    "        valor + 1e5,  # pequeña separación a la derecha de la barra\n",
    "        i,\n",
    "        f\"$MXN{valor/1e6:.2f}M\",\n",
    "        va=\"center\",\n",
    "        fontsize=12,\n",
    "        color=AZUL_1\n",
    "    )\n",
    "\n",
    "# Añadir texto explicativo\n",
    "plt.text(\n",
    "    0.4e7,\n",
    "    5,\n",
    "    f\"$\\\\bf{{{porcentaje:.2f}}}$% de las ventas corresponden únicamente a las ventas de Electrónica.\\n\"\n",
    "    \"Esto equivale a casi el doble en relación con todas las demás categorías\\n\"\n",
    "    \"presentes en el portafolio de Zoop.\",\n",
    "    fontsize=12,\n",
    "    color=AZUL_3\n",
    ")\n",
    "\n",
    "plt.tight_layout()\n",
    "plt.show()\n",
    "```\n",
    "\n",
    "---\n",
    "\n",
    "### 🎯 ¿Qué incluye este gráfico?\n",
    "\n",
    "* ✅ Fondo de figura y área de gráfico en `GRIS_1`\n",
    "* ✅ Barras horizontales en `AQUA_1`\n",
    "* ✅ Etiquetas del eje Y en `AZUL_1`, tamaño 12\n",
    "* ✅ Texto de facturación en formato `MXN` millones al lado derecho\n",
    "* ✅ Título con estilo Zoop: tamaño 18 y color `GRIS_5`\n",
    "* ✅ Anotación estratégica dentro del área del gráfico resaltando la participación de \"Electrónica\"\n",
    "\n",
    "¿Deseas adaptar este mismo estilo para otro tipo de desagregación, como por marca o tipo de envío?"
   ]
  },
  {
   "cell_type": "code",
   "execution_count": 48,
   "id": "06de68b3",
   "metadata": {},
   "outputs": [],
   "source": [
    "def facturacion_por_categoria():\n",
    "    # 1. Crear columna de facturación total por compra\n",
    "    df[\"facturacion\"] = df[\"precio_unitario\"] * df[\"cantidad\"] + df[\"envio\"]\n",
    "\n",
    "    # 2. Agrupar por categoría y ordenar por facturación\n",
    "    facturacion_categoria = df.groupby(\"categoria\")[\"facturacion\"].sum().sort_values()\n",
    "\n",
    "    # 3. Calcular porcentaje de la categoría con mayor facturación\n",
    "    mayor_categoria_valor = facturacion_categoria.values[-1]\n",
    "    porcentaje = (mayor_categoria_valor / facturacion_categoria.sum()) * 100\n",
    "\n",
    "    # 4. Visualización personalizada\n",
    "    plt.figure(figsize=(10, 6))\n",
    "    ax = sns.barplot(\n",
    "        x=facturacion_categoria.values,\n",
    "        y=facturacion_categoria.index,\n",
    "        palette=[AQUA_1] * len(facturacion_categoria),\n",
    "    )\n",
    "\n",
    "    # Estilo general\n",
    "    ax.set_facecolor(GRIS_1)\n",
    "    plt.gcf().set_facecolor(GRIS_1)\n",
    "    plt.title(\"Facturación por categoría de producto en 2023\", fontsize=18, color=GRIS_5)\n",
    "\n",
    "    # Ejes\n",
    "    ax.tick_params(axis=\"y\", labelsize=12, colors=AZUL_1)\n",
    "    ax.tick_params(axis=\"x\", bottom=False, labelbottom=False)\n",
    "    ax.set_xlabel(\"\")\n",
    "    ax.set_ylabel(\"\")\n",
    "\n",
    "    # Quitar bordes\n",
    "    sns.despine(left=True, bottom=True, right=True, top=True)\n",
    "\n",
    "    # Mostrar valores al final de cada barra\n",
    "    for i, valor in enumerate(facturacion_categoria.values):\n",
    "        ax.text(\n",
    "            valor + 1e5,  # pequeña separación a la derecha de la barra\n",
    "            i,\n",
    "            f\"MXN${valor/1e6:.2f}M\",\n",
    "            va=\"center\",\n",
    "            fontsize=12,\n",
    "            color=AZUL_1,\n",
    "        )\n",
    "\n",
    "    # Añadir texto explicativo\n",
    "    plt.text(\n",
    "        0.4e7,\n",
    "        1.4,  # modificado\n",
    "        f\"$\\\\bf{{{porcentaje:.2f}}}$% de las ventas corresponden únicamente a las ventas\\n de Electrónica.\"\n",
    "        \"Esto equivale a casi el doble en relación con\\n todas las demás categorías\"\n",
    "        \"presentes en el portafolio de Zoop.\",\n",
    "        fontsize=12,\n",
    "        color=AZUL_3,\n",
    "    )\n",
    "\n",
    "    plt.tight_layout()\n",
    "    return plt"
   ]
  },
  {
   "cell_type": "code",
   "execution_count": 46,
   "id": "35d641d7",
   "metadata": {},
   "outputs": [
    {
     "data": {
      "image/png": "[encoded data removed]",
      "text/plain": [
       "<Figure size 1000x600 with 1 Axes>"
      ]
     },
     "metadata": {},
     "output_type": "display_data"
    }
   ],
   "source": [
    "facturacion_por_categoria().show()"
   ]
  },
  {
   "cell_type": "markdown",
   "id": "df3303fe",
   "metadata": {},
   "source": [
    "## Gráfico 4: Ventas por trimestre y método de pago"
   ]
  },
  {
   "cell_type": "markdown",
   "id": "59607450",
   "metadata": {},
   "source": [
    "### Prompt\n",
    "\n",
    "Ahora vamos con el gráfico de Ventas por Trimestre y Método de Pago que producimos anteriormente. Vamos a refinarlo usando las siguientes directrices.\n",
    "\n",
    "Recuerda que el script original del gráfico es el siguiente:\n",
    "```python\n",
    "# 1. Asegurar que 'fecha' es datetime\n",
    "df[\"fecha\"] = pd.to_datetime(df[\"fecha\"])\n",
    "\n",
    "# 2. Crear columna de trimestre (formato 'T1', 'T2', etc.)\n",
    "df[\"trimestre\"] = df[\"fecha\"].dt.to_period(\"Q\").astype(str).str.replace(\"2023Q\", \"T\")\n",
    "\n",
    "# 3. Agrupar por trimestre y método de pago, sumando facturación\n",
    "ventas_trimestre = (\n",
    "    df.groupby([\"trimestre\", \"metodo_pago\"])[\"facturacion\"].sum().unstack(fill_value=0)\n",
    ")\n",
    "\n",
    "# 4. Crear gráfico de barras apiladas\n",
    "ventas_trimestre.plot(kind=\"bar\", stacked=True, figsize=(10, 6), colormap=\"tab20c\")\n",
    "\n",
    "plt.title(\"Facturación por Trimestre y Método de Pago - Zoop\")\n",
    "plt.xlabel(\"Trimestre\")\n",
    "plt.ylabel(\"Facturación\")\n",
    "plt.legend(title=\"Método de Pago por trimestre de 2023\")\n",
    "\n",
    "# Rotar etiquetas del eje X\n",
    "plt.xticks(rotation=45)\n",
    "\n",
    "plt.tight_layout()\n",
    "plt.show()\n",
    "```\n",
    "\n",
    "Nuestro gráfico debe seguir la identidad visual de Zoop, con el fondo de la figura y del gráfico en el color GRIS_1 y el tamaño de la figura debe ser de (10, 6). La secuencia de colores de las columnas apiladas (palette) es [BLANCO, GRIS_3, GRIS_1, GRIS_3].\n",
    "\n",
    "El título de la figura es \"Ventas por Trimestre y Método de Pago en 2023\" con tamaño 18 y su color GRIS_5.\n",
    "\n",
    "Las etiquetas del eje x (xticks) deben estar a 0 grados y tener tamaño 12 con el color AZUL_1. Las etiquetas del eje y (yticks) deben estar en el formato f\"MXN$ valor M\" sin decimales y las etiquetas de los ejes x e y (xlabel e ylabel) deben ser suprimidas. Todos los bordes del gráfico deben ser suprimidos(['top','bottom','left','right]).\n",
    "\n",
    "También agrega una cuadrícula punteada en y.\n",
    "\n",
    "Utiliza las bibliotecas de visualización de datos de Python para crear esta visualización.\n",
    "\n",
    "### Respuesta\n",
    "\n",
    "Aquí tienes el gráfico de **Ventas por Trimestre y Método de Pago en 2023** completamente refinado para seguir la identidad visual de Zoop, utilizando `matplotlib` y `pandas`.\n",
    "\n",
    "---\n",
    "\n",
    "### ✅ Código Refinado:\n",
    "\n",
    "```python\n",
    "import pandas as pd\n",
    "import matplotlib.pyplot as plt\n",
    "\n",
    "# Colores institucionales Zoop\n",
    "ROJO_1, ROJO_2, ROJO_3 = \"#e23155\", \"#cc2c4e\", \"#b32742\"\n",
    "AZUL_1, AZUL_2, AZUL_3 = \"#203f75\", \"#1c3867\", \"#19325b\"\n",
    "BLANCO, GRIS_1, GRIS_2, GRIS_3, GRIS_4, GRIS_5 = (\n",
    "    \"#ffffff\", \"#ebebeb\", \"#d9d9d9\", \"#cccccc\", \"#555655\", \"#231f20\"\n",
    ")\n",
    "AQUA_1, AQUA_2, AQUA_3 = \"#addcd4\", \"#9fccc5\", \"#96bfb9\"\n",
    "\n",
    "# 1. Asegurar que 'fecha' es datetime\n",
    "df[\"fecha\"] = pd.to_datetime(df[\"fecha\"])\n",
    "\n",
    "# 2. Crear columna de trimestre\n",
    "df[\"trimestre\"] = df[\"fecha\"].dt.to_period(\"Q\").astype(str).str.replace(\"2023Q\", \"T\")\n",
    "\n",
    "# 3. Agrupar por trimestre y método de pago\n",
    "ventas_trimestre = (\n",
    "    df.groupby([\"trimestre\", \"metodo_pago\"])[\"facturacion\"]\n",
    "    .sum()\n",
    "    .unstack(fill_value=0)\n",
    ")\n",
    "\n",
    "# 4. Colores personalizados\n",
    "colores = [BLANCO, GRIS_3, GRIS_1, GRIS_3]  # Si hay más métodos, se repetirá\n",
    "\n",
    "# 5. Crear gráfico apilado\n",
    "fig, ax = plt.subplots(figsize=(10, 6), facecolor=GRIS_1)\n",
    "ventas_trimestre.plot(\n",
    "    kind=\"bar\",\n",
    "    stacked=True,\n",
    "    ax=ax,\n",
    "    color=colores,\n",
    "    edgecolor=GRIS_1,\n",
    ")\n",
    "\n",
    "# 6. Personalización visual\n",
    "ax.set_facecolor(GRIS_1)\n",
    "ax.set_title(\"Ventas por Trimestre y Método de Pago en 2023\", fontsize=18, color=GRIS_5)\n",
    "\n",
    "# Eje X\n",
    "ax.set_xlabel(\"\")\n",
    "ax.set_xticklabels(ventas_trimestre.index, fontsize=12, color=AZUL_1, rotation=0)\n",
    "\n",
    "# Eje Y\n",
    "ax.set_ylabel(\"\")\n",
    "yticks_mxn = [f\"MXN${int(y / 1e6)}M\" for y in ax.get_yticks()]\n",
    "ax.set_yticklabels(yticks_mxn, fontsize=12, color=AZUL_1)\n",
    "\n",
    "# Leyenda\n",
    "ax.legend(title=\"Método de Pago por trimestre de 2023\", loc=\"upper left\")\n",
    "\n",
    "# Bordes eliminados\n",
    "for spine in [\"top\", \"bottom\", \"left\", \"right\"]:\n",
    "    ax.spines[spine].set_visible(False)\n",
    "\n",
    "# Cuadrícula punteada en Y\n",
    "ax.yaxis.grid(True, linestyle=\":\", color=GRIS_3)\n",
    "ax.xaxis.grid(False)\n",
    "\n",
    "plt.tight_layout()\n",
    "plt.show()\n",
    "```\n",
    "\n",
    "---\n",
    "\n",
    "### 🎯 ¿Qué logramos?\n",
    "\n",
    "* Gráfico limpio, corporativo y legible.\n",
    "* Estilo apilado para comparar métodos de pago dentro de cada trimestre.\n",
    "* Etiquetas en millones (`MXN$`) y cuadrícula sutil para facilitar el análisis.\n",
    "* Diseño profesional completamente alineado con la identidad visual de Zoop.\n",
    "\n",
    "¿Te gustaría hacer una versión interactiva en Plotly o destacar algún método de pago específico con otro color?"
   ]
  },
  {
   "cell_type": "code",
   "execution_count": 54,
   "id": "3f985839",
   "metadata": {},
   "outputs": [],
   "source": [
    "def ventas_por_trimestre():\n",
    "    # 1. Asegurar que 'fecha' es datetime\n",
    "    df[\"fecha\"] = pd.to_datetime(df[\"fecha\"])\n",
    "\n",
    "    # 2. Crear columna de trimestre\n",
    "    df[\"trimestre\"] = df[\"fecha\"].dt.to_period(\"Q\").astype(str).str.replace(\"2023Q\", \"T\")\n",
    "\n",
    "    # 3. Agrupar por trimestre y método de pago\n",
    "    ventas_trimestre = (\n",
    "        df.groupby([\"trimestre\", \"metodo_pago\"])[\"facturacion\"].sum().unstack(fill_value=0)\n",
    "    )\n",
    "\n",
    "    # 4. Colores personalizados\n",
    "    colores = [BLANCO, GRIS_3, AQUA_1, AQUA_3]  # Si hay más métodos, se repetirá #modificado\n",
    "\n",
    "    # 5. Crear gráfico apilado\n",
    "    fig, ax = plt.subplots(figsize=(10, 6), facecolor=GRIS_1)\n",
    "    ventas_trimestre.plot(\n",
    "        kind=\"bar\",\n",
    "        stacked=True,\n",
    "        ax=ax,\n",
    "        color=colores,\n",
    "        edgecolor=GRIS_1,\n",
    "    )\n",
    "\n",
    "    # 6. Personalización visual\n",
    "    ax.set_facecolor(GRIS_1)\n",
    "    ax.set_title(\"Ventas por Trimestre y Método de Pago en 2023\", fontsize=18, color=GRIS_5)\n",
    "\n",
    "    # Eje X\n",
    "    ax.set_xlabel(\"\")\n",
    "    ax.set_xticklabels(ventas_trimestre.index, fontsize=12, color=AZUL_1, rotation=0)\n",
    "\n",
    "    # Eje Y\n",
    "    ax.set_ylabel(\"\")\n",
    "    yticks_mxn = [f\"MXN${int(y / 1e6)}M\" for y in ax.get_yticks()]\n",
    "    ax.set_yticklabels(yticks_mxn, fontsize=12, color=AZUL_1)\n",
    "\n",
    "    # Leyenda\n",
    "    ax.legend(title=\"Método de Pago por trimestre de 2023\", loc=\"upper left\")\n",
    "\n",
    "    # Bordes eliminados\n",
    "    for spine in [\"top\", \"bottom\", \"left\", \"right\"]:\n",
    "        ax.spines[spine].set_visible(False)\n",
    "\n",
    "    # Cuadrícula punteada en Y\n",
    "    ax.yaxis.grid(True, linestyle=\":\", color=GRIS_3)\n",
    "    ax.xaxis.grid(False)\n",
    "\n",
    "    plt.tight_layout()\n",
    "    return plt"
   ]
  },
  {
   "cell_type": "code",
   "execution_count": 55,
   "id": "5e87e9db",
   "metadata": {},
   "outputs": [
    {
     "data": {
      "image/png": "[encoded data removed]",
      "text/plain": [
       "<Figure size 1000x600 with 1 Axes>"
      ]
     },
     "metadata": {},
     "output_type": "display_data"
    }
   ],
   "source": [
    "ventas_por_trimestre().show()"
   ]
  },
  {
   "cell_type": "markdown",
   "id": "1fb7a516",
   "metadata": {},
   "source": [
    "#### Comentarios\n",
    "---\n",
    "Ajustamos el gráfico de barras apiladas representando con colores más suaves los valores de los métodos de pago. Podemos notar cosas interesantes en este gráfico, como: el 2º y 4º trimestre siendo los momentos en que Zoop factura más con ventas, y también el aumento en los pagos de las compras realizadas por los clientes mediante tarjeta de crédito."
   ]
  },
  {
   "cell_type": "markdown",
   "id": "660c9b88",
   "metadata": {},
   "source": [
    "## Gráfico 5: Clientes participantes del programa de cashback"
   ]
  },
  {
   "cell_type": "code",
   "execution_count": 57,
   "id": "3b96d8fe",
   "metadata": {},
   "outputs": [
    {
     "data": {
      "application/vnd.plotly.v1+json": {
       "config": {
        "plotlyServerURL": "https://plot.ly"
       },
       "data": [
        {
         "customdata": [
          [
           "No"
          ],
          [
           "Sí"
          ]
         ],
         "domain": {
          "x": [
           0,
           1
          ],
          "y": [
           0,
           1
          ]
         },
         "hovertemplate": "Participa=%{customdata[0]}<br>Cantidad=%{value}<extra></extra>",
         "labels": [
          "No",
          "Sí"
         ],
         "legendgroup": "",
         "marker": {
          "colors": [
           "#e74c3c",
           "#2ecc71"
          ]
         },
         "name": "",
         "pull": [
          0.05,
          0.1
         ],
         "showlegend": true,
         "type": "pie",
         "values": {
          "bdata": "5Q00Cg==",
          "dtype": "i2"
         }
        }
       ],
       "layout": {
        "legend": {
         "tracegroupgap": 0
        },
        "template": {
         "data": {
          "bar": [
           {
            "error_x": {
             "color": "#2a3f5f"
            },
            "error_y": {
             "color": "#2a3f5f"
            },
            "marker": {
             "line": {
              "color": "#E5ECF6",
              "width": 0.5
             },
             "pattern": {
              "fillmode": "overlay",
              "size": 10,
              "solidity": 0.2
             }
            },
            "type": "bar"
           }
          ],
          "barpolar": [
           {
            "marker": {
             "line": {
              "color": "#E5ECF6",
              "width": 0.5
             },
             "pattern": {
              "fillmode": "overlay",
              "size": 10,
              "solidity": 0.2
             }
            },
            "type": "barpolar"
           }
          ],
          "carpet": [
           {
            "aaxis": {
             "endlinecolor": "#2a3f5f",
             "gridcolor": "white",
             "linecolor": "white",
             "minorgridcolor": "white",
             "startlinecolor": "#2a3f5f"
            },
            "baxis": {
             "endlinecolor": "#2a3f5f",
             "gridcolor": "white",
             "linecolor": "white",
             "minorgridcolor": "white",
             "startlinecolor": "#2a3f5f"
            },
            "type": "carpet"
           }
          ],
          "choropleth": [
           {
            "colorbar": {
             "outlinewidth": 0,
             "ticks": ""
            },
            "type": "choropleth"
           }
          ],
          "contour": [
           {
            "colorbar": {
             "outlinewidth": 0,
             "ticks": ""
            },
            "colorscale": [
             [
              0,
              "#0d0887"
             ],
             [
              0.1111111111111111,
              "#46039f"
             ],
             [
              0.2222222222222222,
              "#7201a8"
             ],
             [
              0.3333333333333333,
              "#9c179e"
             ],
             [
              0.4444444444444444,
              "#bd3786"
             ],
             [
              0.5555555555555556,
              "#d8576b"
             ],
             [
              0.6666666666666666,
              "#ed7953"
             ],
             [
              0.7777777777777778,
              "#fb9f3a"
             ],
             [
              0.8888888888888888,
              "#fdca26"
             ],
             [
              1,
              "#f0f921"
             ]
            ],
            "type": "contour"
           }
          ],
          "contourcarpet": [
           {
            "colorbar": {
             "outlinewidth": 0,
             "ticks": ""
            },
            "type": "contourcarpet"
           }
          ],
          "heatmap": [
           {
            "colorbar": {
             "outlinewidth": 0,
             "ticks": ""
            },
            "colorscale": [
             [
              0,
              "#0d0887"
             ],
             [
              0.1111111111111111,
              "#46039f"
             ],
             [
              0.2222222222222222,
              "#7201a8"
             ],
             [
              0.3333333333333333,
              "#9c179e"
             ],
             [
              0.4444444444444444,
              "#bd3786"
             ],
             [
              0.5555555555555556,
              "#d8576b"
             ],
             [
              0.6666666666666666,
              "#ed7953"
             ],
             [
              0.7777777777777778,
              "#fb9f3a"
             ],
             [
              0.8888888888888888,
              "#fdca26"
             ],
             [
              1,
              "#f0f921"
             ]
            ],
            "type": "heatmap"
           }
          ],
          "histogram": [
           {
            "marker": {
             "pattern": {
              "fillmode": "overlay",
              "size": 10,
              "solidity": 0.2
             }
            },
            "type": "histogram"
           }
          ],
          "histogram2d": [
           {
            "colorbar": {
             "outlinewidth": 0,
             "ticks": ""
            },
            "colorscale": [
             [
              0,
              "#0d0887"
             ],
             [
              0.1111111111111111,
              "#46039f"
             ],
             [
              0.2222222222222222,
              "#7201a8"
             ],
             [
              0.3333333333333333,
              "#9c179e"
             ],
             [
              0.4444444444444444,
              "#bd3786"
             ],
             [
              0.5555555555555556,
              "#d8576b"
             ],
             [
              0.6666666666666666,
              "#ed7953"
             ],
             [
              0.7777777777777778,
              "#fb9f3a"
             ],
             [
              0.8888888888888888,
              "#fdca26"
             ],
             [
              1,
              "#f0f921"
             ]
            ],
            "type": "histogram2d"
           }
          ],
          "histogram2dcontour": [
           {
            "colorbar": {
             "outlinewidth": 0,
             "ticks": ""
            },
            "colorscale": [
             [
              0,
              "#0d0887"
             ],
             [
              0.1111111111111111,
              "#46039f"
             ],
             [
              0.2222222222222222,
              "#7201a8"
             ],
             [
              0.3333333333333333,
              "#9c179e"
             ],
             [
              0.4444444444444444,
              "#bd3786"
             ],
             [
              0.5555555555555556,
              "#d8576b"
             ],
             [
              0.6666666666666666,
              "#ed7953"
             ],
             [
              0.7777777777777778,
              "#fb9f3a"
             ],
             [
              0.8888888888888888,
              "#fdca26"
             ],
             [
              1,
              "#f0f921"
             ]
            ],
            "type": "histogram2dcontour"
           }
          ],
          "mesh3d": [
           {
            "colorbar": {
             "outlinewidth": 0,
             "ticks": ""
            },
            "type": "mesh3d"
           }
          ],
          "parcoords": [
           {
            "line": {
             "colorbar": {
              "outlinewidth": 0,
              "ticks": ""
             }
            },
            "type": "parcoords"
           }
          ],
          "pie": [
           {
            "automargin": true,
            "type": "pie"
           }
          ],
          "scatter": [
           {
            "fillpattern": {
             "fillmode": "overlay",
             "size": 10,
             "solidity": 0.2
            },
            "type": "scatter"
           }
          ],
          "scatter3d": [
           {
            "line": {
             "colorbar": {
              "outlinewidth": 0,
              "ticks": ""
             }
            },
            "marker": {
             "colorbar": {
              "outlinewidth": 0,
              "ticks": ""
             }
            },
            "type": "scatter3d"
           }
          ],
          "scattercarpet": [
           {
            "marker": {
             "colorbar": {
              "outlinewidth": 0,
              "ticks": ""
             }
            },
            "type": "scattercarpet"
           }
          ],
          "scattergeo": [
           {
            "marker": {
             "colorbar": {
              "outlinewidth": 0,
              "ticks": ""
             }
            },
            "type": "scattergeo"
           }
          ],
          "scattergl": [
           {
            "marker": {
             "colorbar": {
              "outlinewidth": 0,
              "ticks": ""
             }
            },
            "type": "scattergl"
           }
          ],
          "scattermap": [
           {
            "marker": {
             "colorbar": {
              "outlinewidth": 0,
              "ticks": ""
             }
            },
            "type": "scattermap"
           }
          ],
          "scattermapbox": [
           {
            "marker": {
             "colorbar": {
              "outlinewidth": 0,
              "ticks": ""
             }
            },
            "type": "scattermapbox"
           }
          ],
          "scatterpolar": [
           {
            "marker": {
             "colorbar": {
              "outlinewidth": 0,
              "ticks": ""
             }
            },
            "type": "scatterpolar"
           }
          ],
          "scatterpolargl": [
           {
            "marker": {
             "colorbar": {
              "outlinewidth": 0,
              "ticks": ""
             }
            },
            "type": "scatterpolargl"
           }
          ],
          "scatterternary": [
           {
            "marker": {
             "colorbar": {
              "outlinewidth": 0,
              "ticks": ""
             }
            },
            "type": "scatterternary"
           }
          ],
          "surface": [
           {
            "colorbar": {
             "outlinewidth": 0,
             "ticks": ""
            },
            "colorscale": [
             [
              0,
              "#0d0887"
             ],
             [
              0.1111111111111111,
              "#46039f"
             ],
             [
              0.2222222222222222,
              "#7201a8"
             ],
             [
              0.3333333333333333,
              "#9c179e"
             ],
             [
              0.4444444444444444,
              "#bd3786"
             ],
             [
              0.5555555555555556,
              "#d8576b"
             ],
             [
              0.6666666666666666,
              "#ed7953"
             ],
             [
              0.7777777777777778,
              "#fb9f3a"
             ],
             [
              0.8888888888888888,
              "#fdca26"
             ],
             [
              1,
              "#f0f921"
             ]
            ],
            "type": "surface"
           }
          ],
          "table": [
           {
            "cells": {
             "fill": {
              "color": "#EBF0F8"
             },
             "line": {
              "color": "white"
             }
            },
            "header": {
             "fill": {
              "color": "#C8D4E3"
             },
             "line": {
              "color": "white"
             }
            },
            "type": "table"
           }
          ]
         },
         "layout": {
          "annotationdefaults": {
           "arrowcolor": "#2a3f5f",
           "arrowhead": 0,
           "arrowwidth": 1
          },
          "autotypenumbers": "strict",
          "coloraxis": {
           "colorbar": {
            "outlinewidth": 0,
            "ticks": ""
           }
          },
          "colorscale": {
           "diverging": [
            [
             0,
             "#8e0152"
            ],
            [
             0.1,
             "#c51b7d"
            ],
            [
             0.2,
             "#de77ae"
            ],
            [
             0.3,
             "#f1b6da"
            ],
            [
             0.4,
             "#fde0ef"
            ],
            [
             0.5,
             "#f7f7f7"
            ],
            [
             0.6,
             "#e6f5d0"
            ],
            [
             0.7,
             "#b8e186"
            ],
            [
             0.8,
             "#7fbc41"
            ],
            [
             0.9,
             "#4d9221"
            ],
            [
             1,
             "#276419"
            ]
           ],
           "sequential": [
            [
             0,
             "#0d0887"
            ],
            [
             0.1111111111111111,
             "#46039f"
            ],
            [
             0.2222222222222222,
             "#7201a8"
            ],
            [
             0.3333333333333333,
             "#9c179e"
            ],
            [
             0.4444444444444444,
             "#bd3786"
            ],
            [
             0.5555555555555556,
             "#d8576b"
            ],
            [
             0.6666666666666666,
             "#ed7953"
            ],
            [
             0.7777777777777778,
             "#fb9f3a"
            ],
            [
             0.8888888888888888,
             "#fdca26"
            ],
            [
             1,
             "#f0f921"
            ]
           ],
           "sequentialminus": [
            [
             0,
             "#0d0887"
            ],
            [
             0.1111111111111111,
             "#46039f"
            ],
            [
             0.2222222222222222,
             "#7201a8"
            ],
            [
             0.3333333333333333,
             "#9c179e"
            ],
            [
             0.4444444444444444,
             "#bd3786"
            ],
            [
             0.5555555555555556,
             "#d8576b"
            ],
            [
             0.6666666666666666,
             "#ed7953"
            ],
            [
             0.7777777777777778,
             "#fb9f3a"
            ],
            [
             0.8888888888888888,
             "#fdca26"
            ],
            [
             1,
             "#f0f921"
            ]
           ]
          },
          "colorway": [
           "#636efa",
           "#EF553B",
           "#00cc96",
           "#ab63fa",
           "#FFA15A",
           "#19d3f3",
           "#FF6692",
           "#B6E880",
           "#FF97FF",
           "#FECB52"
          ],
          "font": {
           "color": "#2a3f5f"
          },
          "geo": {
           "bgcolor": "white",
           "lakecolor": "white",
           "landcolor": "#E5ECF6",
           "showlakes": true,
           "showland": true,
           "subunitcolor": "white"
          },
          "hoverlabel": {
           "align": "left"
          },
          "hovermode": "closest",
          "mapbox": {
           "style": "light"
          },
          "paper_bgcolor": "white",
          "plot_bgcolor": "#E5ECF6",
          "polar": {
           "angularaxis": {
            "gridcolor": "white",
            "linecolor": "white",
            "ticks": ""
           },
           "bgcolor": "#E5ECF6",
           "radialaxis": {
            "gridcolor": "white",
            "linecolor": "white",
            "ticks": ""
           }
          },
          "scene": {
           "xaxis": {
            "backgroundcolor": "#E5ECF6",
            "gridcolor": "white",
            "gridwidth": 2,
            "linecolor": "white",
            "showbackground": true,
            "ticks": "",
            "zerolinecolor": "white"
           },
           "yaxis": {
            "backgroundcolor": "#E5ECF6",
            "gridcolor": "white",
            "gridwidth": 2,
            "linecolor": "white",
            "showbackground": true,
            "ticks": "",
            "zerolinecolor": "white"
           },
           "zaxis": {
            "backgroundcolor": "#E5ECF6",
            "gridcolor": "white",
            "gridwidth": 2,
            "linecolor": "white",
            "showbackground": true,
            "ticks": "",
            "zerolinecolor": "white"
           }
          },
          "shapedefaults": {
           "line": {
            "color": "#2a3f5f"
           }
          },
          "ternary": {
           "aaxis": {
            "gridcolor": "white",
            "linecolor": "white",
            "ticks": ""
           },
           "baxis": {
            "gridcolor": "white",
            "linecolor": "white",
            "ticks": ""
           },
           "bgcolor": "#E5ECF6",
           "caxis": {
            "gridcolor": "white",
            "linecolor": "white",
            "ticks": ""
           }
          },
          "title": {
           "x": 0.05
          },
          "xaxis": {
           "automargin": true,
           "gridcolor": "white",
           "linecolor": "white",
           "ticks": "",
           "title": {
            "standoff": 15
           },
           "zerolinecolor": "white",
           "zerolinewidth": 2
          },
          "yaxis": {
           "automargin": true,
           "gridcolor": "white",
           "linecolor": "white",
           "ticks": "",
           "title": {
            "standoff": 15
           },
           "zerolinecolor": "white",
           "zerolinewidth": 2
          }
         }
        },
        "title": {
         "text": "Proporción de participación en el programa de cashback de Zoop"
        }
       }
      }
     },
     "metadata": {},
     "output_type": "display_data"
    }
   ],
   "source": [
    "import plotly.express as px\n",
    "\n",
    "# Contar cuántos clientes participan o no en el programa\n",
    "cashback_counts = df[\"cashback\"].value_counts().reset_index()\n",
    "cashback_counts.columns = [\"Participa\", \"Cantidad\"]\n",
    "\n",
    "# Crear diccionario de colores personalizados\n",
    "colores_personalizados = {\"Sí\": \"#2ecc71\", \"No\": \"#e74c3c\"}  # Verde  # Rojo\n",
    "\n",
    "# Definir explosión para separar las secciones del gráfico\n",
    "pull_valores = [0.1 if val == \"Sí\" else 0.05 for val in cashback_counts[\"Participa\"]]\n",
    "\n",
    "# Crear gráfico circular con colores y separación\n",
    "fig = px.pie(\n",
    "    cashback_counts,\n",
    "    names=\"Participa\",\n",
    "    values=\"Cantidad\",\n",
    "    title=\"Proporción de participación en el programa de cashback de Zoop\",\n",
    "    color=\"Participa\",\n",
    "    color_discrete_map=colores_personalizados,\n",
    "    # hole=0.3,\n",
    ")\n",
    "\n",
    "# Aplicar la separación (pull)\n",
    "fig.update_traces(pull=pull_valores)\n",
    "\n",
    "# Mostrar gráfico interactivo\n",
    "fig.show()"
   ]
  },
  {
   "cell_type": "markdown",
   "id": "74804752",
   "metadata": {},
   "source": [
    "### Prompt\n",
    "\n",
    "Ahora, vamos a refinar el gráfico de dona que produjimos para la proporción de usuarios que se adhieren al programa de cashback.\n",
    "\n",
    "Recuerda que el script original del gráfico es el siguiente:\n",
    "\n",
    "```python\n",
    "import plotly.express as px\n",
    "\n",
    "# Contar cuántos clientes participan o no en el programa\n",
    "cashback_counts = df[\"cashback\"].value_counts().reset_index()\n",
    "cashback_counts.columns = [\"Participa\", \"Cantidad\"]\n",
    "\n",
    "# Crear diccionario de colores personalizados\n",
    "colores_personalizados = {\"Sí\": \"#2ecc71\", \"No\": \"#e74c3c\"}  # Verde  # Rojo\n",
    "\n",
    "# Definir explosión para separar las secciones del gráfico\n",
    "pull_valores = [0.1 if val == \"Sí\" else 0.05 for val in cashback_counts[\"Participa\"]]\n",
    "\n",
    "# Crear gráfico circular con colores y separación\n",
    "fig = px.pie(\n",
    "    cashback_counts,\n",
    "    names=\"Participa\",\n",
    "    values=\"Cantidad\",\n",
    "    title=\"Proporción de participación en el programa de cashback de Zoop\",\n",
    "    color=\"Participa\",\n",
    "    color_discrete_map=colores_personalizados,\n",
    "    # hole=0.3,\n",
    ")\n",
    "\n",
    "# Aplicar la separación (pull)\n",
    "fig.update_traces(pull=pull_valores)\n",
    "\n",
    "# Mostrar gráfico interactivo\n",
    "fig.show()\n",
    "```\n",
    "\n",
    "Nuestro gráfico debe seguir la identidad visual de Zoop, debe ser un gráfico de dona con el fondo de la figura y del gráfico en el color GRIS_1, el color de la porción de valor \"No\" igual a GRIS_3, el color de la porción de valor \"Sí\" igual a AZUL_1 y el tamaño de la figura debe ser de (6, 6).\n",
    "\n",
    "El título de la figura es \"¿Participan en el programa de cashback?\" con un tamaño de 18 y su color GRIS_5.\n",
    "\n",
    "Las etiquetas de las porciones deben tener el mismo color que las porciones y un tamaño de 12, y los porcentajes deben estar en color BLANCO, también con un tamaño de 12.\n",
    "\n",
    "La propiedad de ancho de la dona (wedgeprops) debe ser de 0.4, la posición de los porcentajes dentro de la porción (pctdistance) debe ser de 0.8, el ángulo de inicio debe ser de 180 (startangle), y sin explosión de porciones.\n",
    "\n",
    "Utiliza las bibliotecas de visualización de datos de Python para crear esta visualización.\n",
    "\n",
    "### Respuesta\n",
    "\n",
    "Aquí tienes el gráfico de dona refinado sobre la participación en el programa de cashback de Zoop, **siguiendo fielmente la identidad visual de Zoop y todos los parámetros solicitados**, utilizando **`matplotlib`**:\n",
    "\n",
    "---\n",
    "\n",
    "### ✅ Código con `matplotlib`:\n",
    "\n",
    "```python\n",
    "import pandas as pd\n",
    "import matplotlib.pyplot as plt\n",
    "\n",
    "# Colores institucionales Zoop\n",
    "ROJO_1, ROJO_2, ROJO_3 = \"#e23155\", \"#cc2c4e\", \"#b32742\"\n",
    "AZUL_1, AZUL_2, AZUL_3 = \"#203f75\", \"#1c3867\", \"#19325b\"\n",
    "BLANCO, GRIS_1, GRIS_2, GRIS_3, GRIS_4, GRIS_5 = (\n",
    "    \"#ffffff\", \"#ebebeb\", \"#d9d9d9\", \"#cccccc\", \"#555655\", \"#231f20\"\n",
    ")\n",
    "AQUA_1, AQUA_2, AQUA_3 = \"#addcd4\", \"#9fccc5\", \"#96bfb9\"\n",
    "\n",
    "# Contar participación en programa cashback\n",
    "cashback_counts = df[\"cashback\"].value_counts().reset_index()\n",
    "cashback_counts.columns = [\"Participa\", \"Cantidad\"]\n",
    "\n",
    "# Preparar datos para el gráfico\n",
    "labels = cashback_counts[\"Participa\"]\n",
    "sizes = cashback_counts[\"Cantidad\"]\n",
    "colors = [AZUL_1 if label == \"Sí\" else GRIS_3 for label in labels]\n",
    "\n",
    "# Crear gráfico de dona\n",
    "fig, ax = plt.subplots(figsize=(6, 6), facecolor=GRIS_1)\n",
    "wedges, texts, autotexts = ax.pie(\n",
    "    sizes,\n",
    "    labels=labels,\n",
    "    colors=colors,\n",
    "    startangle=180,\n",
    "    wedgeprops={\"width\": 0.4},\n",
    "    pctdistance=0.8,\n",
    "    autopct=\"%1.0f%%\",\n",
    "    textprops={\"fontsize\": 12, \"weight\": \"bold\"},\n",
    ")\n",
    "\n",
    "# Personalizar etiquetas y porcentajes\n",
    "for text, label in zip(texts, labels):\n",
    "    text.set_color(AZUL_1 if label == \"Sí\" else GRIS_3)\n",
    "    text.set_fontsize(12)\n",
    "for autotext in autotexts:\n",
    "    autotext.set_color(BLANCO)\n",
    "    autotext.set_fontsize(12)\n",
    "\n",
    "# Fondo del gráfico\n",
    "ax.set_facecolor(GRIS_1)\n",
    "fig.patch.set_facecolor(GRIS_1)\n",
    "\n",
    "# Título\n",
    "plt.title(\"¿Participan en el programa de cashback?\", fontsize=18, color=GRIS_5)\n",
    "\n",
    "plt.tight_layout()\n",
    "plt.show()\n",
    "```\n",
    "\n",
    "---\n",
    "\n",
    "### 🎯 Ajustes realizados:\n",
    "\n",
    "* ✅ Dona de grosor 0.4 (`wedgeprops`).\n",
    "* ✅ Inicio en 180° (`startangle=180`).\n",
    "* ✅ Sin explosiones.\n",
    "* ✅ Colores Zoop: `AZUL_1` y `GRIS_3`.\n",
    "* ✅ Porcentajes en blanco (`BLANCO`) y etiquetas del mismo color de sus porciones.\n",
    "* ✅ Estilo sobrio y profesional con fondo `GRIS_1`.\n",
    "\n",
    "¿Quieres agregar una anotación dentro de la dona o exportar este gráfico como imagen?"
   ]
  },
  {
   "cell_type": "code",
   "execution_count": null,
   "id": "8509a065",
   "metadata": {},
   "outputs": [],
   "source": [
    "def proporcion_cashback():\n",
    "    # Contar participación en programa cashback\n",
    "    cashback_counts = df[\"cashback\"].value_counts().reset_index()\n",
    "    cashback_counts.columns = [\"Participa\", \"Cantidad\"]\n",
    "\n",
    "    # Preparar datos para el gráfico\n",
    "    labels = cashback_counts[\"Participa\"]\n",
    "    sizes = cashback_counts[\"Cantidad\"]\n",
    "    colors = [AZUL_1 if label == \"Sí\" else GRIS_3 for label in labels]\n",
    "\n",
    "    # Crear gráfico de dona\n",
    "    fig, ax = plt.subplots(figsize=(6, 6), facecolor=GRIS_1)\n",
    "    wedges, texts, autotexts = ax.pie(\n",
    "        sizes,\n",
    "        labels=labels,\n",
    "        colors=colors,\n",
    "        startangle=180,\n",
    "        wedgeprops={\"width\": 0.4},\n",
    "        pctdistance=0.8,\n",
    "        autopct=\"%1.0f%%\",\n",
    "        textprops={\"fontsize\": 12, \"weight\": \"bold\"},\n",
    "    )\n",
    "\n",
    "    # Personalizar etiquetas y porcentajes\n",
    "    for text, label in zip(texts, labels):\n",
    "        text.set_color(AZUL_1 if label == \"Sí\" else GRIS_3)\n",
    "        text.set_fontsize(12)\n",
    "    for autotext in autotexts:\n",
    "        autotext.set_color(BLANCO)\n",
    "        autotext.set_fontsize(12)\n",
    "\n",
    "    # Fondo del gráfico\n",
    "    ax.set_facecolor(GRIS_1)\n",
    "    fig.patch.set_facecolor(GRIS_1)\n",
    "\n",
    "    # Título\n",
    "    plt.title(\"¿Participan en el programa de cashback?\", fontsize=18, color=GRIS_5)\n",
    "\n",
    "    plt.tight_layout()\n",
    "    return plt"
   ]
  },
  {
   "cell_type": "code",
   "execution_count": 61,
   "id": "49198480",
   "metadata": {},
   "outputs": [
    {
     "data": {
      "image/png": "[encoded data removed]",
      "text/plain": [
       "<Figure size 600x600 with 1 Axes>"
      ]
     },
     "metadata": {},
     "output_type": "display_data"
    }
   ],
   "source": [
    "proporcion_cashback().show()"
   ]
  },
  {
   "cell_type": "markdown",
   "id": "b7ca33ac",
   "metadata": {},
   "source": [
    "## Gráfico 6: Evaluaciones de los productos:"
   ]
  },
  {
   "cell_type": "code",
   "execution_count": 62,
   "id": "9a9f7357",
   "metadata": {},
   "outputs": [
    {
     "data": {
      "application/vnd.plotly.v1+json": {
       "config": {
        "plotlyServerURL": "https://plot.ly"
       },
       "data": [
        {
         "bingroup": "x",
         "hovertemplate": "Calificación=%{x}<br>count=%{y}<extra></extra>",
         "legendgroup": "",
         "marker": {
          "color": "#3498db",
          "pattern": {
           "shape": ""
          }
         },
         "name": "",
         "nbinsx": 11,
         "orientation": "v",
         "showlegend": false,
         "type": "histogram",
         "x": {
          "bdata": "CggHCQkKCggKCQcKCgcJCgkJCQkJBwgJCgcHCQcBCQkJCQkHCQoJCQoKBwoICQkICAEICAkKCgkJCAIKCAgKBwgJCQoHCQMKAgoJCQkJCQcICgkICQoJCQoJAAoJCgkJCAkICQkJBwcJCgkKCQoJCQoKCgcJCQYJCgoKCAgJCggHCQoKCQoJCQoJCAoJCAkJCQkICAoJCgkHBgoKCQkICQkKAwkJBwkCBgoIBwkJCQkICQkHBwkKBwkJBwcJCgkJCQoJCAkJCQoJCQkKCggKBwoJCQIBCQoFBwcJCAoDCgcICgkICQkFCQoICQkHCAkKCQMJBwoKCQkJCAkJCQgJBwkIBgoJCQUIBwkCCQkHCAkKCQoKCQkEAQkKCQkKAggICQoICQkJCQkJCggICAkKBwkHCQoICQoKBwkKBwoICgoKCQkJCQoJCAkJCgkKCQkIBwkICgcHCAkJCQUKCQoECAgKBwcCBwcGCQkKCQoHCgoGCQgKCAkICgoJBAoICQoHCQkFBgkJCAkBCgkJBgoJCgkBAgkJCQkJCQkKCQkJCggKCQgICAoKCQcJAwcKCQkKCgkHBwkICQkHCQgICAoKBwkICQkJCgkGBwkICQoJBAoEBggJCgoJCQkHCQgKCgkJCQgKCQUKCAoHCgkJCgoIBwoJCQgICQoJCQoJCQUJCggICggABwQJBwkKCAgJCgYKCQoJCAoIBwkJBwkICQoKCQkHCgoJCQkJCgoECgkHAQoIBgcIBgoCCgkACQkJCQcHCQoHBwoJCgkJCQkJCQkKBgkJBQkICgcJCQgKCQMJCgcJCQkJCgYIBwoJCQkHCQkHCggJCQoJCgkJCQkHCAoJCQkJCQcHCQkICgMICQkICQgHCgkJBwgJCgkJBgkJCgkJCAoKBwkKCAcHCQkKAgoJBgoHCAkJCgcKCgMHCQkKAwgKAwoKCgkJCAIGCgkJCgkHCAoJCgoGCQoJCAkJCgoKCQkKCQkKCQkJCQkJCAcJCQcJBQkKCAcKCQkJBwoJCgoJCgkICgoICgkJCQkJCgoICQkKCgkKBwcJCQkJCAkKCAcHCgoKCQgJCAgJCgQJCAoICQkJCQoHCQQJCQQIBgkICQkICgoJCAkKBwcJBgoICgcJCAoJCggICQcHCQgJBQcJCgkHCQkKBwAHCgkHCQoJBwkECAkHCQcKBwoJCQkKCQkJBwoHCQkKCggGCQoKCQoJBgoKBwoJCAkJCAcKCgoICAoJCgoJBQkHBAkHCQgIBwcKCgoJCAoKCQkKCQkKCgcIBwcKCQkICQoKCAgICQkJCAkBCgkJCQAKCgkHCQkJBwcJCAkEBwkHCQgBBgoKBwgKBwkHCQgJCgkKBwoICQcJCAgJBQoFCgQJCgoKCQkJBAYHCgkABQkJCgoKCQoIBQkKCgcKBAkJCgkACgkJBggHCgcICgUJCgoIAAUICQoHCQgJCgoHCggHBwkJCgkJCQkICAoJCgYGCgUKCgkHCQoICgYJCAQICAkFCAkJCggKCQoKCQkHCQcJAwoKBgkJCQkHAQkIBQkJCQQICAoJBAoKCgcKBwcECgkICQoKCQoEBwcJCAgJCQkKCgoJCQQICgkJCAkKBwcJCQQJAQoJCQgJCgkJCQcJCAcJCQIKAgoJCAkJCQkJBgkJCAkHCAoHBAYICgcFCQoJCQcECQkJCQoJCQoKCQkICgkJCQkICgcKCQcIBwkGCQoHCQkICgkJCQkKAgIGCQkIBwkICQkJCgkBCgMIBgkKCgcJCgkJCQkICAoKCQgKAwkJCQoJCQoJCQgKCgYJAQkKCggKCgYJCQkIBAoIBwoKBwkKCgcJCgkJCgkJCQgJCAoJCgkICQkIBgkJCAgHCQgJCgkKCgkGCgkJCQkCAggKCgkJCQkJBwUHCQcICgcKCgcJCQkKCgcJCgkJCQgCCgcJCQgJBwoKCggKCQkKCQoJCQkHCgkJCgkECQgJCAcKCAcJCQgDCgkECQoKCQoICQoJCQoJCAgJCgkJCQgCCgkKCAcJCgkJCQkJCQkHCQgICgMKBwkJCggJCAoIBwcJCQkHCQgHCQkICQgHCgkICQYJCgkICQkJCgoGBAUICgkJAQkKCgkFCQcKCAcJCgkGCQkJCgoJAQoDCQoJCgkGCgkHCgcKCAgCCgoHCgcKBwoFCQgJCgcCCQkJCgcKCQgKCgcECgoJCQkICQgJCQkACgoKBwkKCAkJAQoJBwkJBwoICgkGCgkJCAkKCgoJCAYKCQgICQgIBwkJCQkKCgkHCAIKCQgJCgAJCQgICQkJCgkICQkDCgoJCgkJBQcICAoKCQkJCQkKCgkICQkKCAoJCQkKCQkJCAkJCAkJBwcKBwgJCgkKCQoICQgHCQgECAgJCQkJCQIKBAgJCAkKCggCBwoHCAcKCQgKCQkKCQcJCQoJBwoICQkJCQYICgkKCAoKCgUICgoHCgoJCQoFCgoKCQkIBwoIBAkJCQcJCAgJCQgHCQICBwkJCgkJCQkKCQkHCQkJBwoJCQkICQYKBwcJCQkJCQkHCgcKBAkJCgkKCgUKCQoJCgkJCAUJCQQICggKCQkKCgoJCgoECQgJAgcJCQkJCQkKCQkHCQkJBwgGCQkKBwcJCQgHCgAKCQgHAQoKCQcFCggICQkKCQkJBwkJCQoJCAkJCAoJCQkJCggJCgkJCgoJCQkHCQkJBwkHCQkJCgkJCQoICQoKCAgIAgkKCQkICgkIAwYJCQgJCgEKCgkICQcHCQEHCgAJCggKCgkJCAkJCQgKBwkHCQgKCQkGAQkIBwgJCQkJAwkHBwkJBwkECgoGBwoICgcJCAoHCQkKCAgJCQoJCgoIBQkICgUICAkJCgQJCQkJCQkKCAkICQQJBwgKCgkJCgkJBAoJCQkJCQgJCgoKCQkJCQQJCgoJBwoJCQkJCgoKCQgKBwkKCQkKCggJCAoICQcKCAkKCQoJCQkHAwkICggKCgcFBwoJBwoHCQkKBwcHCgoJCQkKAggJCQcDCQoICQkJCQoHCQcJCAoJCQoKCQcIBwkGCQoJCQkHCQkKCgkGCgkJBwkKBAkICgoHCgoICQkECQoJCQoKCQgKCgcJCQkHBwkKCgkKCQkJCAkFCQgKCQgJCAoIAwgJCQkJCAkKBwgKBwkKBwkJCgcECQkJCQoJCQkJBwoJCQkHCQkGCgkICQkKBwgJCAkKCgcECgoJCQkJBwcJCQgHCQkJCAcJCAgICgcKCQgKBwQJCAgHBgoFCQcJCggICQkECQkDCQoKBwkJCggHCQkJBwcKCQYICQMICQgJCQkICQoJBgkHCQkJCAcHCQoKCQkICQkJCQkKBwcHCgcKCQkHCgkDCgoKCAkKBwoKCgkFCQoGCgkFBAkIBwoCCgkHCQkJBgcJCQcBCAgFCgkCCQkKCQgJCgUKCgoJCQkIBAgJCQAHCAkHCgUICQcICQYKCQkJCgkKCgkJCgcICAkKCgcGCQoKCQkJBwgJCgkJCgcICAcJBgkKAAgKCQkJCQoJCgoJCgkICAkKCgoHCggJCAkJCAoFCQcJCQkFBwkKCgcJCAgICQkJBwkECQkKCAkJCQgKBAoJAwgIBQkIBgoICQkKCQgIBwYHCQIKCQcKBQcICgkJCAkKCAgIAAoJCAcICQoJCQoHCQkJCgkKCgoCBwkJCQkGCAcICQkJBwcICgoJCAkKCAoJCgkACQkICQkJBwkICAkHCQkHCgkJCgkJCAcJCAkKBgkJBgcJCQUJCQkJCgoJCgcJCgcJCgoHCQgGCgoJCAgHCAcHCgoICQcKBAkJBwkJCQcJCQkKCgoICQgKCQkJAwkJCgcECAoJCggIBQkKBwgHCQkKAwkKCgcICAkJCAcJBwkKCgoECgoKCAkJCAkKBwoKCQgKCQoJCAkKCAoGCQkKCQkKCQkJAAkJCgoJCQgJCAYFBAkKCQkJCgIHCgkECQkICQcKBgkHBwkBCQkJCggICgkHBwoKCgoKBwkICQgJCQgJBwkHCQkHCgcHCgcKCQoJCAkKCQoKBwUJCgkKCAkJCgcJCAgHCQQJCggJCQkKCAoKCQUEBwkICQgJCggHCAgJCAkJCQgJCAYHAQoKCgkFCgkJCQYJCQcHCgoHCgoJCQkHCgkJCQoKCQkKAgoKCgoJCgoECgkKCgoJCAkJCgoIBQkKCggHCAoJCgoJCQYJBwgDAAkJBwoHCAoJCAcJCQkKCQkJBAQICQQICQkJCQkKCAQKCggICAoKCQkFCAkBCQkJCggJCAkJCQkJBwoJCQkKCgkJCQoKCgcDCgkJCQoKCAcJCggDCAcHCAQIBwkJCgkGCQoJCgoJCQoJCQcJCQkJBwkKCgcJCAYKCQcKCAoICAcICQAJBwoHBQQIBwAJCQkICQkJBwoKCQcKCQgJCQkJCAkJBwoKCQkJCAUJCAkJCQoGCgkICgkECQkHBwgICQoKCQkJCAkJCggJCgoJCQkICgoECQoJCQoICgYJCQcKBAoKCQoJCQoDCQcJCQkICgkJCQkJCAcKCQkICQgJCggJCgcJCggECQgJCQkICQkJCQkIBwoJCgMKCQkJCQoJCgoJCQgKCgkGBgkICQMICQoJCQoJCQkKCggKCgYHCQcJBAgKCQkKCgkJCgkACQIIBwkKCgkGCQoICgcIBgoJCgoKCgkJCgkKCQoJCgkJBgoJCAkJCgkIBwoJCAoJCQkHCQIGCggICQUKCQcIBwgHCgoICAkICQoJCgoJBwkJCgkKCAYKCQkJBwoJCgkJCgkKCQkJCgkKCQkICQcKCgcJCgkKCgoJCQkJCgoJCgoICgoHCQkJCQkICQgKCQkICQgHCAgJCQQHCAgDBAMKAAoFCQoJCQkICgcKCgcDCQUJBwkKCQkKCQkICgkHCQcKCQoKCQkJCQoKCgoKCQkJCAkJBwkJCgcJCQkJBwoICQkJCQIIBwgJCgUJCgkHCAkKCgUJCgoIBwkJCgoCCQoKCAoKCgkJCQcJCQkJBgkHCQoHCAYKCAoJCQcKCQkJCQgJCQkKCAcJCQkJCQoHCgcICAoJCggJCQoECAgKCQcICAoKCgkKCAEJCAYKBwkKAggJCQkJBwkJCgkKCQoHCAkJCQoKBwgKCgkICAcJCQkKBwMICAcICQgIBwgHBwgKBwkICQkJCQgJCgkICQoKCgkFCQgJCAgCCAkJCgcKCgkJCQkJCQkJCAcJCQkDBgkJBQYECQoECAkKCQkICgoJCAkKCgcJCQYHCQMIAAkJCQkJCgQICgkHCQkJBwkJBgkKCQgFCQkJCQcGCQcJCQoJCQoJCAkJCQoICQkKCgkKBwkKCgkJCggJCgkJCAoKCAkJBgkJCQoHBgkJCAkKCQoICgcJCgkIBwcHCQkHBAkJCAcIAwgKCgcJCAYIBwcIAwgICQkJCQoICQkHCQcHBQoJCgQKCgkJCAgJCQgICQkKCQgJCggJCQkJCQkKCgkICQgJCgkJCgoICAgJCgkICAkHCQcJCggKCAoJCAgECAoHCQkJCgkJCQoJCQoJCAkKCQoKCgkJCAoJCgcIBwoICgYICQkIBwoKCQgKCgYJCgQJBwcKCQkJCQkHBwoIBAgKCgcGBwcJCggICQkHCQAKCQkJCggKCgkJBwkJCQUKBgkJCAkHCAkJCQoKCgcECAkJCgkCCAgJCgkECQoKCQgKCQkJBwkJCgkKCQkJCAoJAwkKCQkHCQkIBgoDCQkJCAkIBwMCCgkKCgkHCQcICAkICgkJCQoICQkICQQECgkKCAgJCgkICAoJCQoJCggJCQQJBwoKCQkHCQkICgkKCQgHCQkGCQkHCgkJCQkJCggJAgkJCgcACQkKCgcKCQIHCgkICQkJCQoKCQcJCQgHBQcKCQoIBwcJCQgHBwcKBwkICAcJCQkJCAoJCgUJCgkKCAcECgkICAkKCQcGCQcJCgoKCQgHCQgJCQkHCQcJCgkHCQcKCAoKCgkICQoIBwcICQkJCQkJBwgJCAkKBwgJCgkCCQoGBwkICAoJCQoHBwgJCQcJCgoHCQoKCQoHCAkJCAkKCAkJBAkJCQgICAoJCQoJAwkJCgkIAwoGCgkJCQkIBwoHCgMKCQgHCAoJCgoJBwkHBwoICAkKCgcJBwoBBwkKCgkJBwoJCAcHCgIJCgYKCQoJCQoHCQkKCQoJCQMKCQkKCQgJCQcCCAoJCgoKCggKCQgKCAoHCQkKCQAICAoKAwoKCQkICQoICQoJCQkJCgcJAwcICQkICQgKCggJCAoICQkJCgQKCgoJCQoKCQcGCQkHCAoJCAkJCQgKCgkICgkKCQcKCQgJCQYFBAcKCQkKCQMECgoKCgkJCgkECQgKCQkJBwkJCQkJBQcJBwoKCAkKCQoJCQoKBwkFCQQJCQoKCQkJCQoJBwoKCAoICAgJCggJCgoKBwoJCgoJCQgKCQkJBwkJCgkJBgkICQkHCQYHCQgJBQoKCAkIBwkJCQkJCggIAAcJCQkIBQkJCgkICAoJCAoJCQUJCQkKCgoJCgkKCQkJCAoKBwgFCQEICAgKBwkJCQkGBwgJCgYJCgoKCgoHBAkKBwcFCQkJCQgICAgJCQkJCgoJCQkJCAgJCgoJBwoKCAgJAgkJCAgJCAkKCQkJCQkJCgkJCgkJBwoICQkKBwoKCQkJBwcJCQgICQgKCAoJCQoBCggJCQkKAAoKCggICQcKCgkJCgkJCQgJCQkJBwoKCQoFCAoJBwkHCAkJCQkHCQgECgoJCgkJCQcKCQoJCQkJCQkHCQoCBwkKBwoIBwkKCQkJCQoKAAQKCQoKCAIJCQgICAkIBAoFCQgJCQcICgkKCAkKCAkDBwgKBwgFCQkHBQgKCQkJCggIBwoICAoHCQkKCQkKCAkJBwgICgkICQoDCgoJBwkJCQkICAkKBwcGCgkJCQkHCgMJCAkKCAkKCAEHCggICQkKCgcHCAgJCAkJCgoJCggJCQoKCAkICQkJCQgKCQkKCQkIBwoICgQIBwcKCgkJCQUKCgoKCAkJAgkJCQoICAoHCQcJCQkHCAoKCgcJCgkICgoKBwoJCQoJCQkKCgcKCQgJBwkJCQgKBwcICQkIAgkKCQkJCgoJCAkICAcJBwkICQoGBgoJCQoKCAkKCgoJCQkJBwoKBgoJCQoKCgkICgkIBAgACQkJCQoKCAoKCQcJCAoKCAkJCQgICgoKCQQJBwoICgkICggJCQkICgoKCQcJCAkJCAkICAgKCQgICAQJCQgICQkICgIHCgQJCQoHCgcKCAkKCQoKCgoJCQoKCQkEBwkKCQgKAgoJCQkJCQgICQkFCAkHCQoIBwoJBwoJCQYJCQgJCQkJCAcJCgoJCQcJCgkJCQkJBwkKCgoKCgoKCQkJCAoICQUHCQYKBwkKCggGCQgJCQoIBgkECgkJBAgJBwoKCQoJCQkICQkJCggICQgJCAgJCQIJCQoKCQkKBQcACgkIBwkIBwgJCQgKCQgJCQoKCgkJBwkICAoICQMJCgoJCAkHCQkHBwkHCQkKCQEJCgkICgoECQgIBwoHCQoJCQkJCQcFCQkKCQgJBwgJBwoHCQoICAkJCgkIBwcKCgcJCAkHCQoKCgoICQoDCQkKCgkJCQkGCQoJCQoICggHBwkKCQcJCQkKCQkIBwkHCQkIAQkKCAYKCgkJCAkJBggJCAgICgcKCQkHCQoKCgkKCgYFAgkJCQkJCAoICAkJCQgICgoJCgkJCQoJCQoJCQkIBwkJCgkICQcKBwkJCQkHCAoJCgkJBwkJCQkICgkICAkJCggJCQoJCQkKCQkICgoGCQkKCAkJCQoJCQkKCAkICQkICgYKBwcICQkCCQkKCQkHCQkJCggJCgoJCQgIBgoKAwoICQoJCAoKBwgKCQkJCQkJBwkJBQcKBwoJBgoJCggJCQkKCgoHCAkJCgcJBAkJCAoJBwoICQkJCQcJCAQJCAkICQoJCQcKBwoKCQkJAAgICQkKCQMJCQYKCgkKCgcHCgkJCgkJCAkHCAgHBAYICQkKCQoJBwoHCAoKCAkJCQkJCgoJCQoKBwgJCgoICAcJCQgBBwkICgoJCAkHCQkJCQkJCQcICggFBggJCQgJBQQHCgkKBAkJCAkJBwkBCQoJCAoKCgkJCQoHCAoKCQkKCgoKCgkJCgoHBwUJCQoKCQoKCgkJCQMKCQgKCQcJCgoHCggHBwoKBwcKBwoGCQkECQgKCAYJCggJCQkIBwkKBwoJCgoJCgcECgUJCAkICAgGCQkKCAkKBwcICgkJCQgKBwgJCQ==",
          "dtype": "i1"
         },
         "xaxis": "x",
         "yaxis": "y"
        }
       ],
       "layout": {
        "bargap": 0.2,
        "barmode": "relative",
        "legend": {
         "tracegroupgap": 0
        },
        "template": {
         "data": {
          "bar": [
           {
            "error_x": {
             "color": "#2a3f5f"
            },
            "error_y": {
             "color": "#2a3f5f"
            },
            "marker": {
             "line": {
              "color": "#E5ECF6",
              "width": 0.5
             },
             "pattern": {
              "fillmode": "overlay",
              "size": 10,
              "solidity": 0.2
             }
            },
            "type": "bar"
           }
          ],
          "barpolar": [
           {
            "marker": {
             "line": {
              "color": "#E5ECF6",
              "width": 0.5
             },
             "pattern": {
              "fillmode": "overlay",
              "size": 10,
              "solidity": 0.2
             }
            },
            "type": "barpolar"
           }
          ],
          "carpet": [
           {
            "aaxis": {
             "endlinecolor": "#2a3f5f",
             "gridcolor": "white",
             "linecolor": "white",
             "minorgridcolor": "white",
             "startlinecolor": "#2a3f5f"
            },
            "baxis": {
             "endlinecolor": "#2a3f5f",
             "gridcolor": "white",
             "linecolor": "white",
             "minorgridcolor": "white",
             "startlinecolor": "#2a3f5f"
            },
            "type": "carpet"
           }
          ],
          "choropleth": [
           {
            "colorbar": {
             "outlinewidth": 0,
             "ticks": ""
            },
            "type": "choropleth"
           }
          ],
          "contour": [
           {
            "colorbar": {
             "outlinewidth": 0,
             "ticks": ""
            },
            "colorscale": [
             [
              0,
              "#0d0887"
             ],
             [
              0.1111111111111111,
              "#46039f"
             ],
             [
              0.2222222222222222,
              "#7201a8"
             ],
             [
              0.3333333333333333,
              "#9c179e"
             ],
             [
              0.4444444444444444,
              "#bd3786"
             ],
             [
              0.5555555555555556,
              "#d8576b"
             ],
             [
              0.6666666666666666,
              "#ed7953"
             ],
             [
              0.7777777777777778,
              "#fb9f3a"
             ],
             [
              0.8888888888888888,
              "#fdca26"
             ],
             [
              1,
              "#f0f921"
             ]
            ],
            "type": "contour"
           }
          ],
          "contourcarpet": [
           {
            "colorbar": {
             "outlinewidth": 0,
             "ticks": ""
            },
            "type": "contourcarpet"
           }
          ],
          "heatmap": [
           {
            "colorbar": {
             "outlinewidth": 0,
             "ticks": ""
            },
            "colorscale": [
             [
              0,
              "#0d0887"
             ],
             [
              0.1111111111111111,
              "#46039f"
             ],
             [
              0.2222222222222222,
              "#7201a8"
             ],
             [
              0.3333333333333333,
              "#9c179e"
             ],
             [
              0.4444444444444444,
              "#bd3786"
             ],
             [
              0.5555555555555556,
              "#d8576b"
             ],
             [
              0.6666666666666666,
              "#ed7953"
             ],
             [
              0.7777777777777778,
              "#fb9f3a"
             ],
             [
              0.8888888888888888,
              "#fdca26"
             ],
             [
              1,
              "#f0f921"
             ]
            ],
            "type": "heatmap"
           }
          ],
          "histogram": [
           {
            "marker": {
             "pattern": {
              "fillmode": "overlay",
              "size": 10,
              "solidity": 0.2
             }
            },
            "type": "histogram"
           }
          ],
          "histogram2d": [
           {
            "colorbar": {
             "outlinewidth": 0,
             "ticks": ""
            },
            "colorscale": [
             [
              0,
              "#0d0887"
             ],
             [
              0.1111111111111111,
              "#46039f"
             ],
             [
              0.2222222222222222,
              "#7201a8"
             ],
             [
              0.3333333333333333,
              "#9c179e"
             ],
             [
              0.4444444444444444,
              "#bd3786"
             ],
             [
              0.5555555555555556,
              "#d8576b"
             ],
             [
              0.6666666666666666,
              "#ed7953"
             ],
             [
              0.7777777777777778,
              "#fb9f3a"
             ],
             [
              0.8888888888888888,
              "#fdca26"
             ],
             [
              1,
              "#f0f921"
             ]
            ],
            "type": "histogram2d"
           }
          ],
          "histogram2dcontour": [
           {
            "colorbar": {
             "outlinewidth": 0,
             "ticks": ""
            },
            "colorscale": [
             [
              0,
              "#0d0887"
             ],
             [
              0.1111111111111111,
              "#46039f"
             ],
             [
              0.2222222222222222,
              "#7201a8"
             ],
             [
              0.3333333333333333,
              "#9c179e"
             ],
             [
              0.4444444444444444,
              "#bd3786"
             ],
             [
              0.5555555555555556,
              "#d8576b"
             ],
             [
              0.6666666666666666,
              "#ed7953"
             ],
             [
              0.7777777777777778,
              "#fb9f3a"
             ],
             [
              0.8888888888888888,
              "#fdca26"
             ],
             [
              1,
              "#f0f921"
             ]
            ],
            "type": "histogram2dcontour"
           }
          ],
          "mesh3d": [
           {
            "colorbar": {
             "outlinewidth": 0,
             "ticks": ""
            },
            "type": "mesh3d"
           }
          ],
          "parcoords": [
           {
            "line": {
             "colorbar": {
              "outlinewidth": 0,
              "ticks": ""
             }
            },
            "type": "parcoords"
           }
          ],
          "pie": [
           {
            "automargin": true,
            "type": "pie"
           }
          ],
          "scatter": [
           {
            "fillpattern": {
             "fillmode": "overlay",
             "size": 10,
             "solidity": 0.2
            },
            "type": "scatter"
           }
          ],
          "scatter3d": [
           {
            "line": {
             "colorbar": {
              "outlinewidth": 0,
              "ticks": ""
             }
            },
            "marker": {
             "colorbar": {
              "outlinewidth": 0,
              "ticks": ""
             }
            },
            "type": "scatter3d"
           }
          ],
          "scattercarpet": [
           {
            "marker": {
             "colorbar": {
              "outlinewidth": 0,
              "ticks": ""
             }
            },
            "type": "scattercarpet"
           }
          ],
          "scattergeo": [
           {
            "marker": {
             "colorbar": {
              "outlinewidth": 0,
              "ticks": ""
             }
            },
            "type": "scattergeo"
           }
          ],
          "scattergl": [
           {
            "marker": {
             "colorbar": {
              "outlinewidth": 0,
              "ticks": ""
             }
            },
            "type": "scattergl"
           }
          ],
          "scattermap": [
           {
            "marker": {
             "colorbar": {
              "outlinewidth": 0,
              "ticks": ""
             }
            },
            "type": "scattermap"
           }
          ],
          "scattermapbox": [
           {
            "marker": {
             "colorbar": {
              "outlinewidth": 0,
              "ticks": ""
             }
            },
            "type": "scattermapbox"
           }
          ],
          "scatterpolar": [
           {
            "marker": {
             "colorbar": {
              "outlinewidth": 0,
              "ticks": ""
             }
            },
            "type": "scatterpolar"
           }
          ],
          "scatterpolargl": [
           {
            "marker": {
             "colorbar": {
              "outlinewidth": 0,
              "ticks": ""
             }
            },
            "type": "scatterpolargl"
           }
          ],
          "scatterternary": [
           {
            "marker": {
             "colorbar": {
              "outlinewidth": 0,
              "ticks": ""
             }
            },
            "type": "scatterternary"
           }
          ],
          "surface": [
           {
            "colorbar": {
             "outlinewidth": 0,
             "ticks": ""
            },
            "colorscale": [
             [
              0,
              "#0d0887"
             ],
             [
              0.1111111111111111,
              "#46039f"
             ],
             [
              0.2222222222222222,
              "#7201a8"
             ],
             [
              0.3333333333333333,
              "#9c179e"
             ],
             [
              0.4444444444444444,
              "#bd3786"
             ],
             [
              0.5555555555555556,
              "#d8576b"
             ],
             [
              0.6666666666666666,
              "#ed7953"
             ],
             [
              0.7777777777777778,
              "#fb9f3a"
             ],
             [
              0.8888888888888888,
              "#fdca26"
             ],
             [
              1,
              "#f0f921"
             ]
            ],
            "type": "surface"
           }
          ],
          "table": [
           {
            "cells": {
             "fill": {
              "color": "#EBF0F8"
             },
             "line": {
              "color": "white"
             }
            },
            "header": {
             "fill": {
              "color": "#C8D4E3"
             },
             "line": {
              "color": "white"
             }
            },
            "type": "table"
           }
          ]
         },
         "layout": {
          "annotationdefaults": {
           "arrowcolor": "#2a3f5f",
           "arrowhead": 0,
           "arrowwidth": 1
          },
          "autotypenumbers": "strict",
          "coloraxis": {
           "colorbar": {
            "outlinewidth": 0,
            "ticks": ""
           }
          },
          "colorscale": {
           "diverging": [
            [
             0,
             "#8e0152"
            ],
            [
             0.1,
             "#c51b7d"
            ],
            [
             0.2,
             "#de77ae"
            ],
            [
             0.3,
             "#f1b6da"
            ],
            [
             0.4,
             "#fde0ef"
            ],
            [
             0.5,
             "#f7f7f7"
            ],
            [
             0.6,
             "#e6f5d0"
            ],
            [
             0.7,
             "#b8e186"
            ],
            [
             0.8,
             "#7fbc41"
            ],
            [
             0.9,
             "#4d9221"
            ],
            [
             1,
             "#276419"
            ]
           ],
           "sequential": [
            [
             0,
             "#0d0887"
            ],
            [
             0.1111111111111111,
             "#46039f"
            ],
            [
             0.2222222222222222,
             "#7201a8"
            ],
            [
             0.3333333333333333,
             "#9c179e"
            ],
            [
             0.4444444444444444,
             "#bd3786"
            ],
            [
             0.5555555555555556,
             "#d8576b"
            ],
            [
             0.6666666666666666,
             "#ed7953"
            ],
            [
             0.7777777777777778,
             "#fb9f3a"
            ],
            [
             0.8888888888888888,
             "#fdca26"
            ],
            [
             1,
             "#f0f921"
            ]
           ],
           "sequentialminus": [
            [
             0,
             "#0d0887"
            ],
            [
             0.1111111111111111,
             "#46039f"
            ],
            [
             0.2222222222222222,
             "#7201a8"
            ],
            [
             0.3333333333333333,
             "#9c179e"
            ],
            [
             0.4444444444444444,
             "#bd3786"
            ],
            [
             0.5555555555555556,
             "#d8576b"
            ],
            [
             0.6666666666666666,
             "#ed7953"
            ],
            [
             0.7777777777777778,
             "#fb9f3a"
            ],
            [
             0.8888888888888888,
             "#fdca26"
            ],
            [
             1,
             "#f0f921"
            ]
           ]
          },
          "colorway": [
           "#636efa",
           "#EF553B",
           "#00cc96",
           "#ab63fa",
           "#FFA15A",
           "#19d3f3",
           "#FF6692",
           "#B6E880",
           "#FF97FF",
           "#FECB52"
          ],
          "font": {
           "color": "#2a3f5f"
          },
          "geo": {
           "bgcolor": "white",
           "lakecolor": "white",
           "landcolor": "#E5ECF6",
           "showlakes": true,
           "showland": true,
           "subunitcolor": "white"
          },
          "hoverlabel": {
           "align": "left"
          },
          "hovermode": "closest",
          "mapbox": {
           "style": "light"
          },
          "paper_bgcolor": "white",
          "plot_bgcolor": "#E5ECF6",
          "polar": {
           "angularaxis": {
            "gridcolor": "white",
            "linecolor": "white",
            "ticks": ""
           },
           "bgcolor": "#E5ECF6",
           "radialaxis": {
            "gridcolor": "white",
            "linecolor": "white",
            "ticks": ""
           }
          },
          "scene": {
           "xaxis": {
            "backgroundcolor": "#E5ECF6",
            "gridcolor": "white",
            "gridwidth": 2,
            "linecolor": "white",
            "showbackground": true,
            "ticks": "",
            "zerolinecolor": "white"
           },
           "yaxis": {
            "backgroundcolor": "#E5ECF6",
            "gridcolor": "white",
            "gridwidth": 2,
            "linecolor": "white",
            "showbackground": true,
            "ticks": "",
            "zerolinecolor": "white"
           },
           "zaxis": {
            "backgroundcolor": "#E5ECF6",
            "gridcolor": "white",
            "gridwidth": 2,
            "linecolor": "white",
            "showbackground": true,
            "ticks": "",
            "zerolinecolor": "white"
           }
          },
          "shapedefaults": {
           "line": {
            "color": "#2a3f5f"
           }
          },
          "ternary": {
           "aaxis": {
            "gridcolor": "white",
            "linecolor": "white",
            "ticks": ""
           },
           "baxis": {
            "gridcolor": "white",
            "linecolor": "white",
            "ticks": ""
           },
           "bgcolor": "#E5ECF6",
           "caxis": {
            "gridcolor": "white",
            "linecolor": "white",
            "ticks": ""
           }
          },
          "title": {
           "x": 0.05
          },
          "xaxis": {
           "automargin": true,
           "gridcolor": "white",
           "linecolor": "white",
           "ticks": "",
           "title": {
            "standoff": 15
           },
           "zerolinecolor": "white",
           "zerolinewidth": 2
          },
          "yaxis": {
           "automargin": true,
           "gridcolor": "white",
           "linecolor": "white",
           "ticks": "",
           "title": {
            "standoff": 15
           },
           "zerolinecolor": "white",
           "zerolinewidth": 2
          }
         }
        },
        "title": {
         "text": "Distribución de las calificaciones del público"
        },
        "xaxis": {
         "anchor": "y",
         "domain": [
          0,
          1
         ],
         "title": {
          "text": "Calificación"
         }
        },
        "yaxis": {
         "anchor": "x",
         "domain": [
          0,
          1
         ],
         "title": {
          "text": "count"
         }
        }
       }
      }
     },
     "metadata": {},
     "output_type": "display_data"
    }
   ],
   "source": [
    "import plotly.express as px\n",
    "\n",
    "# Crear histograma con Plotly\n",
    "fig = px.histogram(\n",
    "    df,\n",
    "    x=\"nota\",\n",
    "    nbins=11,  # de 0 a 10, enteros\n",
    "    title=\"Distribución de las calificaciones del público\",\n",
    "    labels={\"nota\": \"Calificación\", \"count\": \"Cantidad\"},\n",
    "    color_discrete_sequence=[\"#3498db\"],\n",
    ")\n",
    "\n",
    "fig.update_layout(bargap=0.2)  # separación entre barras\n",
    "fig.show()"
   ]
  },
  {
   "cell_type": "markdown",
   "id": "1fc1aec1",
   "metadata": {},
   "source": [
    "### Prompt\n",
    "\n",
    "Ahora vamos con el gráfico de la Distribución de las Evaluaciones de Compra que produjimos anteriormente. Vamos a refinarlo usando las siguientes orientaciones.\n",
    "\n",
    "El script original que genera el gráfico es el siguiente:\n",
    "\n",
    "```python\n",
    "# Crear histograma con Plotly\n",
    "fig = px.histogram(\n",
    "    df,\n",
    "    x=\"nota\",\n",
    "    nbins=11,  # de 0 a 10, enteros\n",
    "    title=\"Distribución de las calificaciones del público\",\n",
    "    labels={\"nota\": \"Calificación\", \"count\": \"Cantidad\"},\n",
    "    color_discrete_sequence=[\"#3498db\"],\n",
    ")\n",
    "\n",
    "fig.update_layout(bargap=0.2)  # separación entre barras\n",
    "fig.show()\n",
    "```\n",
    "\n",
    "Nuestro gráfico necesita seguir la identidad visual de Zoop, con el fondo de la figura y del gráfico en el color GRIS_1, el color de las columnas en ROJO_1 y el tamaño de la figura debe ser de (10, 6).\n",
    "\n",
    "El título de la figura es \"Distribución de las evaluaciones de las compras en 2023\" con tamaño 18 y su color GRIS_5.\n",
    "\n",
    "Las etiquetas del eje x (xticks) deben estar en el rango de 0 a 10 con 11 bins y tener tamaño 12 con el color AZUL_1. Las etiquetas del eje y (yticks) deben tener tamaño 12 con el color AZUL_1 y las etiquetas de los ejes x e y (xlabel e ylabel) también deben tener tamaño 12 con el color AZUL_1. Todos los bordes del gráfico deben ser suprimidos (['top', 'bottom', 'left', 'right']).\n",
    "\n",
    "El grid del eje y debe estar detrás del gráfico (ax.set_axisbelow(True)).\n",
    "\n",
    "Vamos a añadir una caja de anotación (ax.annotate()) con el fondo en color BLANCO y el borde en color GRIS_3 dentro del área del gráfico. El texto de la anotación es\n",
    "\n",
    "f\"Promedio de calificaciones = {df['nota'].mean().round(2)}\\n Calificación más común = {df['nota'].value_counts().idxmax()}\\n Frecuencia más común = {df['nota'].value_counts().max()}\"\n",
    "en color AZUL_1. Añade la caja de anotación con el texto en la posición xytext=(2, 1800) y coloca una flecha, en color AZUL_1, saliendo de la caja hasta la posición xy=(8.7, 2250).\n",
    "\n",
    "Utiliza las bibliotecas de visualización de datos de Python para crear esta visualización.\n",
    "\n",
    "### Respuesta\n",
    "\n",
    "Aquí tienes el gráfico refinado de **distribución de las evaluaciones de compra en 2023**, ahora totalmente ajustado a la **identidad visual de Zoop** y usando únicamente **`matplotlib`**:\n",
    "\n",
    "---\n",
    "\n",
    "### ✅ Código con `matplotlib`:\n",
    "\n",
    "```python\n",
    "import matplotlib.pyplot as plt\n",
    "import pandas as pd\n",
    "\n",
    "# Paleta de colores institucional Zoop\n",
    "ROJO_1 = \"#e23155\"\n",
    "AZUL_1 = \"#203f75\"\n",
    "GRIS_1 = \"#ebebeb\"\n",
    "GRIS_3 = \"#cccccc\"\n",
    "GRIS_5 = \"#231f20\"\n",
    "BLANCO = \"#ffffff\"\n",
    "\n",
    "# Crear histograma personalizado\n",
    "fig, ax = plt.subplots(figsize=(10, 6), facecolor=GRIS_1)\n",
    "\n",
    "# Histograma con 11 bins (0 a 10)\n",
    "n, bins, patches = ax.hist(\n",
    "    df[\"nota\"],\n",
    "    bins=11,\n",
    "    color=ROJO_1,\n",
    "    edgecolor=GRIS_1\n",
    ")\n",
    "\n",
    "# Ajustes del área del gráfico\n",
    "ax.set_facecolor(GRIS_1)\n",
    "ax.set_axisbelow(True)  # Grid detrás de las barras\n",
    "\n",
    "# Título\n",
    "ax.set_title(\n",
    "    \"Distribución de las evaluaciones de las compras en 2023\",\n",
    "    fontsize=18,\n",
    "    color=GRIS_5\n",
    ")\n",
    "\n",
    "# Ejes y etiquetas\n",
    "ax.set_xlabel(\"Calificación\", fontsize=12, color=AZUL_1)\n",
    "ax.set_ylabel(\"Cantidad\", fontsize=12, color=AZUL_1)\n",
    "\n",
    "# Personalizar xticks y yticks\n",
    "ax.set_xticks(range(0, 11))\n",
    "ax.tick_params(axis=\"x\", labelsize=12, colors=AZUL_1)\n",
    "ax.tick_params(axis=\"y\", labelsize=12, colors=AZUL_1)\n",
    "\n",
    "# Grid en el eje y\n",
    "ax.yaxis.grid(True, linestyle=\"--\", color=GRIS_3)\n",
    "\n",
    "# Eliminar bordes\n",
    "for spine in [\"top\", \"bottom\", \"left\", \"right\"]:\n",
    "    ax.spines[spine].set_visible(False)\n",
    "\n",
    "# Calcular métricas para anotación\n",
    "media = df[\"nota\"].mean().round(2)\n",
    "moda = df[\"nota\"].value_counts().idxmax()\n",
    "frecuencia = df[\"nota\"].value_counts().max()\n",
    "\n",
    "# Anotación con flecha\n",
    "texto = (\n",
    "    f\"Promedio de calificaciones = {media}\\n\"\n",
    "    f\"Calificación más común = {moda}\\n\"\n",
    "    f\"Frecuencia más común = {frecuencia}\"\n",
    ")\n",
    "ax.annotate(\n",
    "    texto,\n",
    "    xy=(8.7, 2250),  # Punto final de la flecha\n",
    "    xytext=(2, 1800),  # Posición de la caja\n",
    "    textcoords=\"data\",\n",
    "    fontsize=12,\n",
    "    color=AZUL_1,\n",
    "    ha=\"left\",\n",
    "    bbox=dict(boxstyle=\"round\", facecolor=BLANCO, edgecolor=GRIS_3),\n",
    "    arrowprops=dict(arrowstyle=\"->\", color=AZUL_1)\n",
    ")\n",
    "\n",
    "plt.tight_layout()\n",
    "plt.show()\n",
    "```\n",
    "\n",
    "---\n",
    "\n",
    "### ✅ Ajustes aplicados:\n",
    "\n",
    "* 🎯 Fondo general y área del gráfico: `GRIS_1`.\n",
    "* 🔴 Color de las barras: `ROJO_1`.\n",
    "* 📌 Título en `GRIS_5`, tamaño 18.\n",
    "* 🔠 Etiquetas y ticks en `AZUL_1`, tamaño 12.\n",
    "* 🧾 Anotación con flecha personalizada destacando métricas clave.\n",
    "* 🚫 Eliminados todos los bordes del gráfico.\n",
    "* ✅ Grid punteado detrás de las barras.\n",
    "\n",
    "¿Quieres exportarlo a PDF o agregarlo a un dashboard interactivo?"
   ]
  },
  {
   "cell_type": "code",
   "execution_count": 64,
   "id": "08a076e1",
   "metadata": {},
   "outputs": [],
   "source": [
    "def distribucion_calificaciones():\n",
    "    # Crear histograma personalizado\n",
    "    fig, ax = plt.subplots(figsize=(10, 6), facecolor=GRIS_1)\n",
    "\n",
    "    # Histograma con 11 bins (0 a 10)\n",
    "    n, bins, patches = ax.hist(df[\"nota\"], bins=11, color=ROJO_1, edgecolor=GRIS_1)\n",
    "\n",
    "    # Ajustes del área del gráfico\n",
    "    ax.set_facecolor(GRIS_1)\n",
    "    ax.set_axisbelow(True)  # Grid detrás de las barras\n",
    "\n",
    "    # Título\n",
    "    ax.set_title(\n",
    "        \"Distribución de las evaluaciones de las compras en 2023\", fontsize=18, color=GRIS_5\n",
    "    )\n",
    "\n",
    "    # Ejes y etiquetas\n",
    "    ax.set_xlabel(\"Calificación\", fontsize=12, color=AZUL_1)\n",
    "    ax.set_ylabel(\"Cantidad\", fontsize=12, color=AZUL_1)\n",
    "\n",
    "    # Personalizar xticks y yticks\n",
    "    ax.set_xticks(range(0, 11))\n",
    "    ax.tick_params(axis=\"x\", labelsize=12, colors=AZUL_1)\n",
    "    ax.tick_params(axis=\"y\", labelsize=12, colors=AZUL_1)\n",
    "\n",
    "    # Grid en el eje y\n",
    "    ax.yaxis.grid(True, linestyle=\"--\", color=GRIS_3)\n",
    "\n",
    "    # Eliminar bordes\n",
    "    for spine in [\"top\", \"bottom\", \"left\", \"right\"]:\n",
    "        ax.spines[spine].set_visible(False)\n",
    "\n",
    "    # Calcular métricas para anotación\n",
    "    media = df[\"nota\"].mean().round(2)\n",
    "    moda = df[\"nota\"].value_counts().idxmax()\n",
    "    frecuencia = df[\"nota\"].value_counts().max()\n",
    "\n",
    "    # Anotación con flecha\n",
    "    texto = (\n",
    "        f\"Promedio de calificaciones = {media}\\n\"\n",
    "        f\"Calificación más común = {moda}\\n\"\n",
    "        f\"Frecuencia más común = {frecuencia}\"\n",
    "    )\n",
    "    ax.annotate(\n",
    "        texto,\n",
    "        xy=(8.7, 2250),  # Punto final de la flecha\n",
    "        xytext=(2, 1800),  # Posición de la caja\n",
    "        textcoords=\"data\",\n",
    "        fontsize=12,\n",
    "        color=AZUL_1,\n",
    "        ha=\"left\",\n",
    "        bbox=dict(boxstyle=\"round\", facecolor=BLANCO, edgecolor=GRIS_3),\n",
    "        arrowprops=dict(arrowstyle=\"->\", color=AZUL_1),\n",
    "    )\n",
    "\n",
    "    plt.tight_layout()\n",
    "    return plt"
   ]
  },
  {
   "cell_type": "code",
   "execution_count": 65,
   "id": "85c91f3f",
   "metadata": {},
   "outputs": [
    {
     "data": {
      "image/png": "[encoded data removed]",
      "text/plain": [
       "<Figure size 1000x600 with 1 Axes>"
      ]
     },
     "metadata": {},
     "output_type": "display_data"
    }
   ],
   "source": [
    "distribucion_calificaciones().show()"
   ]
  },
  {
   "cell_type": "markdown",
   "id": "e5477e8d",
   "metadata": {},
   "source": [
    "## Gráfico 7: Distribución del público por edad y sexo biológico"
   ]
  },
  {
   "cell_type": "code",
   "execution_count": 66,
   "id": "8dd634b1",
   "metadata": {},
   "outputs": [
    {
     "data": {
      "image/png": "[encoded data removed]",
      "text/plain": [
       "<Figure size 800x600 with 1 Axes>"
      ]
     },
     "metadata": {},
     "output_type": "display_data"
    }
   ],
   "source": [
    "plt.figure(figsize=(8, 6))\n",
    "sns.boxplot(data=df, x=\"sexo_biologico\", y=\"edad\", palette=\"pastel\")\n",
    "\n",
    "plt.title(\"Distribución de edades por sexo biológico\")\n",
    "plt.xlabel(\"Sexo biológico\")\n",
    "plt.ylabel(\"Edad\")\n",
    "plt.tight_layout()\n",
    "plt.show()"
   ]
  },
  {
   "cell_type": "markdown",
   "id": "c11e1eb7",
   "metadata": {},
   "source": [
    "### Prompt\n",
    "\n",
    "Ahora vamos al gráfico de boxplot de la Distribución de la Edad por Sexo Biológico que produjimos anteriormente. Vamos a refinado usando las siguientes orientaciones.\n",
    "\n",
    "El script original que genera el gráfico es el siguiente:\n",
    "\n",
    "```python\n",
    "plt.figure(figsize=(8, 6))\n",
    "sns.boxplot(data=df, x=\"sexo_biologico\", y=\"edad\", palette=\"pastel\")\n",
    "\n",
    "plt.title(\"Distribución de edades por sexo biológico\")\n",
    "plt.xlabel(\"Sexo biológico\")\n",
    "plt.ylabel(\"Edad\")\n",
    "plt.tight_layout()\n",
    "plt.show()\n",
    "```\n",
    "\n",
    "Nuestro gráfico debe seguir la identidad visual de Zoop, con el fondo de la figura y del gráfico en el color GRIS_1, y el tamaño de la figura debe ser de (10, 6).\n",
    "\n",
    "El título de la figura es \"Distribución de la Edad por Sexo Biológico de los clientes\" con tamaño 18 y su color GRIS_5.\n",
    "\n",
    "La columna 'sexo_biologico' está representada en el eje x y la 'edad' en el eje y. La paleta de colores para los valores de x es [AZUL_1, AQUA_1].\n",
    "\n",
    "La etiqueta del eje x (xlabel) debe ser suprimida. Los rótulos del eje x y y (xticks y yticks) deben tener tamaño 12 con el color AZUL_1 y la etiqueta del eje y (ylabel) también debe tener tamaño 12 con el color AZUL_1. Todos los bordes del gráfico deben ser suprimidos y la cuadrícula del eje y debe estar detrás del gráfico (ax.set_axisbelow(True)).\n",
    "\n",
    "Vamos a agregar dos cajas de anotación (ax.annotate()) con el fondo en color BLANCO y el borde en color GRIS_3 dentro del área del gráfico.\n",
    "\n",
    "El texto de la primera anotación en color AZUL_1 es\n",
    "\n",
    "f\"Mínimo = df.groupby(\"sexo_biologico\")[\"edad\"].min()[1]\\n 1º quartil = df.groupby(\"sexo_biologico\")[\"edad\"].quantile(.25)[1]\\n 2º quartil = df.groupby(\"sexo_biologico\")[\"edad\"].median()[1]\\n 3º quartil = df.groupby(\"sexo_biologico\")[\"edad\"].quantile(.75)[1]\\n Máximo = df.groupby(\"sexo_biologico\")[\"edad\"].max()[1]\"\n",
    "Agrega la caja de anotación con el texto en la posición xytext=(-0.4, 50) y coloca una flecha, en color AZUL_1, saliendo de la caja hasta la posición xy=(-0.1, 45).\n",
    "\n",
    "El texto de la segunda anotación en color AZUL_1 es\n",
    "\n",
    "f\"Mínimo = df.groupby(\"sexo_biologico\")[\"edad\"].min()[0]\\n 1º quartil = df.groupby(\"sexo_biologico\")[\"edad\"].quantile(.25)[0]\\n 2º quartil = df.groupby(\"sexo_biologico\")[\"edad\"].median()[0]\\n 3º quartil = df.groupby(\"sexo_biologico\")[\"edad\"].quantile(.75)[0]\\n Máximo = df.groupby(\"sexo_biologico\")[\"edad\"].max()[0]\"\n",
    "Agrega la caja de anotación con el texto en la posición xytext=(0.6, 50) y coloca una flecha, en color AZUL_1, saliendo de la caja hasta la posición xy=(0.9, 45).\n",
    "\n",
    "Utiliza las bibliotecas de visualización de datos de Python para crear esta visualización.\n",
    "\n",
    "### Respuesta\n",
    "\n",
    "Aquí tienes el gráfico **refinado de boxplot** para la *Distribución de la Edad por Sexo Biológico de los clientes*, siguiendo completamente la identidad visual de Zoop y usando `matplotlib` + `seaborn`:\n",
    "\n",
    "---\n",
    "\n",
    "### ✅ Código:\n",
    "\n",
    "```python\n",
    "import matplotlib.pyplot as plt\n",
    "import seaborn as sns\n",
    "import pandas as pd\n",
    "\n",
    "# Paleta de colores institucional Zoop\n",
    "AZUL_1 = \"#203f75\"\n",
    "AQUA_1 = \"#2dc6c6\"\n",
    "GRIS_1 = \"#ebebeb\"\n",
    "GRIS_3 = \"#cccccc\"\n",
    "GRIS_5 = \"#231f20\"\n",
    "BLANCO = \"#ffffff\"\n",
    "\n",
    "# Crear figura y ejes\n",
    "fig, ax = plt.subplots(figsize=(10, 6), facecolor=GRIS_1)\n",
    "\n",
    "# Boxplot personalizado\n",
    "sns.boxplot(\n",
    "    data=df,\n",
    "    x=\"sexo_biologico\",\n",
    "    y=\"edad\",\n",
    "    palette=[AZUL_1, AQUA_1],\n",
    "    ax=ax\n",
    ")\n",
    "\n",
    "# Fondo del gráfico\n",
    "ax.set_facecolor(GRIS_1)\n",
    "ax.set_axisbelow(True)\n",
    "\n",
    "# Título\n",
    "ax.set_title(\n",
    "    \"Distribución de la Edad por Sexo Biológico de los clientes\",\n",
    "    fontsize=18,\n",
    "    color=GRIS_5\n",
    ")\n",
    "\n",
    "# Suprimir xlabel\n",
    "ax.set_xlabel(\"\")\n",
    "\n",
    "# Personalizar etiquetas\n",
    "ax.set_ylabel(\"Edad\", fontsize=12, color=AZUL_1)\n",
    "ax.tick_params(axis=\"x\", labelsize=12, colors=AZUL_1)\n",
    "ax.tick_params(axis=\"y\", labelsize=12, colors=AZUL_1)\n",
    "\n",
    "# Cuadrícula en eje y\n",
    "ax.yaxis.grid(True, linestyle=\"--\", color=GRIS_3)\n",
    "\n",
    "# Eliminar bordes\n",
    "for spine in [\"top\", \"bottom\", \"left\", \"right\"]:\n",
    "    ax.spines[spine].set_visible(False)\n",
    "\n",
    "# === Anotación 1: sexo_biologico == 1 (por ejemplo, \"Mujer\") ===\n",
    "grupo_fem = df.groupby(\"sexo_biologico\")[\"edad\"]\n",
    "texto_1 = (\n",
    "    f\"Mínimo = {grupo_fem.min()[1]}\\n\"\n",
    "    f\"1º quartil = {grupo_fem.quantile(.25)[1]}\\n\"\n",
    "    f\"2º quartil = {grupo_fem.median()[1]}\\n\"\n",
    "    f\"3º quartil = {grupo_fem.quantile(.75)[1]}\\n\"\n",
    "    f\"Máximo = {grupo_fem.max()[1]}\"\n",
    ")\n",
    "ax.annotate(\n",
    "    texto_1,\n",
    "    xy=(-0.1, 45),\n",
    "    xytext=(-0.4, 50),\n",
    "    textcoords=\"data\",\n",
    "    fontsize=12,\n",
    "    color=AZUL_1,\n",
    "    ha=\"left\",\n",
    "    bbox=dict(boxstyle=\"round\", facecolor=BLANCO, edgecolor=GRIS_3),\n",
    "    arrowprops=dict(arrowstyle=\"->\", color=AZUL_1)\n",
    ")\n",
    "\n",
    "# === Anotación 2: sexo_biologico == 0 (por ejemplo, \"Hombre\") ===\n",
    "grupo_masc = df.groupby(\"sexo_biologico\")[\"edad\"]\n",
    "texto_2 = (\n",
    "    f\"Mínimo = {grupo_masc.min()[0]}\\n\"\n",
    "    f\"1º quartil = {grupo_masc.quantile(.25)[0]}\\n\"\n",
    "    f\"2º quartil = {grupo_masc.median()[0]}\\n\"\n",
    "    f\"3º quartil = {grupo_masc.quantile(.75)[0]}\\n\"\n",
    "    f\"Máximo = {grupo_masc.max()[0]}\"\n",
    ")\n",
    "ax.annotate(\n",
    "    texto_2,\n",
    "    xy=(0.9, 45),\n",
    "    xytext=(0.6, 50),\n",
    "    textcoords=\"data\",\n",
    "    fontsize=12,\n",
    "    color=AZUL_1,\n",
    "    ha=\"left\",\n",
    "    bbox=dict(boxstyle=\"round\", facecolor=BLANCO, edgecolor=GRIS_3),\n",
    "    arrowprops=dict(arrowstyle=\"->\", color=AZUL_1)\n",
    ")\n",
    "\n",
    "plt.tight_layout()\n",
    "plt.show()\n",
    "```\n",
    "\n",
    "---\n",
    "\n",
    "### ✅ Detalles aplicados:\n",
    "\n",
    "* 📊 **Fondo** de figura y gráfico: `GRIS_1`.\n",
    "* 🎨 **Colores** de los boxplots: `[AZUL_1, AQUA_1]`.\n",
    "* 📌 **Título** en `GRIS_5`, tamaño 18.\n",
    "* 🔠 **Etiquetas** y ticks en `AZUL_1`, tamaño 12.\n",
    "* 🚫 Eliminación de todos los bordes del gráfico.\n",
    "* 🔍 **Anotaciones** con estadísticas clave por sexo biológico, con flechas indicativas.\n",
    "* ✅ **Grid** punteado en eje y, detrás de las cajas.\n",
    "\n",
    "¿Te gustaría convertirlo a formato interactivo con Plotly o exportarlo como imagen para un informe?\n"
   ]
  },
  {
   "cell_type": "code",
   "execution_count": null,
   "id": "21febd62",
   "metadata": {},
   "outputs": [],
   "source": [
    "def box_plot_edad_sexo():\n",
    "    # Crear figura y ejes\n",
    "    fig, ax = plt.subplots(figsize=(10, 6), facecolor=GRIS_1)\n",
    "\n",
    "    # Boxplot personalizado\n",
    "    sns.boxplot(data=df, x=\"sexo_biologico\", y=\"edad\", palette=[AZUL_1, AQUA_1], ax=ax)\n",
    "\n",
    "    # Fondo del gráfico\n",
    "    ax.set_facecolor(GRIS_1)\n",
    "    ax.set_axisbelow(True)\n",
    "\n",
    "    # Título\n",
    "    ax.set_title(\n",
    "        \"Distribución de la Edad por Sexo Biológico de los clientes\",\n",
    "        fontsize=18,\n",
    "        color=GRIS_5,\n",
    "    )\n",
    "\n",
    "    # Suprimir xlabel\n",
    "    ax.set_xlabel(\"\")\n",
    "\n",
    "    # Personalizar etiquetas\n",
    "    ax.set_ylabel(\"Edad\", fontsize=12, color=AZUL_1)\n",
    "    ax.tick_params(axis=\"x\", labelsize=12, colors=AZUL_1)\n",
    "    ax.tick_params(axis=\"y\", labelsize=12, colors=AZUL_1)\n",
    "\n",
    "    # Cuadrícula en eje y\n",
    "    ax.yaxis.grid(True, linestyle=\"--\", color=GRIS_3)\n",
    "\n",
    "    # Eliminar bordes\n",
    "    for spine in [\"top\", \"bottom\", \"left\", \"right\"]:\n",
    "        ax.spines[spine].set_visible(False)\n",
    "\n",
    "    # === Anotación 1: sexo_biologico == 1 (por ejemplo, \"Mujer\") ===\n",
    "    grupo_fem = df.groupby(\"sexo_biologico\")[\"edad\"]\n",
    "    texto_1 = (\n",
    "        f\"Mínimo = {grupo_fem.min()[1]}\\n\"\n",
    "        f\"1º quartil = {grupo_fem.quantile(.25)[1]}\\n\"\n",
    "        f\"2º quartil = {grupo_fem.median()[1]}\\n\"\n",
    "        f\"3º quartil = {grupo_fem.quantile(.75)[1]}\\n\"\n",
    "        f\"Máximo = {grupo_fem.max()[1]}\"\n",
    "    )\n",
    "    ax.annotate(\n",
    "        texto_1,\n",
    "        xy=(-0.1, 45),\n",
    "        xytext=(-0.4, 50),\n",
    "        textcoords=\"data\",\n",
    "        fontsize=12,\n",
    "        color=AZUL_1,\n",
    "        ha=\"left\",\n",
    "        bbox=dict(boxstyle=\"round\", facecolor=BLANCO, edgecolor=GRIS_3),\n",
    "        arrowprops=dict(arrowstyle=\"->\", color=AZUL_1),\n",
    "    )\n",
    "\n",
    "    # === Anotación 2: sexo_biologico == 0 (por ejemplo, \"Hombre\") ===\n",
    "    grupo_masc = df.groupby(\"sexo_biologico\")[\"edad\"]\n",
    "    texto_2 = (\n",
    "        f\"Mínimo = {grupo_masc.min()[0]}\\n\"\n",
    "        f\"1º quartil = {grupo_masc.quantile(.25)[0]}\\n\"\n",
    "        f\"2º quartil = {grupo_masc.median()[0]}\\n\"\n",
    "        f\"3º quartil = {grupo_masc.quantile(.75)[0]}\\n\"\n",
    "        f\"Máximo = {grupo_masc.max()[0]}\"\n",
    "    )\n",
    "    ax.annotate(\n",
    "        texto_2,\n",
    "        xy=(0.9, 45),\n",
    "        xytext=(0.6, 50),\n",
    "        textcoords=\"data\",\n",
    "        fontsize=12,\n",
    "        color=AZUL_1,\n",
    "        ha=\"left\",\n",
    "        bbox=dict(boxstyle=\"round\", facecolor=BLANCO, edgecolor=GRIS_3),\n",
    "        arrowprops=dict(arrowstyle=\"->\", color=AZUL_1),\n",
    "    )\n",
    "\n",
    "    plt.tight_layout()\n",
    "    return plt"
   ]
  },
  {
   "cell_type": "code",
   "execution_count": 69,
   "id": "adc16858",
   "metadata": {},
   "outputs": [
    {
     "data": {
      "image/png": "[encoded data removed]",
      "text/plain": [
       "<Figure size 1000x600 with 1 Axes>"
      ]
     },
     "metadata": {},
     "output_type": "display_data"
    }
   ],
   "source": [
    "box_plot_edad_sexo().show()"
   ]
  },
  {
   "cell_type": "markdown",
   "id": "7e5e2197",
   "metadata": {},
   "source": [
    "# Exportando los gráficos"
   ]
  },
  {
   "cell_type": "markdown",
   "id": "f7406e3b",
   "metadata": {},
   "source": [
    "### Prompt\n",
    "\n",
    "Ahora, vamos a nuestra última etapa: guardar las visualizaciones como imagen.\n",
    "\n",
    "Genera una función para poder exportar los gráficos que hemos ido construyendo. Cada gráfico fue almacenado en otra función aparte y la idea es llamar a esta función usando la función de cada gráfico como parámetro para poder hacer la exportación, te sugiero seguir estos pasos para la función exportadora de gráficos:\n",
    "\n",
    "```python\n",
    "nombre_imagen = nombre_funcion()\n",
    "nombre_imagen.savefig('nombre_imagen.png', bbox_inches='tight')\n",
    "nombre_imagen.close()\n",
    "```\n",
    "\n",
    "Las funciones creadas para generar los gráficos son:\n",
    "\n",
    "- metodo_pago()\n",
    "- ventas_mensuales()\n",
    "- facturacion_por_categoria()\n",
    "- ventas_por_trimestre()\n",
    "- proporcion_cashback()\n",
    "- distribucion_calificaciones()\n",
    "- box_plot_edad_sexo()\n",
    "\n",
    "Reemplaza la variable \"nombre_imagen\" por \"grafico_\" seguido del nombre de la función que genera el gráfico.\n",
    "\n",
    "Utiliza el lenguaje Python para crear el código y no mostrar las imágenes.\n",
    "\n",
    "### Respuesta\n",
    "\n",
    "Perfecto. A continuación tienes la **función `exportar_grafico()`** para guardar cada uno de los gráficos como imagen `.png`, utilizando las funciones de visualización ya construidas:\n",
    "\n",
    "---\n",
    "\n",
    "### ✅ Función exportadora:\n",
    "\n",
    "```python\n",
    "def exportar_grafico(funcion_grafico):\n",
    "    \"\"\"\n",
    "    Recibe una función que genera un gráfico y exporta su imagen en formato PNG\n",
    "    \"\"\"\n",
    "    # Ejecuta la función y guarda el objeto de figura devuelto\n",
    "    figura = funcion_grafico()\n",
    "\n",
    "    # Crea nombre del archivo con el patrón grafico_<nombre_funcion>.png\n",
    "    nombre_archivo = f\"grafico_{funcion_grafico.__name__}.png\"\n",
    "\n",
    "    # Guarda la figura como imagen\n",
    "    figura.savefig(nombre_archivo, bbox_inches=\"tight\")\n",
    "\n",
    "    # Cierra la figura para liberar memoria\n",
    "    plt.close(figura)\n",
    "```\n",
    "\n",
    "---\n",
    "\n",
    "### ✅ Cómo usarla:\n",
    "\n",
    "```python\n",
    "# Exportar todos los gráficos\n",
    "exportar_grafico(metodo_pago)\n",
    "exportar_grafico(ventas_mensuales)\n",
    "exportar_grafico(facturacion_por_categoria)\n",
    "exportar_grafico(ventas_por_trimestre)\n",
    "exportar_grafico(proporcion_cashback)\n",
    "exportar_grafico(distribucion_calificaciones)\n",
    "exportar_grafico(box_plot_edad_sexo)\n",
    "```\n",
    "\n",
    "---\n",
    "\n",
    "### ⚠️ Consideraciones:\n",
    "\n",
    "* Cada una de las funciones como `metodo_pago()` debe **retornar el objeto `fig` o `ax.figure`**, dependiendo de si usas `matplotlib`, `seaborn` o `plotly` (para estáticos con `kaleido`).\n",
    "* Si usas Plotly y necesitas guardar como imagen estática, necesitarás `plotly.io.write_image()` y tener instalada la dependencia `kaleido`. ¿Te gustaría que adapte también eso para los gráficos en Plotly?\n",
    "\n",
    "¿Deseas que convierta esta función para exportar también los gráficos generados con Plotly (`.write_image()`)?"
   ]
  },
  {
   "cell_type": "code",
   "execution_count": 74,
   "id": "6c81a0dc",
   "metadata": {},
   "outputs": [],
   "source": [
    "def exportar_grafico(funcion_grafico):\n",
    "    \"\"\"\n",
    "    Recibe una función que genera un gráfico y exporta su imagen en formato PNG\n",
    "    \"\"\"\n",
    "    # Ejecuta la función y guarda el objeto de figura devuelto\n",
    "    figura = funcion_grafico()\n",
    "\n",
    "    # Crea nombre del archivo con el patrón grafico_<nombre_funcion>.png\n",
    "    nombre_archivo = f\"grafico_{funcion_grafico.__name__}.png\"\n",
    "\n",
    "    # Guarda la figura como imagen\n",
    "    figura.savefig(f'data/exported/{nombre_archivo}', bbox_inches=\"tight\")\n",
    "\n",
    "    # Cierra la figura para liberar memoria\n",
    "    figura.close() # modificado"
   ]
  },
  {
   "cell_type": "code",
   "execution_count": 75,
   "id": "0c2e6e22",
   "metadata": {},
   "outputs": [],
   "source": [
    "# Exportar todos los gráficos\n",
    "exportar_grafico(metodo_pago)\n",
    "exportar_grafico(ventas_mensuales)\n",
    "exportar_grafico(facturacion_por_categoria)\n",
    "exportar_grafico(ventas_por_trimestre)\n",
    "exportar_grafico(proporcion_cashback)\n",
    "exportar_grafico(distribucion_calificaciones)\n",
    "exportar_grafico(box_plot_edad_sexo)"
   ]
  }
 ],
 "metadata": {
  "kernelspec": {
   "display_name": "condaenv",
   "language": "python",
   "name": "python3"
  },
  "language_info": {
   "codemirror_mode": {
    "name": "ipython",
    "version": 3
   },
   "file_extension": ".py",
   "mimetype": "text/x-python",
   "name": "python",
   "nbconvert_exporter": "python",
   "pygments_lexer": "ipython3",
   "version": "3.13.2"
  }
 },
 "nbformat": 4,
 "nbformat_minor": 5
}
