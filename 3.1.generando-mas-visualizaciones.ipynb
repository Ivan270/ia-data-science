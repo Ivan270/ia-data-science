{
 "cells": [
  {
   "cell_type": "markdown",
   "id": "d5f7cf52",
   "metadata": {},
   "source": [
    "# Composición de datos estáticos\n",
    "\n",
    "Estático -> no tiene la dimensión `tiempo` contemplada."
   ]
  },
  {
   "cell_type": "markdown",
   "id": "a55bf8cc",
   "metadata": {},
   "source": [
    "## Datos anteriores"
   ]
  },
  {
   "cell_type": "code",
   "execution_count": 1,
   "id": "f1b4633a",
   "metadata": {},
   "outputs": [],
   "source": [
    "import pandas as pd\n",
    "import warnings\n",
    "\n",
    "warnings.filterwarnings(\"ignore\")\n",
    "\n",
    "url_clientes = \"https://gist.githubusercontent.com/ahcamachod/d08898e1cc84c7271856e78d9558ca3d/raw/2f7e1fa53711efe6433a5c5ec79948f600591cb9/clientes_zoop.csv\"\n",
    "url_ventas = \"https://gist.githubusercontent.com/ahcamachod/966d7162a3c3a2769b8770b35abf1bcc/raw/d79941b3fa46a450f3611589abd8663399c1277b/ventas_zoop.csv\"\n",
    "url_zoop_pay = \"https://gist.githubusercontent.com/ahcamachod/ce728231a836a973c0df94a9f03ed871/raw/8db6da43d7cd94fcab937208067d0fceb521b78c/zoop_pay.csv\"\n",
    "\n",
    "clientes = pd.read_csv(url_clientes)\n",
    "ventas = pd.read_csv(url_ventas)\n",
    "ventas[\"fecha\"] = pd.to_datetime(ventas[\"fecha\"], format=\"%Y-%m-%d\")\n",
    "ventas[\"horario\"] = pd.to_datetime(ventas[\"horario\"], format=\"%H:%M\").dt.time\n",
    "\n",
    "df = pd.merge(ventas, clientes, on=\"ID_compra\", how=\"inner\")\n",
    "# Reorganizar las columnas en el orden deseado\n",
    "columnas_ordenadas = [\n",
    "    \"ID_compra\",\n",
    "    \"fecha\",\n",
    "    \"horario\",\n",
    "    \"categoria\",\n",
    "    \"precio_unitario\",\n",
    "    \"cantidad\",\n",
    "    \"envio\",\n",
    "    \"metodo_pago\",\n",
    "    \"ID_cliente\",\n",
    "    \"edad\",\n",
    "    \"sexo_biologico\",\n",
    "    \"ciudad\",\n",
    "    \"estado\",\n",
    "    \"region\",\n",
    "    \"cashback\",\n",
    "    \"nota\",\n",
    "]\n",
    "\n",
    "# Aplicar el orden de las columnas\n",
    "df = df[columnas_ordenadas]\n",
    "\n",
    "import matplotlib.pyplot as plt\n",
    "import seaborn as sns\n",
    "\n",
    "# 1. Crear la tabla resumen\n",
    "metodos_de_pago = df[\"metodo_pago\"].value_counts().reset_index()\n",
    "metodos_de_pago.columns = [\"metodo_pago\", \"cantidad\"]\n",
    "\n",
    "# 1. Crear una columna de facturación total por compra\n",
    "df[\"facturacion\"] = df[\"precio_unitario\"] * df[\"cantidad\"] + df[\"envio\"]\n",
    "\n",
    "# 2. Agrupar por categoría y sumar la facturación\n",
    "facturacion_categoria = df.groupby(\"categoria\")[\"facturacion\"].sum().sort_values()\n",
    "\n",
    "# Asegurarse de que la columna 'fecha' es datetime\n",
    "df[\"fecha\"] = pd.to_datetime(df[\"fecha\"])\n",
    "\n",
    "# Crear columna con el mes como texto completo\n",
    "df[\"mes_nombre\"] = df[\"fecha\"].dt.strftime(\"%B\")  # e.g., 'January', 'February', etc.\n",
    "\n",
    "# Crear columna con el número del mes para ordenar correctamente\n",
    "df[\"mes_numero\"] = df[\"fecha\"].dt.month\n",
    "\n",
    "# Calcular la facturación mensual\n",
    "ventas_mensuales = (\n",
    "    df.groupby([\"mes_numero\", \"mes_nombre\"])[\"facturacion\"].sum().reset_index()\n",
    ")\n",
    "\n",
    "# Ordenar por número de mes\n",
    "ventas_mensuales = ventas_mensuales.sort_values(\"mes_numero\")\n",
    "\n",
    "# Diccionario de traducción de meses\n",
    "meses = {\n",
    "    \"January\": \"Ene\",\n",
    "    \"February\": \"Feb\",\n",
    "    \"March\": \"Mar\",\n",
    "    \"April\": \"Abr\",\n",
    "    \"May\": \"May\",\n",
    "    \"June\": \"Jun\",\n",
    "    \"July\": \"Jul\",\n",
    "    \"August\": \"Ago\",\n",
    "    \"September\": \"Sep\",\n",
    "    \"October\": \"Oct\",\n",
    "    \"November\": \"Nov\",\n",
    "    \"December\": \"Dic\",\n",
    "}\n",
    "\n",
    "# Aplicar traducción\n",
    "ventas_mensuales[\"mes\"] = ventas_mensuales[\"mes_nombre\"].map(meses)\n",
    "\n",
    "# 2. Crear columna de trimestre (formato 'T1', 'T2', etc.)\n",
    "df[\"trimestre\"] = df[\"fecha\"].dt.to_period(\"Q\").astype(str).str.replace(\"2023Q\", \"T\")\n",
    "\n",
    "# 3. Agrupar por trimestre y método de pago, sumando facturación\n",
    "ventas_trimestre = (\n",
    "    df.groupby([\"trimestre\", \"metodo_pago\"])[\"facturacion\"].sum().unstack(fill_value=0)\n",
    ")\n",
    "\n",
    "# Filtrar solo las 3 categorías deseadas\n",
    "categorias_interes = [\"Papelería y oficina\", \"Libros\", \"Alimentos y bebidas\"]\n",
    "df_filtrado = df[df[\"categoria\"].isin(categorias_interes)]\n",
    "\n",
    "# Agrupar por trimestre y categoría, sumando la facturación\n",
    "ventas_categoria = (\n",
    "    df_filtrado.groupby([\"trimestre\", \"categoria\"])[\"facturacion\"]\n",
    "    .sum()\n",
    "    .unstack(fill_value=0)\n",
    ")"
   ]
  },
  {
   "cell_type": "markdown",
   "id": "1d86e9dd",
   "metadata": {},
   "source": [
    "## Pregunta 5: ¿Cuál es la proporción de clientela que participa en el programa de cashback?\n",
    "\n",
    "#### Prompt\n",
    "\n",
    "Tenemos un DataFrame llamado \"df\" y queremos construir un gráfico que muestre la proporción de usuarios(as) que están participando en el programa de cashback de Zoop.\n",
    "\n",
    "En \"df\", tenemos la columna \"cashback\" que contiene estos datos.\n",
    "\n",
    "Utiliza las bibliotecas de visualización de datos de Python para crear esta visualización.\n",
    "\n",
    "#### Respuesta\n",
    "\n",
    "Para visualizar la **proporción de usuarios que participan o no en el programa de cashback** a partir de la columna `cashback`, puedes usar un **gráfico circular (pie chart)**, que es ideal para mostrar proporciones.\n",
    "\n",
    "A continuación te dejo el código en Python usando **Plotly** para interactividad (también incluyo alternativa en Matplotlib si prefieres algo más simple).\n",
    "\n",
    "---\n",
    "\n",
    "### ✅ Opción 1: Gráfico interactivo con Plotly\n",
    "\n",
    "```python\n",
    "import plotly.express as px\n",
    "\n",
    "# Contar cuántos clientes participan o no en el programa\n",
    "cashback_counts = df['cashback'].value_counts().reset_index()\n",
    "cashback_counts.columns = ['Participa', 'Cantidad']\n",
    "\n",
    "# Crear gráfico circular\n",
    "fig = px.pie(\n",
    "    cashback_counts,\n",
    "    names='Participa',\n",
    "    values='Cantidad',\n",
    "    title='Proporción de participación en el programa de cashback de Zoop',\n",
    "    color_discrete_sequence=px.colors.sequential.RdBu\n",
    ")\n",
    "\n",
    "fig.show()\n",
    "```\n",
    "\n",
    "---\n",
    "\n",
    "### ✅ Opción 2: Gráfico simple con Matplotlib\n",
    "\n",
    "```python\n",
    "import matplotlib.pyplot as plt\n",
    "\n",
    "# Contar la participación\n",
    "cashback_counts = df['cashback'].value_counts()\n",
    "\n",
    "# Crear gráfico de pastel\n",
    "plt.figure(figsize=(6,6))\n",
    "plt.pie(\n",
    "    cashback_counts,\n",
    "    labels=cashback_counts.index,\n",
    "    autopct='%1.1f%%',\n",
    "    startangle=90,\n",
    "    colors=['#1f77b4', '#ff7f0e']\n",
    ")\n",
    "plt.title('Proporción de participación en el programa de cashback de Zoop')\n",
    "plt.axis('equal')  # para que el gráfico sea circular\n",
    "plt.show()\n",
    "```\n",
    "\n",
    "---\n",
    "\n",
    "### 🧠 ¿Qué muestra?\n",
    "\n",
    "* **Visualmente** cuánto del total de usuarios participa en el programa.\n",
    "* Puedes ver rápidamente si la mayoría lo usa o no.\n",
    "\n",
    "¿Te gustaría ver esto en formato de barras en lugar de circular o comparar por región/sexo/edad también? Te puedo ayudar a extenderlo."
   ]
  },
  {
   "cell_type": "code",
   "execution_count": 2,
   "id": "def000d8",
   "metadata": {},
   "outputs": [
    {
     "data": {
      "application/vnd.plotly.v1+json": {
       "config": {
        "plotlyServerURL": "https://plot.ly"
       },
       "data": [
        {
         "domain": {
          "x": [
           0,
           1
          ],
          "y": [
           0,
           1
          ]
         },
         "hovertemplate": "Participa=%{label}<br>Cantidad=%{value}<extra></extra>",
         "labels": [
          "No",
          "Sí"
         ],
         "legendgroup": "",
         "name": "",
         "showlegend": true,
         "type": "pie",
         "values": {
          "bdata": "5Q00Cg==",
          "dtype": "i2"
         }
        }
       ],
       "layout": {
        "legend": {
         "tracegroupgap": 0
        },
        "piecolorway": [
         "rgb(103,0,31)",
         "rgb(178,24,43)",
         "rgb(214,96,77)",
         "rgb(244,165,130)",
         "rgb(253,219,199)",
         "rgb(247,247,247)",
         "rgb(209,229,240)",
         "rgb(146,197,222)",
         "rgb(67,147,195)",
         "rgb(33,102,172)",
         "rgb(5,48,97)"
        ],
        "template": {
         "data": {
          "bar": [
           {
            "error_x": {
             "color": "#2a3f5f"
            },
            "error_y": {
             "color": "#2a3f5f"
            },
            "marker": {
             "line": {
              "color": "#E5ECF6",
              "width": 0.5
             },
             "pattern": {
              "fillmode": "overlay",
              "size": 10,
              "solidity": 0.2
             }
            },
            "type": "bar"
           }
          ],
          "barpolar": [
           {
            "marker": {
             "line": {
              "color": "#E5ECF6",
              "width": 0.5
             },
             "pattern": {
              "fillmode": "overlay",
              "size": 10,
              "solidity": 0.2
             }
            },
            "type": "barpolar"
           }
          ],
          "carpet": [
           {
            "aaxis": {
             "endlinecolor": "#2a3f5f",
             "gridcolor": "white",
             "linecolor": "white",
             "minorgridcolor": "white",
             "startlinecolor": "#2a3f5f"
            },
            "baxis": {
             "endlinecolor": "#2a3f5f",
             "gridcolor": "white",
             "linecolor": "white",
             "minorgridcolor": "white",
             "startlinecolor": "#2a3f5f"
            },
            "type": "carpet"
           }
          ],
          "choropleth": [
           {
            "colorbar": {
             "outlinewidth": 0,
             "ticks": ""
            },
            "type": "choropleth"
           }
          ],
          "contour": [
           {
            "colorbar": {
             "outlinewidth": 0,
             "ticks": ""
            },
            "colorscale": [
             [
              0,
              "#0d0887"
             ],
             [
              0.1111111111111111,
              "#46039f"
             ],
             [
              0.2222222222222222,
              "#7201a8"
             ],
             [
              0.3333333333333333,
              "#9c179e"
             ],
             [
              0.4444444444444444,
              "#bd3786"
             ],
             [
              0.5555555555555556,
              "#d8576b"
             ],
             [
              0.6666666666666666,
              "#ed7953"
             ],
             [
              0.7777777777777778,
              "#fb9f3a"
             ],
             [
              0.8888888888888888,
              "#fdca26"
             ],
             [
              1,
              "#f0f921"
             ]
            ],
            "type": "contour"
           }
          ],
          "contourcarpet": [
           {
            "colorbar": {
             "outlinewidth": 0,
             "ticks": ""
            },
            "type": "contourcarpet"
           }
          ],
          "heatmap": [
           {
            "colorbar": {
             "outlinewidth": 0,
             "ticks": ""
            },
            "colorscale": [
             [
              0,
              "#0d0887"
             ],
             [
              0.1111111111111111,
              "#46039f"
             ],
             [
              0.2222222222222222,
              "#7201a8"
             ],
             [
              0.3333333333333333,
              "#9c179e"
             ],
             [
              0.4444444444444444,
              "#bd3786"
             ],
             [
              0.5555555555555556,
              "#d8576b"
             ],
             [
              0.6666666666666666,
              "#ed7953"
             ],
             [
              0.7777777777777778,
              "#fb9f3a"
             ],
             [
              0.8888888888888888,
              "#fdca26"
             ],
             [
              1,
              "#f0f921"
             ]
            ],
            "type": "heatmap"
           }
          ],
          "histogram": [
           {
            "marker": {
             "pattern": {
              "fillmode": "overlay",
              "size": 10,
              "solidity": 0.2
             }
            },
            "type": "histogram"
           }
          ],
          "histogram2d": [
           {
            "colorbar": {
             "outlinewidth": 0,
             "ticks": ""
            },
            "colorscale": [
             [
              0,
              "#0d0887"
             ],
             [
              0.1111111111111111,
              "#46039f"
             ],
             [
              0.2222222222222222,
              "#7201a8"
             ],
             [
              0.3333333333333333,
              "#9c179e"
             ],
             [
              0.4444444444444444,
              "#bd3786"
             ],
             [
              0.5555555555555556,
              "#d8576b"
             ],
             [
              0.6666666666666666,
              "#ed7953"
             ],
             [
              0.7777777777777778,
              "#fb9f3a"
             ],
             [
              0.8888888888888888,
              "#fdca26"
             ],
             [
              1,
              "#f0f921"
             ]
            ],
            "type": "histogram2d"
           }
          ],
          "histogram2dcontour": [
           {
            "colorbar": {
             "outlinewidth": 0,
             "ticks": ""
            },
            "colorscale": [
             [
              0,
              "#0d0887"
             ],
             [
              0.1111111111111111,
              "#46039f"
             ],
             [
              0.2222222222222222,
              "#7201a8"
             ],
             [
              0.3333333333333333,
              "#9c179e"
             ],
             [
              0.4444444444444444,
              "#bd3786"
             ],
             [
              0.5555555555555556,
              "#d8576b"
             ],
             [
              0.6666666666666666,
              "#ed7953"
             ],
             [
              0.7777777777777778,
              "#fb9f3a"
             ],
             [
              0.8888888888888888,
              "#fdca26"
             ],
             [
              1,
              "#f0f921"
             ]
            ],
            "type": "histogram2dcontour"
           }
          ],
          "mesh3d": [
           {
            "colorbar": {
             "outlinewidth": 0,
             "ticks": ""
            },
            "type": "mesh3d"
           }
          ],
          "parcoords": [
           {
            "line": {
             "colorbar": {
              "outlinewidth": 0,
              "ticks": ""
             }
            },
            "type": "parcoords"
           }
          ],
          "pie": [
           {
            "automargin": true,
            "type": "pie"
           }
          ],
          "scatter": [
           {
            "fillpattern": {
             "fillmode": "overlay",
             "size": 10,
             "solidity": 0.2
            },
            "type": "scatter"
           }
          ],
          "scatter3d": [
           {
            "line": {
             "colorbar": {
              "outlinewidth": 0,
              "ticks": ""
             }
            },
            "marker": {
             "colorbar": {
              "outlinewidth": 0,
              "ticks": ""
             }
            },
            "type": "scatter3d"
           }
          ],
          "scattercarpet": [
           {
            "marker": {
             "colorbar": {
              "outlinewidth": 0,
              "ticks": ""
             }
            },
            "type": "scattercarpet"
           }
          ],
          "scattergeo": [
           {
            "marker": {
             "colorbar": {
              "outlinewidth": 0,
              "ticks": ""
             }
            },
            "type": "scattergeo"
           }
          ],
          "scattergl": [
           {
            "marker": {
             "colorbar": {
              "outlinewidth": 0,
              "ticks": ""
             }
            },
            "type": "scattergl"
           }
          ],
          "scattermap": [
           {
            "marker": {
             "colorbar": {
              "outlinewidth": 0,
              "ticks": ""
             }
            },
            "type": "scattermap"
           }
          ],
          "scattermapbox": [
           {
            "marker": {
             "colorbar": {
              "outlinewidth": 0,
              "ticks": ""
             }
            },
            "type": "scattermapbox"
           }
          ],
          "scatterpolar": [
           {
            "marker": {
             "colorbar": {
              "outlinewidth": 0,
              "ticks": ""
             }
            },
            "type": "scatterpolar"
           }
          ],
          "scatterpolargl": [
           {
            "marker": {
             "colorbar": {
              "outlinewidth": 0,
              "ticks": ""
             }
            },
            "type": "scatterpolargl"
           }
          ],
          "scatterternary": [
           {
            "marker": {
             "colorbar": {
              "outlinewidth": 0,
              "ticks": ""
             }
            },
            "type": "scatterternary"
           }
          ],
          "surface": [
           {
            "colorbar": {
             "outlinewidth": 0,
             "ticks": ""
            },
            "colorscale": [
             [
              0,
              "#0d0887"
             ],
             [
              0.1111111111111111,
              "#46039f"
             ],
             [
              0.2222222222222222,
              "#7201a8"
             ],
             [
              0.3333333333333333,
              "#9c179e"
             ],
             [
              0.4444444444444444,
              "#bd3786"
             ],
             [
              0.5555555555555556,
              "#d8576b"
             ],
             [
              0.6666666666666666,
              "#ed7953"
             ],
             [
              0.7777777777777778,
              "#fb9f3a"
             ],
             [
              0.8888888888888888,
              "#fdca26"
             ],
             [
              1,
              "#f0f921"
             ]
            ],
            "type": "surface"
           }
          ],
          "table": [
           {
            "cells": {
             "fill": {
              "color": "#EBF0F8"
             },
             "line": {
              "color": "white"
             }
            },
            "header": {
             "fill": {
              "color": "#C8D4E3"
             },
             "line": {
              "color": "white"
             }
            },
            "type": "table"
           }
          ]
         },
         "layout": {
          "annotationdefaults": {
           "arrowcolor": "#2a3f5f",
           "arrowhead": 0,
           "arrowwidth": 1
          },
          "autotypenumbers": "strict",
          "coloraxis": {
           "colorbar": {
            "outlinewidth": 0,
            "ticks": ""
           }
          },
          "colorscale": {
           "diverging": [
            [
             0,
             "#8e0152"
            ],
            [
             0.1,
             "#c51b7d"
            ],
            [
             0.2,
             "#de77ae"
            ],
            [
             0.3,
             "#f1b6da"
            ],
            [
             0.4,
             "#fde0ef"
            ],
            [
             0.5,
             "#f7f7f7"
            ],
            [
             0.6,
             "#e6f5d0"
            ],
            [
             0.7,
             "#b8e186"
            ],
            [
             0.8,
             "#7fbc41"
            ],
            [
             0.9,
             "#4d9221"
            ],
            [
             1,
             "#276419"
            ]
           ],
           "sequential": [
            [
             0,
             "#0d0887"
            ],
            [
             0.1111111111111111,
             "#46039f"
            ],
            [
             0.2222222222222222,
             "#7201a8"
            ],
            [
             0.3333333333333333,
             "#9c179e"
            ],
            [
             0.4444444444444444,
             "#bd3786"
            ],
            [
             0.5555555555555556,
             "#d8576b"
            ],
            [
             0.6666666666666666,
             "#ed7953"
            ],
            [
             0.7777777777777778,
             "#fb9f3a"
            ],
            [
             0.8888888888888888,
             "#fdca26"
            ],
            [
             1,
             "#f0f921"
            ]
           ],
           "sequentialminus": [
            [
             0,
             "#0d0887"
            ],
            [
             0.1111111111111111,
             "#46039f"
            ],
            [
             0.2222222222222222,
             "#7201a8"
            ],
            [
             0.3333333333333333,
             "#9c179e"
            ],
            [
             0.4444444444444444,
             "#bd3786"
            ],
            [
             0.5555555555555556,
             "#d8576b"
            ],
            [
             0.6666666666666666,
             "#ed7953"
            ],
            [
             0.7777777777777778,
             "#fb9f3a"
            ],
            [
             0.8888888888888888,
             "#fdca26"
            ],
            [
             1,
             "#f0f921"
            ]
           ]
          },
          "colorway": [
           "#636efa",
           "#EF553B",
           "#00cc96",
           "#ab63fa",
           "#FFA15A",
           "#19d3f3",
           "#FF6692",
           "#B6E880",
           "#FF97FF",
           "#FECB52"
          ],
          "font": {
           "color": "#2a3f5f"
          },
          "geo": {
           "bgcolor": "white",
           "lakecolor": "white",
           "landcolor": "#E5ECF6",
           "showlakes": true,
           "showland": true,
           "subunitcolor": "white"
          },
          "hoverlabel": {
           "align": "left"
          },
          "hovermode": "closest",
          "mapbox": {
           "style": "light"
          },
          "paper_bgcolor": "white",
          "plot_bgcolor": "#E5ECF6",
          "polar": {
           "angularaxis": {
            "gridcolor": "white",
            "linecolor": "white",
            "ticks": ""
           },
           "bgcolor": "#E5ECF6",
           "radialaxis": {
            "gridcolor": "white",
            "linecolor": "white",
            "ticks": ""
           }
          },
          "scene": {
           "xaxis": {
            "backgroundcolor": "#E5ECF6",
            "gridcolor": "white",
            "gridwidth": 2,
            "linecolor": "white",
            "showbackground": true,
            "ticks": "",
            "zerolinecolor": "white"
           },
           "yaxis": {
            "backgroundcolor": "#E5ECF6",
            "gridcolor": "white",
            "gridwidth": 2,
            "linecolor": "white",
            "showbackground": true,
            "ticks": "",
            "zerolinecolor": "white"
           },
           "zaxis": {
            "backgroundcolor": "#E5ECF6",
            "gridcolor": "white",
            "gridwidth": 2,
            "linecolor": "white",
            "showbackground": true,
            "ticks": "",
            "zerolinecolor": "white"
           }
          },
          "shapedefaults": {
           "line": {
            "color": "#2a3f5f"
           }
          },
          "ternary": {
           "aaxis": {
            "gridcolor": "white",
            "linecolor": "white",
            "ticks": ""
           },
           "baxis": {
            "gridcolor": "white",
            "linecolor": "white",
            "ticks": ""
           },
           "bgcolor": "#E5ECF6",
           "caxis": {
            "gridcolor": "white",
            "linecolor": "white",
            "ticks": ""
           }
          },
          "title": {
           "x": 0.05
          },
          "xaxis": {
           "automargin": true,
           "gridcolor": "white",
           "linecolor": "white",
           "ticks": "",
           "title": {
            "standoff": 15
           },
           "zerolinecolor": "white",
           "zerolinewidth": 2
          },
          "yaxis": {
           "automargin": true,
           "gridcolor": "white",
           "linecolor": "white",
           "ticks": "",
           "title": {
            "standoff": 15
           },
           "zerolinecolor": "white",
           "zerolinewidth": 2
          }
         }
        },
        "title": {
         "text": "Proporción de participación en el programa de cashback de Zoop"
        }
       }
      }
     },
     "metadata": {},
     "output_type": "display_data"
    }
   ],
   "source": [
    "import plotly.express as px\n",
    "\n",
    "# Contar cuántos clientes participan o no en el programa\n",
    "cashback_counts = df[\"cashback\"].value_counts().reset_index()\n",
    "cashback_counts.columns = [\"Participa\", \"Cantidad\"]\n",
    "\n",
    "# Crear gráfico circular\n",
    "fig = px.pie(\n",
    "    cashback_counts,\n",
    "    names=\"Participa\",\n",
    "    values=\"Cantidad\",\n",
    "    title=\"Proporción de participación en el programa de cashback de Zoop\",\n",
    "    color_discrete_sequence=px.colors.sequential.RdBu,\n",
    ")\n",
    "\n",
    "fig.show()"
   ]
  },
  {
   "cell_type": "markdown",
   "id": "3957a33a",
   "metadata": {},
   "source": [
    "### Iteración\n",
    "Se requiere mejorar la paleta de colores.\n",
    "\n",
    "##### Prompt\n",
    "Para el gráfico de la opción 1 (gráfico interactivo de Plotly) hay 2 requerimientos adicionales:\n",
    "1. podrías cambiar la paleta de colores para que el Si (de si participa en el programa de cashback) tenga un color de connotación más positiva y el No sea de connotación negativa?\n",
    "2. podrías generar una separación o margen entre las 2 representaciones de respuesta (Si y No) del gráfico?\n",
    "\n",
    "##### Respuesta\n",
    "Perfecto. Vamos a mejorar el gráfico interactivo con Plotly para que:\n",
    "\n",
    "1. Use **colores con connotación positiva/negativa**:\n",
    "\n",
    "   * `\"Sí\"` → verde (`#2ecc71`)\n",
    "   * `\"No\"` → rojo (`#e74c3c`)\n",
    "\n",
    "2. Tenga una **separación (explosión)** entre las secciones del pastel, usando el parámetro `pull`.\n",
    "\n",
    "---\n",
    "\n",
    "### ✅ Código actualizado con ambas mejoras:\n",
    "\n",
    "```python\n",
    "import plotly.express as px\n",
    "\n",
    "# Contar cuántos clientes participan o no en el programa\n",
    "cashback_counts = df['cashback'].value_counts().reset_index()\n",
    "cashback_counts.columns = ['Participa', 'Cantidad']\n",
    "\n",
    "# Crear diccionario de colores personalizados\n",
    "colores_personalizados = {\n",
    "    'Sí': '#2ecc71',   # Verde\n",
    "    'No': '#e74c3c'    # Rojo\n",
    "}\n",
    "\n",
    "# Definir explosión para separar las secciones del gráfico\n",
    "pull_valores = [0.1 if val == 'Sí' else 0.05 for val in cashback_counts['Participa']]\n",
    "\n",
    "# Crear gráfico circular con colores y separación\n",
    "fig = px.pie(\n",
    "    cashback_counts,\n",
    "    names='Participa',\n",
    "    values='Cantidad',\n",
    "    title='Proporción de participación en el programa de cashback de Zoop',\n",
    "    color='Participa',\n",
    "    color_discrete_map=colores_personalizados,\n",
    "    hole=0.3\n",
    ")\n",
    "\n",
    "# Aplicar la separación (pull)\n",
    "fig.update_traces(pull=pull_valores)\n",
    "\n",
    "# Mostrar gráfico interactivo\n",
    "fig.show()\n",
    "```\n",
    "\n",
    "---\n",
    "\n",
    "### ✅ Resultado:\n",
    "\n",
    "* **\"Sí\"** aparece en **verde**, separado con mayor margen (0.1).\n",
    "* **\"No\"** aparece en **rojo**, también con una separación menor (0.05).\n",
    "* El gráfico es más claro y semántico, ideal para presentaciones o análisis ejecutivos.\n",
    "\n",
    "¿Quieres agregar un hover personalizado o exportarlo como imagen interactiva/HTML? También se puede."
   ]
  },
  {
   "cell_type": "code",
   "execution_count": 5,
   "id": "48b588da",
   "metadata": {},
   "outputs": [
    {
     "data": {
      "application/vnd.plotly.v1+json": {
       "config": {
        "plotlyServerURL": "https://plot.ly"
       },
       "data": [
        {
         "customdata": [
          [
           "No"
          ],
          [
           "Sí"
          ]
         ],
         "domain": {
          "x": [
           0,
           1
          ],
          "y": [
           0,
           1
          ]
         },
         "hovertemplate": "Participa=%{customdata[0]}<br>Cantidad=%{value}<extra></extra>",
         "labels": [
          "No",
          "Sí"
         ],
         "legendgroup": "",
         "marker": {
          "colors": [
           "#e74c3c",
           "#2ecc71"
          ]
         },
         "name": "",
         "pull": [
          0.05,
          0.1
         ],
         "showlegend": true,
         "type": "pie",
         "values": {
          "bdata": "5Q00Cg==",
          "dtype": "i2"
         }
        }
       ],
       "layout": {
        "legend": {
         "tracegroupgap": 0
        },
        "template": {
         "data": {
          "bar": [
           {
            "error_x": {
             "color": "#2a3f5f"
            },
            "error_y": {
             "color": "#2a3f5f"
            },
            "marker": {
             "line": {
              "color": "#E5ECF6",
              "width": 0.5
             },
             "pattern": {
              "fillmode": "overlay",
              "size": 10,
              "solidity": 0.2
             }
            },
            "type": "bar"
           }
          ],
          "barpolar": [
           {
            "marker": {
             "line": {
              "color": "#E5ECF6",
              "width": 0.5
             },
             "pattern": {
              "fillmode": "overlay",
              "size": 10,
              "solidity": 0.2
             }
            },
            "type": "barpolar"
           }
          ],
          "carpet": [
           {
            "aaxis": {
             "endlinecolor": "#2a3f5f",
             "gridcolor": "white",
             "linecolor": "white",
             "minorgridcolor": "white",
             "startlinecolor": "#2a3f5f"
            },
            "baxis": {
             "endlinecolor": "#2a3f5f",
             "gridcolor": "white",
             "linecolor": "white",
             "minorgridcolor": "white",
             "startlinecolor": "#2a3f5f"
            },
            "type": "carpet"
           }
          ],
          "choropleth": [
           {
            "colorbar": {
             "outlinewidth": 0,
             "ticks": ""
            },
            "type": "choropleth"
           }
          ],
          "contour": [
           {
            "colorbar": {
             "outlinewidth": 0,
             "ticks": ""
            },
            "colorscale": [
             [
              0,
              "#0d0887"
             ],
             [
              0.1111111111111111,
              "#46039f"
             ],
             [
              0.2222222222222222,
              "#7201a8"
             ],
             [
              0.3333333333333333,
              "#9c179e"
             ],
             [
              0.4444444444444444,
              "#bd3786"
             ],
             [
              0.5555555555555556,
              "#d8576b"
             ],
             [
              0.6666666666666666,
              "#ed7953"
             ],
             [
              0.7777777777777778,
              "#fb9f3a"
             ],
             [
              0.8888888888888888,
              "#fdca26"
             ],
             [
              1,
              "#f0f921"
             ]
            ],
            "type": "contour"
           }
          ],
          "contourcarpet": [
           {
            "colorbar": {
             "outlinewidth": 0,
             "ticks": ""
            },
            "type": "contourcarpet"
           }
          ],
          "heatmap": [
           {
            "colorbar": {
             "outlinewidth": 0,
             "ticks": ""
            },
            "colorscale": [
             [
              0,
              "#0d0887"
             ],
             [
              0.1111111111111111,
              "#46039f"
             ],
             [
              0.2222222222222222,
              "#7201a8"
             ],
             [
              0.3333333333333333,
              "#9c179e"
             ],
             [
              0.4444444444444444,
              "#bd3786"
             ],
             [
              0.5555555555555556,
              "#d8576b"
             ],
             [
              0.6666666666666666,
              "#ed7953"
             ],
             [
              0.7777777777777778,
              "#fb9f3a"
             ],
             [
              0.8888888888888888,
              "#fdca26"
             ],
             [
              1,
              "#f0f921"
             ]
            ],
            "type": "heatmap"
           }
          ],
          "histogram": [
           {
            "marker": {
             "pattern": {
              "fillmode": "overlay",
              "size": 10,
              "solidity": 0.2
             }
            },
            "type": "histogram"
           }
          ],
          "histogram2d": [
           {
            "colorbar": {
             "outlinewidth": 0,
             "ticks": ""
            },
            "colorscale": [
             [
              0,
              "#0d0887"
             ],
             [
              0.1111111111111111,
              "#46039f"
             ],
             [
              0.2222222222222222,
              "#7201a8"
             ],
             [
              0.3333333333333333,
              "#9c179e"
             ],
             [
              0.4444444444444444,
              "#bd3786"
             ],
             [
              0.5555555555555556,
              "#d8576b"
             ],
             [
              0.6666666666666666,
              "#ed7953"
             ],
             [
              0.7777777777777778,
              "#fb9f3a"
             ],
             [
              0.8888888888888888,
              "#fdca26"
             ],
             [
              1,
              "#f0f921"
             ]
            ],
            "type": "histogram2d"
           }
          ],
          "histogram2dcontour": [
           {
            "colorbar": {
             "outlinewidth": 0,
             "ticks": ""
            },
            "colorscale": [
             [
              0,
              "#0d0887"
             ],
             [
              0.1111111111111111,
              "#46039f"
             ],
             [
              0.2222222222222222,
              "#7201a8"
             ],
             [
              0.3333333333333333,
              "#9c179e"
             ],
             [
              0.4444444444444444,
              "#bd3786"
             ],
             [
              0.5555555555555556,
              "#d8576b"
             ],
             [
              0.6666666666666666,
              "#ed7953"
             ],
             [
              0.7777777777777778,
              "#fb9f3a"
             ],
             [
              0.8888888888888888,
              "#fdca26"
             ],
             [
              1,
              "#f0f921"
             ]
            ],
            "type": "histogram2dcontour"
           }
          ],
          "mesh3d": [
           {
            "colorbar": {
             "outlinewidth": 0,
             "ticks": ""
            },
            "type": "mesh3d"
           }
          ],
          "parcoords": [
           {
            "line": {
             "colorbar": {
              "outlinewidth": 0,
              "ticks": ""
             }
            },
            "type": "parcoords"
           }
          ],
          "pie": [
           {
            "automargin": true,
            "type": "pie"
           }
          ],
          "scatter": [
           {
            "fillpattern": {
             "fillmode": "overlay",
             "size": 10,
             "solidity": 0.2
            },
            "type": "scatter"
           }
          ],
          "scatter3d": [
           {
            "line": {
             "colorbar": {
              "outlinewidth": 0,
              "ticks": ""
             }
            },
            "marker": {
             "colorbar": {
              "outlinewidth": 0,
              "ticks": ""
             }
            },
            "type": "scatter3d"
           }
          ],
          "scattercarpet": [
           {
            "marker": {
             "colorbar": {
              "outlinewidth": 0,
              "ticks": ""
             }
            },
            "type": "scattercarpet"
           }
          ],
          "scattergeo": [
           {
            "marker": {
             "colorbar": {
              "outlinewidth": 0,
              "ticks": ""
             }
            },
            "type": "scattergeo"
           }
          ],
          "scattergl": [
           {
            "marker": {
             "colorbar": {
              "outlinewidth": 0,
              "ticks": ""
             }
            },
            "type": "scattergl"
           }
          ],
          "scattermap": [
           {
            "marker": {
             "colorbar": {
              "outlinewidth": 0,
              "ticks": ""
             }
            },
            "type": "scattermap"
           }
          ],
          "scattermapbox": [
           {
            "marker": {
             "colorbar": {
              "outlinewidth": 0,
              "ticks": ""
             }
            },
            "type": "scattermapbox"
           }
          ],
          "scatterpolar": [
           {
            "marker": {
             "colorbar": {
              "outlinewidth": 0,
              "ticks": ""
             }
            },
            "type": "scatterpolar"
           }
          ],
          "scatterpolargl": [
           {
            "marker": {
             "colorbar": {
              "outlinewidth": 0,
              "ticks": ""
             }
            },
            "type": "scatterpolargl"
           }
          ],
          "scatterternary": [
           {
            "marker": {
             "colorbar": {
              "outlinewidth": 0,
              "ticks": ""
             }
            },
            "type": "scatterternary"
           }
          ],
          "surface": [
           {
            "colorbar": {
             "outlinewidth": 0,
             "ticks": ""
            },
            "colorscale": [
             [
              0,
              "#0d0887"
             ],
             [
              0.1111111111111111,
              "#46039f"
             ],
             [
              0.2222222222222222,
              "#7201a8"
             ],
             [
              0.3333333333333333,
              "#9c179e"
             ],
             [
              0.4444444444444444,
              "#bd3786"
             ],
             [
              0.5555555555555556,
              "#d8576b"
             ],
             [
              0.6666666666666666,
              "#ed7953"
             ],
             [
              0.7777777777777778,
              "#fb9f3a"
             ],
             [
              0.8888888888888888,
              "#fdca26"
             ],
             [
              1,
              "#f0f921"
             ]
            ],
            "type": "surface"
           }
          ],
          "table": [
           {
            "cells": {
             "fill": {
              "color": "#EBF0F8"
             },
             "line": {
              "color": "white"
             }
            },
            "header": {
             "fill": {
              "color": "#C8D4E3"
             },
             "line": {
              "color": "white"
             }
            },
            "type": "table"
           }
          ]
         },
         "layout": {
          "annotationdefaults": {
           "arrowcolor": "#2a3f5f",
           "arrowhead": 0,
           "arrowwidth": 1
          },
          "autotypenumbers": "strict",
          "coloraxis": {
           "colorbar": {
            "outlinewidth": 0,
            "ticks": ""
           }
          },
          "colorscale": {
           "diverging": [
            [
             0,
             "#8e0152"
            ],
            [
             0.1,
             "#c51b7d"
            ],
            [
             0.2,
             "#de77ae"
            ],
            [
             0.3,
             "#f1b6da"
            ],
            [
             0.4,
             "#fde0ef"
            ],
            [
             0.5,
             "#f7f7f7"
            ],
            [
             0.6,
             "#e6f5d0"
            ],
            [
             0.7,
             "#b8e186"
            ],
            [
             0.8,
             "#7fbc41"
            ],
            [
             0.9,
             "#4d9221"
            ],
            [
             1,
             "#276419"
            ]
           ],
           "sequential": [
            [
             0,
             "#0d0887"
            ],
            [
             0.1111111111111111,
             "#46039f"
            ],
            [
             0.2222222222222222,
             "#7201a8"
            ],
            [
             0.3333333333333333,
             "#9c179e"
            ],
            [
             0.4444444444444444,
             "#bd3786"
            ],
            [
             0.5555555555555556,
             "#d8576b"
            ],
            [
             0.6666666666666666,
             "#ed7953"
            ],
            [
             0.7777777777777778,
             "#fb9f3a"
            ],
            [
             0.8888888888888888,
             "#fdca26"
            ],
            [
             1,
             "#f0f921"
            ]
           ],
           "sequentialminus": [
            [
             0,
             "#0d0887"
            ],
            [
             0.1111111111111111,
             "#46039f"
            ],
            [
             0.2222222222222222,
             "#7201a8"
            ],
            [
             0.3333333333333333,
             "#9c179e"
            ],
            [
             0.4444444444444444,
             "#bd3786"
            ],
            [
             0.5555555555555556,
             "#d8576b"
            ],
            [
             0.6666666666666666,
             "#ed7953"
            ],
            [
             0.7777777777777778,
             "#fb9f3a"
            ],
            [
             0.8888888888888888,
             "#fdca26"
            ],
            [
             1,
             "#f0f921"
            ]
           ]
          },
          "colorway": [
           "#636efa",
           "#EF553B",
           "#00cc96",
           "#ab63fa",
           "#FFA15A",
           "#19d3f3",
           "#FF6692",
           "#B6E880",
           "#FF97FF",
           "#FECB52"
          ],
          "font": {
           "color": "#2a3f5f"
          },
          "geo": {
           "bgcolor": "white",
           "lakecolor": "white",
           "landcolor": "#E5ECF6",
           "showlakes": true,
           "showland": true,
           "subunitcolor": "white"
          },
          "hoverlabel": {
           "align": "left"
          },
          "hovermode": "closest",
          "mapbox": {
           "style": "light"
          },
          "paper_bgcolor": "white",
          "plot_bgcolor": "#E5ECF6",
          "polar": {
           "angularaxis": {
            "gridcolor": "white",
            "linecolor": "white",
            "ticks": ""
           },
           "bgcolor": "#E5ECF6",
           "radialaxis": {
            "gridcolor": "white",
            "linecolor": "white",
            "ticks": ""
           }
          },
          "scene": {
           "xaxis": {
            "backgroundcolor": "#E5ECF6",
            "gridcolor": "white",
            "gridwidth": 2,
            "linecolor": "white",
            "showbackground": true,
            "ticks": "",
            "zerolinecolor": "white"
           },
           "yaxis": {
            "backgroundcolor": "#E5ECF6",
            "gridcolor": "white",
            "gridwidth": 2,
            "linecolor": "white",
            "showbackground": true,
            "ticks": "",
            "zerolinecolor": "white"
           },
           "zaxis": {
            "backgroundcolor": "#E5ECF6",
            "gridcolor": "white",
            "gridwidth": 2,
            "linecolor": "white",
            "showbackground": true,
            "ticks": "",
            "zerolinecolor": "white"
           }
          },
          "shapedefaults": {
           "line": {
            "color": "#2a3f5f"
           }
          },
          "ternary": {
           "aaxis": {
            "gridcolor": "white",
            "linecolor": "white",
            "ticks": ""
           },
           "baxis": {
            "gridcolor": "white",
            "linecolor": "white",
            "ticks": ""
           },
           "bgcolor": "#E5ECF6",
           "caxis": {
            "gridcolor": "white",
            "linecolor": "white",
            "ticks": ""
           }
          },
          "title": {
           "x": 0.05
          },
          "xaxis": {
           "automargin": true,
           "gridcolor": "white",
           "linecolor": "white",
           "ticks": "",
           "title": {
            "standoff": 15
           },
           "zerolinecolor": "white",
           "zerolinewidth": 2
          },
          "yaxis": {
           "automargin": true,
           "gridcolor": "white",
           "linecolor": "white",
           "ticks": "",
           "title": {
            "standoff": 15
           },
           "zerolinecolor": "white",
           "zerolinewidth": 2
          }
         }
        },
        "title": {
         "text": "Proporción de participación en el programa de cashback de Zoop"
        }
       }
      }
     },
     "metadata": {},
     "output_type": "display_data"
    }
   ],
   "source": [
    "import plotly.express as px\n",
    "\n",
    "# Contar cuántos clientes participan o no en el programa\n",
    "cashback_counts = df[\"cashback\"].value_counts().reset_index()\n",
    "cashback_counts.columns = [\"Participa\", \"Cantidad\"]\n",
    "\n",
    "# Crear diccionario de colores personalizados\n",
    "colores_personalizados = {\"Sí\": \"#2ecc71\", \"No\": \"#e74c3c\"}  # Verde  # Rojo\n",
    "\n",
    "# Definir explosión para separar las secciones del gráfico\n",
    "pull_valores = [0.1 if val == \"Sí\" else 0.05 for val in cashback_counts[\"Participa\"]]\n",
    "\n",
    "# Crear gráfico circular con colores y separación\n",
    "fig = px.pie(\n",
    "    cashback_counts,\n",
    "    names=\"Participa\",\n",
    "    values=\"Cantidad\",\n",
    "    title=\"Proporción de participación en el programa de cashback de Zoop\",\n",
    "    color=\"Participa\",\n",
    "    color_discrete_map=colores_personalizados,\n",
    "    # hole=0.3,\n",
    ")\n",
    "\n",
    "# Aplicar la separación (pull)\n",
    "fig.update_traces(pull=pull_valores)\n",
    "\n",
    "# Mostrar gráfico interactivo\n",
    "fig.show()"
   ]
  },
  {
   "cell_type": "markdown",
   "id": "399d813c",
   "metadata": {},
   "source": [
    "> 💡 Gráfico de Pie es una buena opción para cuando hay pocas categorías o mejor aún cuando los datos son **dicotómicos**."
   ]
  },
  {
   "cell_type": "markdown",
   "id": "beed18fa",
   "metadata": {},
   "source": [
    "# Distribución de datos"
   ]
  },
  {
   "cell_type": "markdown",
   "id": "8d733f4c",
   "metadata": {},
   "source": [
    "## Pregunta 6: ¿Cómo están distribuidas las calificaciones de la compra? ¿Tenemos buenos números en general?\n",
    "\n",
    "#### Prompt\n",
    "\n",
    "Tenemos un DataFrame llamado \"df\" y queremos construir un gráfico que muestre la distribución de las evaluaciones del público en relación con las compras realizadas en la tienda online.\n",
    "\n",
    "En \"df\", tenemos la columna \"nota\" con las calificaciones otorgadas por cada usuario en relación con la compra que realizaron, que varían de 0 a 10 en números enteros.\n",
    "\n",
    "Deseamos crear una visualización que muestre la distribución de estos datos.\n",
    "\n",
    "Utiliza las bibliotecas de visualización de datos de Python para crear este gráfico.\n",
    "\n",
    "#### Respuesta\n",
    "\n",
    "Para mostrar la **distribución de las evaluaciones del público** (columna `nota`, de 0 a 10), una visualización adecuada sería un **histograma** o un **gráfico de barras** que muestre la frecuencia de cada calificación.\n",
    "\n",
    "A continuación te muestro ambas opciones usando **Plotly** para interactividad y **Seaborn** como alternativa estática.\n",
    "\n",
    "---\n",
    "\n",
    "### ✅ Opción 1: Gráfico interactivo con Plotly\n",
    "\n",
    "```python\n",
    "import plotly.express as px\n",
    "\n",
    "# Crear histograma con Plotly\n",
    "fig = px.histogram(\n",
    "    df,\n",
    "    x='nota',\n",
    "    nbins=11,  # de 0 a 10, enteros\n",
    "    title='Distribución de las calificaciones del público',\n",
    "    labels={'nota': 'Calificación', 'count': 'Cantidad'},\n",
    "    color_discrete_sequence=['#3498db']\n",
    ")\n",
    "\n",
    "fig.update_layout(bargap=0.2)  # separación entre barras\n",
    "fig.show()\n",
    "```\n",
    "\n",
    "---\n",
    "\n",
    "### ✅ Opción 2: Gráfico de barras con Seaborn\n",
    "\n",
    "```python\n",
    "import seaborn as sns\n",
    "import matplotlib.pyplot as plt\n",
    "\n",
    "# Ajustar estilo\n",
    "sns.set(style=\"whitegrid\")\n",
    "\n",
    "# Crear gráfico de conteo\n",
    "plt.figure(figsize=(8,5))\n",
    "sns.countplot(data=df, x='nota', palette='Blues')\n",
    "\n",
    "plt.title('Distribución de las calificaciones del público')\n",
    "plt.xlabel('Calificación')\n",
    "plt.ylabel('Cantidad')\n",
    "plt.xticks(range(0, 11))  # Asegura que salgan del 0 al 10\n",
    "plt.show()\n",
    "```\n",
    "\n",
    "---\n",
    "\n",
    "### 🧠 ¿Qué muestra este gráfico?\n",
    "\n",
    "* Qué calificaciones son más comunes.\n",
    "* Si los clientes suelen evaluar bien o mal.\n",
    "* Posibles problemas si hay muchas notas bajas (0–3).\n",
    "\n",
    "¿Quieres dividir esta distribución por método de pago, edad o región? También se puede hacer para profundizar más."
   ]
  },
  {
   "cell_type": "code",
   "execution_count": 11,
   "id": "3a7049d8",
   "metadata": {},
   "outputs": [
    {
     "data": {
      "application/vnd.plotly.v1+json": {
       "config": {
        "plotlyServerURL": "https://plot.ly"
       },
       "data": [
        {
         "bingroup": "x",
         "hovertemplate": "Calificación=%{x}<br>count=%{y}<extra></extra>",
         "legendgroup": "",
         "marker": {
          "color": "#3498db",
          "pattern": {
           "shape": ""
          }
         },
         "name": "",
         "nbinsx": 11,
         "orientation": "v",
         "showlegend": false,
         "type": "histogram",
         "x": {
          "bdata": "CggHCQkKCggKCQcKCgcJCgkJCQkJBwgJCgcHCQcBCQkJCQkHCQoJCQoKBwoICQkICAEICAkKCgkJCAIKCAgKBwgJCQoHCQMKAgoJCQkJCQcICgkICQoJCQoJAAoJCgkJCAkICQkJBwcJCgkKCQoJCQoKCgcJCQYJCgoKCAgJCggHCQoKCQoJCQoJCAoJCAkJCQkICAoJCgkHBgoKCQkICQkKAwkJBwkCBgoIBwkJCQkICQkHBwkKBwkJBwcJCgkJCQoJCAkJCQoJCQkKCggKBwoJCQIBCQoFBwcJCAoDCgcICgkICQkFCQoICQkHCAkKCQMJBwoKCQkJCAkJCQgJBwkIBgoJCQUIBwkCCQkHCAkKCQoKCQkEAQkKCQkKAggICQoICQkJCQkJCggICAkKBwkHCQoICQoKBwkKBwoICgoKCQkJCQoJCAkJCgkKCQkIBwkICgcHCAkJCQUKCQoECAgKBwcCBwcGCQkKCQoHCgoGCQgKCAkICgoJBAoICQoHCQkFBgkJCAkBCgkJBgoJCgkBAgkJCQkJCQkKCQkJCggKCQgICAoKCQcJAwcKCQkKCgkHBwkICQkHCQgICAoKBwkICQkJCgkGBwkICQoJBAoEBggJCgoJCQkHCQgKCgkJCQgKCQUKCAoHCgkJCgoIBwoJCQgICQoJCQoJCQUJCggICggABwQJBwkKCAgJCgYKCQoJCAoIBwkJBwkICQoKCQkHCgoJCQkJCgoECgkHAQoIBgcIBgoCCgkACQkJCQcHCQoHBwoJCgkJCQkJCQkKBgkJBQkICgcJCQgKCQMJCgcJCQkJCgYIBwoJCQkHCQkHCggJCQoJCgkJCQkHCAoJCQkJCQcHCQkICgMICQkICQgHCgkJBwgJCgkJBgkJCgkJCAoKBwkKCAcHCQkKAgoJBgoHCAkJCgcKCgMHCQkKAwgKAwoKCgkJCAIGCgkJCgkHCAoJCgoGCQoJCAkJCgoKCQkKCQkKCQkJCQkJCAcJCQcJBQkKCAcKCQkJBwoJCgoJCgkICgoICgkJCQkJCgoICQkKCgkKBwcJCQkJCAkKCAcHCgoKCQgJCAgJCgQJCAoICQkJCQoHCQQJCQQIBgkICQkICgoJCAkKBwcJBgoICgcJCAoJCggICQcHCQgJBQcJCgkHCQkKBwAHCgkHCQoJBwkECAkHCQcKBwoJCQkKCQkJBwoHCQkKCggGCQoKCQoJBgoKBwoJCAkJCAcKCgoICAoJCgoJBQkHBAkHCQgIBwcKCgoJCAoKCQkKCQkKCgcIBwcKCQkICQoKCAgICQkJCAkBCgkJCQAKCgkHCQkJBwcJCAkEBwkHCQgBBgoKBwgKBwkHCQgJCgkKBwoICQcJCAgJBQoFCgQJCgoKCQkJBAYHCgkABQkJCgoKCQoIBQkKCgcKBAkJCgkACgkJBggHCgcICgUJCgoIAAUICQoHCQgJCgoHCggHBwkJCgkJCQkICAoJCgYGCgUKCgkHCQoICgYJCAQICAkFCAkJCggKCQoKCQkHCQcJAwoKBgkJCQkHAQkIBQkJCQQICAoJBAoKCgcKBwcECgkICQoKCQoEBwcJCAgJCQkKCgoJCQQICgkJCAkKBwcJCQQJAQoJCQgJCgkJCQcJCAcJCQIKAgoJCAkJCQkJBgkJCAkHCAoHBAYICgcFCQoJCQcECQkJCQoJCQoKCQkICgkJCQkICgcKCQcIBwkGCQoHCQkICgkJCQkKAgIGCQkIBwkICQkJCgkBCgMIBgkKCgcJCgkJCQkICAoKCQgKAwkJCQoJCQoJCQgKCgYJAQkKCggKCgYJCQkIBAoIBwoKBwkKCgcJCgkJCgkJCQgJCAoJCgkICQkIBgkJCAgHCQgJCgkKCgkGCgkJCQkCAggKCgkJCQkJBwUHCQcICgcKCgcJCQkKCgcJCgkJCQgCCgcJCQgJBwoKCggKCQkKCQoJCQkHCgkJCgkECQgJCAcKCAcJCQgDCgkECQoKCQoICQoJCQoJCAgJCgkJCQgCCgkKCAcJCgkJCQkJCQkHCQgICgMKBwkJCggJCAoIBwcJCQkHCQgHCQkICQgHCgkICQYJCgkICQkJCgoGBAUICgkJAQkKCgkFCQcKCAcJCgkGCQkJCgoJAQoDCQoJCgkGCgkHCgcKCAgCCgoHCgcKBwoFCQgJCgcCCQkJCgcKCQgKCgcECgoJCQkICQgJCQkACgoKBwkKCAkJAQoJBwkJBwoICgkGCgkJCAkKCgoJCAYKCQgICQgIBwkJCQkKCgkHCAIKCQgJCgAJCQgICQkJCgkICQkDCgoJCgkJBQcICAoKCQkJCQkKCgkICQkKCAoJCQkKCQkJCAkJCAkJBwcKBwgJCgkKCQoICQgHCQgECAgJCQkJCQIKBAgJCAkKCggCBwoHCAcKCQgKCQkKCQcJCQoJBwoICQkJCQYICgkKCAoKCgUICgoHCgoJCQoFCgoKCQkIBwoIBAkJCQcJCAgJCQgHCQICBwkJCgkJCQkKCQkHCQkJBwoJCQkICQYKBwcJCQkJCQkHCgcKBAkJCgkKCgUKCQoJCgkJCAUJCQQICggKCQkKCgoJCgoECQgJAgcJCQkJCQkKCQkHCQkJBwgGCQkKBwcJCQgHCgAKCQgHAQoKCQcFCggICQkKCQkJBwkJCQoJCAkJCAoJCQkJCggJCgkJCgoJCQkHCQkJBwkHCQkJCgkJCQoICQoKCAgIAgkKCQkICgkIAwYJCQgJCgEKCgkICQcHCQEHCgAJCggKCgkJCAkJCQgKBwkHCQgKCQkGAQkIBwgJCQkJAwkHBwkJBwkECgoGBwoICgcJCAoHCQkKCAgJCQoJCgoIBQkICgUICAkJCgQJCQkJCQkKCAkICQQJBwgKCgkJCgkJBAoJCQkJCQgJCgoKCQkJCQQJCgoJBwoJCQkJCgoKCQgKBwkKCQkKCggJCAoICQcKCAkKCQoJCQkHAwkICggKCgcFBwoJBwoHCQkKBwcHCgoJCQkKAggJCQcDCQoICQkJCQoHCQcJCAoJCQoKCQcIBwkGCQoJCQkHCQkKCgkGCgkJBwkKBAkICgoHCgoICQkECQoJCQoKCQgKCgcJCQkHBwkKCgkKCQkJCAkFCQgKCQgJCAoIAwgJCQkJCAkKBwgKBwkKBwkJCgcECQkJCQoJCQkJBwoJCQkHCQkGCgkICQkKBwgJCAkKCgcECgoJCQkJBwcJCQgHCQkJCAcJCAgICgcKCQgKBwQJCAgHBgoFCQcJCggICQkECQkDCQoKBwkJCggHCQkJBwcKCQYICQMICQgJCQkICQoJBgkHCQkJCAcHCQoKCQkICQkJCQkKBwcHCgcKCQkHCgkDCgoKCAkKBwoKCgkFCQoGCgkFBAkIBwoCCgkHCQkJBgcJCQcBCAgFCgkCCQkKCQgJCgUKCgoJCQkIBAgJCQAHCAkHCgUICQcICQYKCQkJCgkKCgkJCgcICAkKCgcGCQoKCQkJBwgJCgkJCgcICAcJBgkKAAgKCQkJCQoJCgoJCgkICAkKCgoHCggJCAkJCAoFCQcJCQkFBwkKCgcJCAgICQkJBwkECQkKCAkJCQgKBAoJAwgIBQkIBgoICQkKCQgIBwYHCQIKCQcKBQcICgkJCAkKCAgIAAoJCAcICQoJCQoHCQkJCgkKCgoCBwkJCQkGCAcICQkJBwcICgoJCAkKCAoJCgkACQkICQkJBwkICAkHCQkHCgkJCgkJCAcJCAkKBgkJBgcJCQUJCQkJCgoJCgcJCgcJCgoHCQgGCgoJCAgHCAcHCgoICQcKBAkJBwkJCQcJCQkKCgoICQgKCQkJAwkJCgcECAoJCggIBQkKBwgHCQkKAwkKCgcICAkJCAcJBwkKCgoECgoKCAkJCAkKBwoKCQgKCQoJCAkKCAoGCQkKCQkKCQkJAAkJCgoJCQgJCAYFBAkKCQkJCgIHCgkECQkICQcKBgkHBwkBCQkJCggICgkHBwoKCgoKBwkICQgJCQgJBwkHCQkHCgcHCgcKCQoJCAkKCQoKBwUJCgkKCAkJCgcJCAgHCQQJCggJCQkKCAoKCQUEBwkICQgJCggHCAgJCAkJCQgJCAYHAQoKCgkFCgkJCQYJCQcHCgoHCgoJCQkHCgkJCQoKCQkKAgoKCgoJCgoECgkKCgoJCAkJCgoIBQkKCggHCAoJCgoJCQYJBwgDAAkJBwoHCAoJCAcJCQkKCQkJBAQICQQICQkJCQkKCAQKCggICAoKCQkFCAkBCQkJCggJCAkJCQkJBwoJCQkKCgkJCQoKCgcDCgkJCQoKCAcJCggDCAcHCAQIBwkJCgkGCQoJCgoJCQoJCQcJCQkJBwkKCgcJCAYKCQcKCAoICAcICQAJBwoHBQQIBwAJCQkICQkJBwoKCQcKCQgJCQkJCAkJBwoKCQkJCAUJCAkJCQoGCgkICgkECQkHBwgICQoKCQkJCAkJCggJCgoJCQkICgoECQoJCQoICgYJCQcKBAoKCQoJCQoDCQcJCQkICgkJCQkJCAcKCQkICQgJCggJCgcJCggECQgJCQkICQkJCQkIBwoJCgMKCQkJCQoJCgoJCQgKCgkGBgkICQMICQoJCQoJCQkKCggKCgYHCQcJBAgKCQkKCgkJCgkACQIIBwkKCgkGCQoICgcIBgoJCgoKCgkJCgkKCQoJCgkJBgoJCAkJCgkIBwoJCAoJCQkHCQIGCggICQUKCQcIBwgHCgoICAkICQoJCgoJBwkJCgkKCAYKCQkJBwoJCgkJCgkKCQkJCgkKCQkICQcKCgcJCgkKCgoJCQkJCgoJCgoICgoHCQkJCQkICQgKCQkICQgHCAgJCQQHCAgDBAMKAAoFCQoJCQkICgcKCgcDCQUJBwkKCQkKCQkICgkHCQcKCQoKCQkJCQoKCgoKCQkJCAkJBwkJCgcJCQkJBwoICQkJCQIIBwgJCgUJCgkHCAkKCgUJCgoIBwkJCgoCCQoKCAoKCgkJCQcJCQkJBgkHCQoHCAYKCAoJCQcKCQkJCQgJCQkKCAcJCQkJCQoHCgcICAoJCggJCQoECAgKCQcICAoKCgkKCAEJCAYKBwkKAggJCQkJBwkJCgkKCQoHCAkJCQoKBwgKCgkICAcJCQkKBwMICAcICQgIBwgHBwgKBwkICQkJCQgJCgkICQoKCgkFCQgJCAgCCAkJCgcKCgkJCQkJCQkJCAcJCQkDBgkJBQYECQoECAkKCQkICgoJCAkKCgcJCQYHCQMIAAkJCQkJCgQICgkHCQkJBwkJBgkKCQgFCQkJCQcGCQcJCQoJCQoJCAkJCQoICQkKCgkKBwkKCgkJCggJCgkJCAoKCAkJBgkJCQoHBgkJCAkKCQoICgcJCgkIBwcHCQkHBAkJCAcIAwgKCgcJCAYIBwcIAwgICQkJCQoICQkHCQcHBQoJCgQKCgkJCAgJCQgICQkKCQgJCggJCQkJCQkKCgkICQgJCgkJCgoICAgJCgkICAkHCQcJCggKCAoJCAgECAoHCQkJCgkJCQoJCQoJCAkKCQoKCgkJCAoJCgcIBwoICgYICQkIBwoKCQgKCgYJCgQJBwcKCQkJCQkHBwoIBAgKCgcGBwcJCggICQkHCQAKCQkJCggKCgkJBwkJCQUKBgkJCAkHCAkJCQoKCgcECAkJCgkCCAgJCgkECQoKCQgKCQkJBwkJCgkKCQkJCAoJAwkKCQkHCQkIBgoDCQkJCAkIBwMCCgkKCgkHCQcICAkICgkJCQoICQkICQQECgkKCAgJCgkICAoJCQoJCggJCQQJBwoKCQkHCQkICgkKCQgHCQkGCQkHCgkJCQkJCggJAgkJCgcACQkKCgcKCQIHCgkICQkJCQoKCQcJCQgHBQcKCQoIBwcJCQgHBwcKBwkICAcJCQkJCAoJCgUJCgkKCAcECgkICAkKCQcGCQcJCgoKCQgHCQgJCQkHCQcJCgkHCQcKCAoKCgkICQoIBwcICQkJCQkJBwgJCAkKBwgJCgkCCQoGBwkICAoJCQoHBwgJCQcJCgoHCQoKCQoHCAkJCAkKCAkJBAkJCQgICAoJCQoJAwkJCgkIAwoGCgkJCQkIBwoHCgMKCQgHCAoJCgoJBwkHBwoICAkKCgcJBwoBBwkKCgkJBwoJCAcHCgIJCgYKCQoJCQoHCQkKCQoJCQMKCQkKCQgJCQcCCAoJCgoKCggKCQgKCAoHCQkKCQAICAoKAwoKCQkICQoICQoJCQkJCgcJAwcICQkICQgKCggJCAoICQkJCgQKCgoJCQoKCQcGCQkHCAoJCAkJCQgKCgkICgkKCQcKCQgJCQYFBAcKCQkKCQMECgoKCgkJCgkECQgKCQkJBwkJCQkJBQcJBwoKCAkKCQoJCQoKBwkFCQQJCQoKCQkJCQoJBwoKCAoICAgJCggJCgoKBwoJCgoJCQgKCQkJBwkJCgkJBgkICQkHCQYHCQgJBQoKCAkIBwkJCQkJCggIAAcJCQkIBQkJCgkICAoJCAoJCQUJCQkKCgoJCgkKCQkJCAoKBwgFCQEICAgKBwkJCQkGBwgJCgYJCgoKCgoHBAkKBwcFCQkJCQgICAgJCQkJCgoJCQkJCAgJCgoJBwoKCAgJAgkJCAgJCAkKCQkJCQkJCgkJCgkJBwoICQkKBwoKCQkJBwcJCQgICQgKCAoJCQoBCggJCQkKAAoKCggICQcKCgkJCgkJCQgJCQkJBwoKCQoFCAoJBwkHCAkJCQkHCQgECgoJCgkJCQcKCQoJCQkJCQkHCQoCBwkKBwoIBwkKCQkJCQoKAAQKCQoKCAIJCQgICAkIBAoFCQgJCQcICgkKCAkKCAkDBwgKBwgFCQkHBQgKCQkJCggIBwoICAoHCQkKCQkKCAkJBwgICgkICQoDCgoJBwkJCQkICAkKBwcGCgkJCQkHCgMJCAkKCAkKCAEHCggICQkKCgcHCAgJCAkJCgoJCggJCQoKCAkICQkJCQgKCQkKCQkIBwoICgQIBwcKCgkJCQUKCgoKCAkJAgkJCQoICAoHCQcJCQkHCAoKCgcJCgkICgoKBwoJCQoJCQkKCgcKCQgJBwkJCQgKBwcICQkIAgkKCQkJCgoJCAkICAcJBwkICQoGBgoJCQoKCAkKCgoJCQkJBwoKBgoJCQoKCgkICgkIBAgACQkJCQoKCAoKCQcJCAoKCAkJCQgICgoKCQQJBwoICgkICggJCQkICgoKCQcJCAkJCAkICAgKCQgICAQJCQgICQkICgIHCgQJCQoHCgcKCAkKCQoKCgoJCQoKCQkEBwkKCQgKAgoJCQkJCQgICQkFCAkHCQoIBwoJBwoJCQYJCQgJCQkJCAcJCgoJCQcJCgkJCQkJBwkKCgoKCgoKCQkJCAoICQUHCQYKBwkKCggGCQgJCQoIBgkECgkJBAgJBwoKCQoJCQkICQkJCggICQgJCAgJCQIJCQoKCQkKBQcACgkIBwkIBwgJCQgKCQgJCQoKCgkJBwkICAoICQMJCgoJCAkHCQkHBwkHCQkKCQEJCgkICgoECQgIBwoHCQoJCQkJCQcFCQkKCQgJBwgJBwoHCQoICAkJCgkIBwcKCgcJCAkHCQoKCgoICQoDCQkKCgkJCQkGCQoJCQoICggHBwkKCQcJCQkKCQkIBwkHCQkIAQkKCAYKCgkJCAkJBggJCAgICgcKCQkHCQoKCgkKCgYFAgkJCQkJCAoICAkJCQgICgoJCgkJCQoJCQoJCQkIBwkJCgkICQcKBwkJCQkHCAoJCgkJBwkJCQkICgkICAkJCggJCQoJCQkKCQkICgoGCQkKCAkJCQoJCQkKCAkICQkICgYKBwcICQkCCQkKCQkHCQkJCggJCgoJCQgIBgoKAwoICQoJCAoKBwgKCQkJCQkJBwkJBQcKBwoJBgoJCggJCQkKCgoHCAkJCgcJBAkJCAoJBwoICQkJCQcJCAQJCAkICQoJCQcKBwoKCQkJAAgICQkKCQMJCQYKCgkKCgcHCgkJCgkJCAkHCAgHBAYICQkKCQoJBwoHCAoKCAkJCQkJCgoJCQoKBwgJCgoICAcJCQgBBwkICgoJCAkHCQkJCQkJCQcICggFBggJCQgJBQQHCgkKBAkJCAkJBwkBCQoJCAoKCgkJCQoHCAoKCQkKCgoKCgkJCgoHBwUJCQoKCQoKCgkJCQMKCQgKCQcJCgoHCggHBwoKBwcKBwoGCQkECQgKCAYJCggJCQkIBwkKBwoJCgoJCgcECgUJCAkICAgGCQkKCAkKBwcICgkJCQgKBwgJCQ==",
          "dtype": "i1"
         },
         "xaxis": "x",
         "yaxis": "y"
        }
       ],
       "layout": {
        "bargap": 0.2,
        "barmode": "relative",
        "legend": {
         "tracegroupgap": 0
        },
        "template": {
         "data": {
          "bar": [
           {
            "error_x": {
             "color": "#2a3f5f"
            },
            "error_y": {
             "color": "#2a3f5f"
            },
            "marker": {
             "line": {
              "color": "#E5ECF6",
              "width": 0.5
             },
             "pattern": {
              "fillmode": "overlay",
              "size": 10,
              "solidity": 0.2
             }
            },
            "type": "bar"
           }
          ],
          "barpolar": [
           {
            "marker": {
             "line": {
              "color": "#E5ECF6",
              "width": 0.5
             },
             "pattern": {
              "fillmode": "overlay",
              "size": 10,
              "solidity": 0.2
             }
            },
            "type": "barpolar"
           }
          ],
          "carpet": [
           {
            "aaxis": {
             "endlinecolor": "#2a3f5f",
             "gridcolor": "white",
             "linecolor": "white",
             "minorgridcolor": "white",
             "startlinecolor": "#2a3f5f"
            },
            "baxis": {
             "endlinecolor": "#2a3f5f",
             "gridcolor": "white",
             "linecolor": "white",
             "minorgridcolor": "white",
             "startlinecolor": "#2a3f5f"
            },
            "type": "carpet"
           }
          ],
          "choropleth": [
           {
            "colorbar": {
             "outlinewidth": 0,
             "ticks": ""
            },
            "type": "choropleth"
           }
          ],
          "contour": [
           {
            "colorbar": {
             "outlinewidth": 0,
             "ticks": ""
            },
            "colorscale": [
             [
              0,
              "#0d0887"
             ],
             [
              0.1111111111111111,
              "#46039f"
             ],
             [
              0.2222222222222222,
              "#7201a8"
             ],
             [
              0.3333333333333333,
              "#9c179e"
             ],
             [
              0.4444444444444444,
              "#bd3786"
             ],
             [
              0.5555555555555556,
              "#d8576b"
             ],
             [
              0.6666666666666666,
              "#ed7953"
             ],
             [
              0.7777777777777778,
              "#fb9f3a"
             ],
             [
              0.8888888888888888,
              "#fdca26"
             ],
             [
              1,
              "#f0f921"
             ]
            ],
            "type": "contour"
           }
          ],
          "contourcarpet": [
           {
            "colorbar": {
             "outlinewidth": 0,
             "ticks": ""
            },
            "type": "contourcarpet"
           }
          ],
          "heatmap": [
           {
            "colorbar": {
             "outlinewidth": 0,
             "ticks": ""
            },
            "colorscale": [
             [
              0,
              "#0d0887"
             ],
             [
              0.1111111111111111,
              "#46039f"
             ],
             [
              0.2222222222222222,
              "#7201a8"
             ],
             [
              0.3333333333333333,
              "#9c179e"
             ],
             [
              0.4444444444444444,
              "#bd3786"
             ],
             [
              0.5555555555555556,
              "#d8576b"
             ],
             [
              0.6666666666666666,
              "#ed7953"
             ],
             [
              0.7777777777777778,
              "#fb9f3a"
             ],
             [
              0.8888888888888888,
              "#fdca26"
             ],
             [
              1,
              "#f0f921"
             ]
            ],
            "type": "heatmap"
           }
          ],
          "histogram": [
           {
            "marker": {
             "pattern": {
              "fillmode": "overlay",
              "size": 10,
              "solidity": 0.2
             }
            },
            "type": "histogram"
           }
          ],
          "histogram2d": [
           {
            "colorbar": {
             "outlinewidth": 0,
             "ticks": ""
            },
            "colorscale": [
             [
              0,
              "#0d0887"
             ],
             [
              0.1111111111111111,
              "#46039f"
             ],
             [
              0.2222222222222222,
              "#7201a8"
             ],
             [
              0.3333333333333333,
              "#9c179e"
             ],
             [
              0.4444444444444444,
              "#bd3786"
             ],
             [
              0.5555555555555556,
              "#d8576b"
             ],
             [
              0.6666666666666666,
              "#ed7953"
             ],
             [
              0.7777777777777778,
              "#fb9f3a"
             ],
             [
              0.8888888888888888,
              "#fdca26"
             ],
             [
              1,
              "#f0f921"
             ]
            ],
            "type": "histogram2d"
           }
          ],
          "histogram2dcontour": [
           {
            "colorbar": {
             "outlinewidth": 0,
             "ticks": ""
            },
            "colorscale": [
             [
              0,
              "#0d0887"
             ],
             [
              0.1111111111111111,
              "#46039f"
             ],
             [
              0.2222222222222222,
              "#7201a8"
             ],
             [
              0.3333333333333333,
              "#9c179e"
             ],
             [
              0.4444444444444444,
              "#bd3786"
             ],
             [
              0.5555555555555556,
              "#d8576b"
             ],
             [
              0.6666666666666666,
              "#ed7953"
             ],
             [
              0.7777777777777778,
              "#fb9f3a"
             ],
             [
              0.8888888888888888,
              "#fdca26"
             ],
             [
              1,
              "#f0f921"
             ]
            ],
            "type": "histogram2dcontour"
           }
          ],
          "mesh3d": [
           {
            "colorbar": {
             "outlinewidth": 0,
             "ticks": ""
            },
            "type": "mesh3d"
           }
          ],
          "parcoords": [
           {
            "line": {
             "colorbar": {
              "outlinewidth": 0,
              "ticks": ""
             }
            },
            "type": "parcoords"
           }
          ],
          "pie": [
           {
            "automargin": true,
            "type": "pie"
           }
          ],
          "scatter": [
           {
            "fillpattern": {
             "fillmode": "overlay",
             "size": 10,
             "solidity": 0.2
            },
            "type": "scatter"
           }
          ],
          "scatter3d": [
           {
            "line": {
             "colorbar": {
              "outlinewidth": 0,
              "ticks": ""
             }
            },
            "marker": {
             "colorbar": {
              "outlinewidth": 0,
              "ticks": ""
             }
            },
            "type": "scatter3d"
           }
          ],
          "scattercarpet": [
           {
            "marker": {
             "colorbar": {
              "outlinewidth": 0,
              "ticks": ""
             }
            },
            "type": "scattercarpet"
           }
          ],
          "scattergeo": [
           {
            "marker": {
             "colorbar": {
              "outlinewidth": 0,
              "ticks": ""
             }
            },
            "type": "scattergeo"
           }
          ],
          "scattergl": [
           {
            "marker": {
             "colorbar": {
              "outlinewidth": 0,
              "ticks": ""
             }
            },
            "type": "scattergl"
           }
          ],
          "scattermap": [
           {
            "marker": {
             "colorbar": {
              "outlinewidth": 0,
              "ticks": ""
             }
            },
            "type": "scattermap"
           }
          ],
          "scattermapbox": [
           {
            "marker": {
             "colorbar": {
              "outlinewidth": 0,
              "ticks": ""
             }
            },
            "type": "scattermapbox"
           }
          ],
          "scatterpolar": [
           {
            "marker": {
             "colorbar": {
              "outlinewidth": 0,
              "ticks": ""
             }
            },
            "type": "scatterpolar"
           }
          ],
          "scatterpolargl": [
           {
            "marker": {
             "colorbar": {
              "outlinewidth": 0,
              "ticks": ""
             }
            },
            "type": "scatterpolargl"
           }
          ],
          "scatterternary": [
           {
            "marker": {
             "colorbar": {
              "outlinewidth": 0,
              "ticks": ""
             }
            },
            "type": "scatterternary"
           }
          ],
          "surface": [
           {
            "colorbar": {
             "outlinewidth": 0,
             "ticks": ""
            },
            "colorscale": [
             [
              0,
              "#0d0887"
             ],
             [
              0.1111111111111111,
              "#46039f"
             ],
             [
              0.2222222222222222,
              "#7201a8"
             ],
             [
              0.3333333333333333,
              "#9c179e"
             ],
             [
              0.4444444444444444,
              "#bd3786"
             ],
             [
              0.5555555555555556,
              "#d8576b"
             ],
             [
              0.6666666666666666,
              "#ed7953"
             ],
             [
              0.7777777777777778,
              "#fb9f3a"
             ],
             [
              0.8888888888888888,
              "#fdca26"
             ],
             [
              1,
              "#f0f921"
             ]
            ],
            "type": "surface"
           }
          ],
          "table": [
           {
            "cells": {
             "fill": {
              "color": "#EBF0F8"
             },
             "line": {
              "color": "white"
             }
            },
            "header": {
             "fill": {
              "color": "#C8D4E3"
             },
             "line": {
              "color": "white"
             }
            },
            "type": "table"
           }
          ]
         },
         "layout": {
          "annotationdefaults": {
           "arrowcolor": "#2a3f5f",
           "arrowhead": 0,
           "arrowwidth": 1
          },
          "autotypenumbers": "strict",
          "coloraxis": {
           "colorbar": {
            "outlinewidth": 0,
            "ticks": ""
           }
          },
          "colorscale": {
           "diverging": [
            [
             0,
             "#8e0152"
            ],
            [
             0.1,
             "#c51b7d"
            ],
            [
             0.2,
             "#de77ae"
            ],
            [
             0.3,
             "#f1b6da"
            ],
            [
             0.4,
             "#fde0ef"
            ],
            [
             0.5,
             "#f7f7f7"
            ],
            [
             0.6,
             "#e6f5d0"
            ],
            [
             0.7,
             "#b8e186"
            ],
            [
             0.8,
             "#7fbc41"
            ],
            [
             0.9,
             "#4d9221"
            ],
            [
             1,
             "#276419"
            ]
           ],
           "sequential": [
            [
             0,
             "#0d0887"
            ],
            [
             0.1111111111111111,
             "#46039f"
            ],
            [
             0.2222222222222222,
             "#7201a8"
            ],
            [
             0.3333333333333333,
             "#9c179e"
            ],
            [
             0.4444444444444444,
             "#bd3786"
            ],
            [
             0.5555555555555556,
             "#d8576b"
            ],
            [
             0.6666666666666666,
             "#ed7953"
            ],
            [
             0.7777777777777778,
             "#fb9f3a"
            ],
            [
             0.8888888888888888,
             "#fdca26"
            ],
            [
             1,
             "#f0f921"
            ]
           ],
           "sequentialminus": [
            [
             0,
             "#0d0887"
            ],
            [
             0.1111111111111111,
             "#46039f"
            ],
            [
             0.2222222222222222,
             "#7201a8"
            ],
            [
             0.3333333333333333,
             "#9c179e"
            ],
            [
             0.4444444444444444,
             "#bd3786"
            ],
            [
             0.5555555555555556,
             "#d8576b"
            ],
            [
             0.6666666666666666,
             "#ed7953"
            ],
            [
             0.7777777777777778,
             "#fb9f3a"
            ],
            [
             0.8888888888888888,
             "#fdca26"
            ],
            [
             1,
             "#f0f921"
            ]
           ]
          },
          "colorway": [
           "#636efa",
           "#EF553B",
           "#00cc96",
           "#ab63fa",
           "#FFA15A",
           "#19d3f3",
           "#FF6692",
           "#B6E880",
           "#FF97FF",
           "#FECB52"
          ],
          "font": {
           "color": "#2a3f5f"
          },
          "geo": {
           "bgcolor": "white",
           "lakecolor": "white",
           "landcolor": "#E5ECF6",
           "showlakes": true,
           "showland": true,
           "subunitcolor": "white"
          },
          "hoverlabel": {
           "align": "left"
          },
          "hovermode": "closest",
          "mapbox": {
           "style": "light"
          },
          "paper_bgcolor": "white",
          "plot_bgcolor": "#E5ECF6",
          "polar": {
           "angularaxis": {
            "gridcolor": "white",
            "linecolor": "white",
            "ticks": ""
           },
           "bgcolor": "#E5ECF6",
           "radialaxis": {
            "gridcolor": "white",
            "linecolor": "white",
            "ticks": ""
           }
          },
          "scene": {
           "xaxis": {
            "backgroundcolor": "#E5ECF6",
            "gridcolor": "white",
            "gridwidth": 2,
            "linecolor": "white",
            "showbackground": true,
            "ticks": "",
            "zerolinecolor": "white"
           },
           "yaxis": {
            "backgroundcolor": "#E5ECF6",
            "gridcolor": "white",
            "gridwidth": 2,
            "linecolor": "white",
            "showbackground": true,
            "ticks": "",
            "zerolinecolor": "white"
           },
           "zaxis": {
            "backgroundcolor": "#E5ECF6",
            "gridcolor": "white",
            "gridwidth": 2,
            "linecolor": "white",
            "showbackground": true,
            "ticks": "",
            "zerolinecolor": "white"
           }
          },
          "shapedefaults": {
           "line": {
            "color": "#2a3f5f"
           }
          },
          "ternary": {
           "aaxis": {
            "gridcolor": "white",
            "linecolor": "white",
            "ticks": ""
           },
           "baxis": {
            "gridcolor": "white",
            "linecolor": "white",
            "ticks": ""
           },
           "bgcolor": "#E5ECF6",
           "caxis": {
            "gridcolor": "white",
            "linecolor": "white",
            "ticks": ""
           }
          },
          "title": {
           "x": 0.05
          },
          "xaxis": {
           "automargin": true,
           "gridcolor": "white",
           "linecolor": "white",
           "ticks": "",
           "title": {
            "standoff": 15
           },
           "zerolinecolor": "white",
           "zerolinewidth": 2
          },
          "yaxis": {
           "automargin": true,
           "gridcolor": "white",
           "linecolor": "white",
           "ticks": "",
           "title": {
            "standoff": 15
           },
           "zerolinecolor": "white",
           "zerolinewidth": 2
          }
         }
        },
        "title": {
         "text": "Distribución de las calificaciones del público"
        },
        "xaxis": {
         "anchor": "y",
         "domain": [
          0,
          1
         ],
         "title": {
          "text": "Calificación"
         }
        },
        "yaxis": {
         "anchor": "x",
         "domain": [
          0,
          1
         ],
         "title": {
          "text": "count"
         }
        }
       }
      }
     },
     "metadata": {},
     "output_type": "display_data"
    }
   ],
   "source": [
    "import plotly.express as px\n",
    "\n",
    "# Crear histograma con Plotly\n",
    "fig = px.histogram(\n",
    "    df,\n",
    "    x=\"nota\",\n",
    "    nbins=11,  # de 0 a 10, enteros\n",
    "    title=\"Distribución de las calificaciones del público\",\n",
    "    labels={\"nota\": \"Calificación\", \"count\": \"Cantidad\"},\n",
    "    color_discrete_sequence=[\"#3498db\"],\n",
    ")\n",
    "\n",
    "fig.update_layout(bargap=0.2)  # separación entre barras\n",
    "fig.show()"
   ]
  },
  {
   "cell_type": "markdown",
   "id": "6edbe8b2",
   "metadata": {},
   "source": [
    "> 👍 Histograma es el mejor gráfico para representar Distribuciones"
   ]
  },
  {
   "cell_type": "code",
   "execution_count": 9,
   "id": "4ce5cf03",
   "metadata": {},
   "outputs": [
    {
     "data": {
      "image/png": "[encoded data removed]",
      "text/plain": [
       "<Figure size 800x500 with 1 Axes>"
      ]
     },
     "metadata": {},
     "output_type": "display_data"
    }
   ],
   "source": [
    "import seaborn as sns\n",
    "import matplotlib.pyplot as plt\n",
    "\n",
    "sns.set(style=\"whitegrid\")\n",
    "\n",
    "plt.figure(figsize=(8, 5))\n",
    "sns.histplot(\n",
    "    data=df, x=\"edad\", bins=20, kde=True, color=\"green\"\n",
    ")  # kde agrega línea de densidad\n",
    "\n",
    "plt.title(\"Distribución de edades de los clientes\")\n",
    "plt.xlabel(\"Edad\")\n",
    "plt.ylabel(\"Cantidad\")\n",
    "plt.show()"
   ]
  },
  {
   "cell_type": "markdown",
   "id": "24dc9741",
   "metadata": {},
   "source": [
    "# Otros gráficos de distribución"
   ]
  },
  {
   "cell_type": "markdown",
   "id": "ee4ff569",
   "metadata": {},
   "source": [
    "## Pregunta 7: ¿Cómo está distribuida nuestra audiencia por edad y sexo biológico? ¿Existe algún grupo que sobresalga?\n",
    "\n",
    "#### Prompt\n",
    "\n",
    "Tenemos un DataFrame llamado \"df\" y queremos construir un gráfico que muestre la distribución de nuestra audiencia por edad y sexo biológico.\n",
    "\n",
    "En \"df\", tenemos las columnas:\n",
    "\n",
    "- edad: edad de la persona que realizó la compra\n",
    "- sexo_biologico: sexo biológico de la persona que realizó la compra, con datos categóricos\n",
    "Deseamos crear una visualización que muestre la distribución de estos datos.\n",
    "\n",
    "Utiliza las bibliotecas de visualización de datos de Python para crear esta visualización.\n",
    "\n",
    "#### Respuesta\n",
    "\n",
    "Una excelente forma de visualizar la **distribución conjunta de edad y sexo biológico** es mediante un **histograma segmentado** (gráfico de distribución por grupos) o un **gráfico de densidad**. A continuación, te muestro dos opciones para esto:\n",
    "\n",
    "---\n",
    "\n",
    "## ✅ Opción 1: **Histograma segmentado** con `seaborn`\n",
    "\n",
    "```python\n",
    "import seaborn as sns\n",
    "import matplotlib.pyplot as plt\n",
    "\n",
    "plt.figure(figsize=(10,6))\n",
    "sns.histplot(data=df, x='edad', hue='sexo_biologico', bins=20, kde=False, multiple='stack')\n",
    "\n",
    "plt.title('Distribución de la audiencia por edad y sexo biológico')\n",
    "plt.xlabel('Edad')\n",
    "plt.ylabel('Cantidad')\n",
    "plt.legend(title='Sexo biológico')\n",
    "plt.tight_layout()\n",
    "plt.show()\n",
    "```\n",
    "\n",
    "* `multiple='stack'` apila las barras para ver proporciones por grupo.\n",
    "* También puedes usar `multiple='dodge'` para verlas **lado a lado**.\n",
    "\n",
    "---\n",
    "\n",
    "## ✅ Opción 2: **Gráfico de densidad** con `seaborn`\n",
    "\n",
    "```python\n",
    "plt.figure(figsize=(10,6))\n",
    "sns.kdeplot(data=df, x='edad', hue='sexo_biologico', fill=True, common_norm=False, alpha=0.5)\n",
    "\n",
    "plt.title('Distribución de la audiencia por edad y sexo biológico')\n",
    "plt.xlabel('Edad')\n",
    "plt.ylabel('Densidad')\n",
    "plt.legend(title='Sexo biológico')\n",
    "plt.tight_layout()\n",
    "plt.show()\n",
    "```\n",
    "\n",
    "Este gráfico permite ver **tendencias y formas de la distribución** de edades para cada grupo.\n",
    "\n",
    "---\n",
    "\n",
    "## ✅ Opción 3: (Bonus) Interactivo con **Plotly**\n",
    "\n",
    "```python\n",
    "import plotly.express as px\n",
    "\n",
    "fig = px.histogram(\n",
    "    df, \n",
    "    x='edad', \n",
    "    color='sexo_biologico',\n",
    "    barmode='overlay',  # también puedes usar 'group' o 'stack'\n",
    "    nbins=20,\n",
    "    title='Distribución de la audiencia por edad y sexo biológico',\n",
    "    labels={'edad': 'Edad', 'count': 'Cantidad'},\n",
    "    opacity=0.6,\n",
    "    color_discrete_sequence=['#3498db', '#e74c3c']\n",
    ")\n",
    "\n",
    "fig.update_layout(bargap=0.1)\n",
    "fig.show()\n",
    "```\n",
    "\n",
    "---\n",
    "\n",
    "¿Quieres que el gráfico se enfoque en un rango específico de edades (por ejemplo, menores de 60)? También puedo incluirlo si lo deseas."
   ]
  },
  {
   "cell_type": "code",
   "execution_count": 13,
   "id": "87436d84",
   "metadata": {},
   "outputs": [
    {
     "data": {
      "image/png": "[encoded data removed]",
      "text/plain": [
       "<Figure size 1000x600 with 1 Axes>"
      ]
     },
     "metadata": {},
     "output_type": "display_data"
    }
   ],
   "source": [
    "# Gráfico de densidad\n",
    "plt.figure(figsize=(10, 6))\n",
    "sns.kdeplot(\n",
    "    data=df, x=\"edad\", hue=\"sexo_biologico\", fill=True, common_norm=False, alpha=0.5\n",
    ")\n",
    "\n",
    "plt.title(\"Distribución de la audiencia por edad y sexo biológico\")\n",
    "plt.xlabel(\"Edad\")\n",
    "plt.ylabel(\"Densidad\")\n",
    "plt.legend(title=\"Sexo biológico\")\n",
    "plt.tight_layout()\n",
    "plt.show()"
   ]
  },
  {
   "cell_type": "code",
   "execution_count": 14,
   "id": "368e152d",
   "metadata": {},
   "outputs": [
    {
     "data": {
      "image/png": "[encoded data removed]",
      "text/plain": [
       "<Figure size 1000x600 with 1 Axes>"
      ]
     },
     "metadata": {},
     "output_type": "display_data"
    }
   ],
   "source": [
    "# Histograma segmentado\n",
    "import seaborn as sns\n",
    "import matplotlib.pyplot as plt\n",
    "\n",
    "plt.figure(figsize=(10, 6))\n",
    "sns.histplot(\n",
    "    data=df, x=\"edad\", hue=\"sexo_biologico\", bins=20, kde=False, multiple=\"stack\"\n",
    ")\n",
    "\n",
    "plt.title(\"Distribución de la audiencia por edad y sexo biológico\")\n",
    "plt.xlabel(\"Edad\")\n",
    "plt.ylabel(\"Cantidad\")\n",
    "plt.legend(title=\"Sexo biológico\")\n",
    "plt.tight_layout()\n",
    "plt.show()"
   ]
  },
  {
   "cell_type": "code",
   "execution_count": 15,
   "id": "09aefe90",
   "metadata": {},
   "outputs": [
    {
     "data": {
      "application/vnd.plotly.v1+json": {
       "config": {
        "plotlyServerURL": "https://plot.ly"
       },
       "data": [
        {
         "bingroup": "x",
         "hovertemplate": "sexo_biologico=Masculino<br>Edad=%{x}<br>count=%{y}<extra></extra>",
         "legendgroup": "Masculino",
         "marker": {
          "color": "#3498db",
          "opacity": 0.6,
          "pattern": {
           "shape": ""
          }
         },
         "name": "Masculino",
         "nbinsx": 20,
         "orientation": "v",
         "showlegend": true,
         "type": "histogram",
         "x": {
          "bdata": "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",
          "dtype": "i1"
         },
         "xaxis": "x",
         "yaxis": "y"
        },
        {
         "bingroup": "x",
         "hovertemplate": "sexo_biologico=Femenino<br>Edad=%{x}<br>count=%{y}<extra></extra>",
         "legendgroup": "Femenino",
         "marker": {
          "color": "#e74c3c",
          "opacity": 0.6,
          "pattern": {
           "shape": ""
          }
         },
         "name": "Femenino",
         "nbinsx": 20,
         "orientation": "v",
         "showlegend": true,
         "type": "histogram",
         "x": {
          "bdata": "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",
          "dtype": "i1"
         },
         "xaxis": "x",
         "yaxis": "y"
        }
       ],
       "layout": {
        "bargap": 0.1,
        "barmode": "overlay",
        "legend": {
         "title": {
          "text": "sexo_biologico"
         },
         "tracegroupgap": 0
        },
        "template": {
         "data": {
          "bar": [
           {
            "error_x": {
             "color": "#2a3f5f"
            },
            "error_y": {
             "color": "#2a3f5f"
            },
            "marker": {
             "line": {
              "color": "#E5ECF6",
              "width": 0.5
             },
             "pattern": {
              "fillmode": "overlay",
              "size": 10,
              "solidity": 0.2
             }
            },
            "type": "bar"
           }
          ],
          "barpolar": [
           {
            "marker": {
             "line": {
              "color": "#E5ECF6",
              "width": 0.5
             },
             "pattern": {
              "fillmode": "overlay",
              "size": 10,
              "solidity": 0.2
             }
            },
            "type": "barpolar"
           }
          ],
          "carpet": [
           {
            "aaxis": {
             "endlinecolor": "#2a3f5f",
             "gridcolor": "white",
             "linecolor": "white",
             "minorgridcolor": "white",
             "startlinecolor": "#2a3f5f"
            },
            "baxis": {
             "endlinecolor": "#2a3f5f",
             "gridcolor": "white",
             "linecolor": "white",
             "minorgridcolor": "white",
             "startlinecolor": "#2a3f5f"
            },
            "type": "carpet"
           }
          ],
          "choropleth": [
           {
            "colorbar": {
             "outlinewidth": 0,
             "ticks": ""
            },
            "type": "choropleth"
           }
          ],
          "contour": [
           {
            "colorbar": {
             "outlinewidth": 0,
             "ticks": ""
            },
            "colorscale": [
             [
              0,
              "#0d0887"
             ],
             [
              0.1111111111111111,
              "#46039f"
             ],
             [
              0.2222222222222222,
              "#7201a8"
             ],
             [
              0.3333333333333333,
              "#9c179e"
             ],
             [
              0.4444444444444444,
              "#bd3786"
             ],
             [
              0.5555555555555556,
              "#d8576b"
             ],
             [
              0.6666666666666666,
              "#ed7953"
             ],
             [
              0.7777777777777778,
              "#fb9f3a"
             ],
             [
              0.8888888888888888,
              "#fdca26"
             ],
             [
              1,
              "#f0f921"
             ]
            ],
            "type": "contour"
           }
          ],
          "contourcarpet": [
           {
            "colorbar": {
             "outlinewidth": 0,
             "ticks": ""
            },
            "type": "contourcarpet"
           }
          ],
          "heatmap": [
           {
            "colorbar": {
             "outlinewidth": 0,
             "ticks": ""
            },
            "colorscale": [
             [
              0,
              "#0d0887"
             ],
             [
              0.1111111111111111,
              "#46039f"
             ],
             [
              0.2222222222222222,
              "#7201a8"
             ],
             [
              0.3333333333333333,
              "#9c179e"
             ],
             [
              0.4444444444444444,
              "#bd3786"
             ],
             [
              0.5555555555555556,
              "#d8576b"
             ],
             [
              0.6666666666666666,
              "#ed7953"
             ],
             [
              0.7777777777777778,
              "#fb9f3a"
             ],
             [
              0.8888888888888888,
              "#fdca26"
             ],
             [
              1,
              "#f0f921"
             ]
            ],
            "type": "heatmap"
           }
          ],
          "histogram": [
           {
            "marker": {
             "pattern": {
              "fillmode": "overlay",
              "size": 10,
              "solidity": 0.2
             }
            },
            "type": "histogram"
           }
          ],
          "histogram2d": [
           {
            "colorbar": {
             "outlinewidth": 0,
             "ticks": ""
            },
            "colorscale": [
             [
              0,
              "#0d0887"
             ],
             [
              0.1111111111111111,
              "#46039f"
             ],
             [
              0.2222222222222222,
              "#7201a8"
             ],
             [
              0.3333333333333333,
              "#9c179e"
             ],
             [
              0.4444444444444444,
              "#bd3786"
             ],
             [
              0.5555555555555556,
              "#d8576b"
             ],
             [
              0.6666666666666666,
              "#ed7953"
             ],
             [
              0.7777777777777778,
              "#fb9f3a"
             ],
             [
              0.8888888888888888,
              "#fdca26"
             ],
             [
              1,
              "#f0f921"
             ]
            ],
            "type": "histogram2d"
           }
          ],
          "histogram2dcontour": [
           {
            "colorbar": {
             "outlinewidth": 0,
             "ticks": ""
            },
            "colorscale": [
             [
              0,
              "#0d0887"
             ],
             [
              0.1111111111111111,
              "#46039f"
             ],
             [
              0.2222222222222222,
              "#7201a8"
             ],
             [
              0.3333333333333333,
              "#9c179e"
             ],
             [
              0.4444444444444444,
              "#bd3786"
             ],
             [
              0.5555555555555556,
              "#d8576b"
             ],
             [
              0.6666666666666666,
              "#ed7953"
             ],
             [
              0.7777777777777778,
              "#fb9f3a"
             ],
             [
              0.8888888888888888,
              "#fdca26"
             ],
             [
              1,
              "#f0f921"
             ]
            ],
            "type": "histogram2dcontour"
           }
          ],
          "mesh3d": [
           {
            "colorbar": {
             "outlinewidth": 0,
             "ticks": ""
            },
            "type": "mesh3d"
           }
          ],
          "parcoords": [
           {
            "line": {
             "colorbar": {
              "outlinewidth": 0,
              "ticks": ""
             }
            },
            "type": "parcoords"
           }
          ],
          "pie": [
           {
            "automargin": true,
            "type": "pie"
           }
          ],
          "scatter": [
           {
            "fillpattern": {
             "fillmode": "overlay",
             "size": 10,
             "solidity": 0.2
            },
            "type": "scatter"
           }
          ],
          "scatter3d": [
           {
            "line": {
             "colorbar": {
              "outlinewidth": 0,
              "ticks": ""
             }
            },
            "marker": {
             "colorbar": {
              "outlinewidth": 0,
              "ticks": ""
             }
            },
            "type": "scatter3d"
           }
          ],
          "scattercarpet": [
           {
            "marker": {
             "colorbar": {
              "outlinewidth": 0,
              "ticks": ""
             }
            },
            "type": "scattercarpet"
           }
          ],
          "scattergeo": [
           {
            "marker": {
             "colorbar": {
              "outlinewidth": 0,
              "ticks": ""
             }
            },
            "type": "scattergeo"
           }
          ],
          "scattergl": [
           {
            "marker": {
             "colorbar": {
              "outlinewidth": 0,
              "ticks": ""
             }
            },
            "type": "scattergl"
           }
          ],
          "scattermap": [
           {
            "marker": {
             "colorbar": {
              "outlinewidth": 0,
              "ticks": ""
             }
            },
            "type": "scattermap"
           }
          ],
          "scattermapbox": [
           {
            "marker": {
             "colorbar": {
              "outlinewidth": 0,
              "ticks": ""
             }
            },
            "type": "scattermapbox"
           }
          ],
          "scatterpolar": [
           {
            "marker": {
             "colorbar": {
              "outlinewidth": 0,
              "ticks": ""
             }
            },
            "type": "scatterpolar"
           }
          ],
          "scatterpolargl": [
           {
            "marker": {
             "colorbar": {
              "outlinewidth": 0,
              "ticks": ""
             }
            },
            "type": "scatterpolargl"
           }
          ],
          "scatterternary": [
           {
            "marker": {
             "colorbar": {
              "outlinewidth": 0,
              "ticks": ""
             }
            },
            "type": "scatterternary"
           }
          ],
          "surface": [
           {
            "colorbar": {
             "outlinewidth": 0,
             "ticks": ""
            },
            "colorscale": [
             [
              0,
              "#0d0887"
             ],
             [
              0.1111111111111111,
              "#46039f"
             ],
             [
              0.2222222222222222,
              "#7201a8"
             ],
             [
              0.3333333333333333,
              "#9c179e"
             ],
             [
              0.4444444444444444,
              "#bd3786"
             ],
             [
              0.5555555555555556,
              "#d8576b"
             ],
             [
              0.6666666666666666,
              "#ed7953"
             ],
             [
              0.7777777777777778,
              "#fb9f3a"
             ],
             [
              0.8888888888888888,
              "#fdca26"
             ],
             [
              1,
              "#f0f921"
             ]
            ],
            "type": "surface"
           }
          ],
          "table": [
           {
            "cells": {
             "fill": {
              "color": "#EBF0F8"
             },
             "line": {
              "color": "white"
             }
            },
            "header": {
             "fill": {
              "color": "#C8D4E3"
             },
             "line": {
              "color": "white"
             }
            },
            "type": "table"
           }
          ]
         },
         "layout": {
          "annotationdefaults": {
           "arrowcolor": "#2a3f5f",
           "arrowhead": 0,
           "arrowwidth": 1
          },
          "autotypenumbers": "strict",
          "coloraxis": {
           "colorbar": {
            "outlinewidth": 0,
            "ticks": ""
           }
          },
          "colorscale": {
           "diverging": [
            [
             0,
             "#8e0152"
            ],
            [
             0.1,
             "#c51b7d"
            ],
            [
             0.2,
             "#de77ae"
            ],
            [
             0.3,
             "#f1b6da"
            ],
            [
             0.4,
             "#fde0ef"
            ],
            [
             0.5,
             "#f7f7f7"
            ],
            [
             0.6,
             "#e6f5d0"
            ],
            [
             0.7,
             "#b8e186"
            ],
            [
             0.8,
             "#7fbc41"
            ],
            [
             0.9,
             "#4d9221"
            ],
            [
             1,
             "#276419"
            ]
           ],
           "sequential": [
            [
             0,
             "#0d0887"
            ],
            [
             0.1111111111111111,
             "#46039f"
            ],
            [
             0.2222222222222222,
             "#7201a8"
            ],
            [
             0.3333333333333333,
             "#9c179e"
            ],
            [
             0.4444444444444444,
             "#bd3786"
            ],
            [
             0.5555555555555556,
             "#d8576b"
            ],
            [
             0.6666666666666666,
             "#ed7953"
            ],
            [
             0.7777777777777778,
             "#fb9f3a"
            ],
            [
             0.8888888888888888,
             "#fdca26"
            ],
            [
             1,
             "#f0f921"
            ]
           ],
           "sequentialminus": [
            [
             0,
             "#0d0887"
            ],
            [
             0.1111111111111111,
             "#46039f"
            ],
            [
             0.2222222222222222,
             "#7201a8"
            ],
            [
             0.3333333333333333,
             "#9c179e"
            ],
            [
             0.4444444444444444,
             "#bd3786"
            ],
            [
             0.5555555555555556,
             "#d8576b"
            ],
            [
             0.6666666666666666,
             "#ed7953"
            ],
            [
             0.7777777777777778,
             "#fb9f3a"
            ],
            [
             0.8888888888888888,
             "#fdca26"
            ],
            [
             1,
             "#f0f921"
            ]
           ]
          },
          "colorway": [
           "#636efa",
           "#EF553B",
           "#00cc96",
           "#ab63fa",
           "#FFA15A",
           "#19d3f3",
           "#FF6692",
           "#B6E880",
           "#FF97FF",
           "#FECB52"
          ],
          "font": {
           "color": "#2a3f5f"
          },
          "geo": {
           "bgcolor": "white",
           "lakecolor": "white",
           "landcolor": "#E5ECF6",
           "showlakes": true,
           "showland": true,
           "subunitcolor": "white"
          },
          "hoverlabel": {
           "align": "left"
          },
          "hovermode": "closest",
          "mapbox": {
           "style": "light"
          },
          "paper_bgcolor": "white",
          "plot_bgcolor": "#E5ECF6",
          "polar": {
           "angularaxis": {
            "gridcolor": "white",
            "linecolor": "white",
            "ticks": ""
           },
           "bgcolor": "#E5ECF6",
           "radialaxis": {
            "gridcolor": "white",
            "linecolor": "white",
            "ticks": ""
           }
          },
          "scene": {
           "xaxis": {
            "backgroundcolor": "#E5ECF6",
            "gridcolor": "white",
            "gridwidth": 2,
            "linecolor": "white",
            "showbackground": true,
            "ticks": "",
            "zerolinecolor": "white"
           },
           "yaxis": {
            "backgroundcolor": "#E5ECF6",
            "gridcolor": "white",
            "gridwidth": 2,
            "linecolor": "white",
            "showbackground": true,
            "ticks": "",
            "zerolinecolor": "white"
           },
           "zaxis": {
            "backgroundcolor": "#E5ECF6",
            "gridcolor": "white",
            "gridwidth": 2,
            "linecolor": "white",
            "showbackground": true,
            "ticks": "",
            "zerolinecolor": "white"
           }
          },
          "shapedefaults": {
           "line": {
            "color": "#2a3f5f"
           }
          },
          "ternary": {
           "aaxis": {
            "gridcolor": "white",
            "linecolor": "white",
            "ticks": ""
           },
           "baxis": {
            "gridcolor": "white",
            "linecolor": "white",
            "ticks": ""
           },
           "bgcolor": "#E5ECF6",
           "caxis": {
            "gridcolor": "white",
            "linecolor": "white",
            "ticks": ""
           }
          },
          "title": {
           "x": 0.05
          },
          "xaxis": {
           "automargin": true,
           "gridcolor": "white",
           "linecolor": "white",
           "ticks": "",
           "title": {
            "standoff": 15
           },
           "zerolinecolor": "white",
           "zerolinewidth": 2
          },
          "yaxis": {
           "automargin": true,
           "gridcolor": "white",
           "linecolor": "white",
           "ticks": "",
           "title": {
            "standoff": 15
           },
           "zerolinecolor": "white",
           "zerolinewidth": 2
          }
         }
        },
        "title": {
         "text": "Distribución de la audiencia por edad y sexo biológico"
        },
        "xaxis": {
         "anchor": "y",
         "domain": [
          0,
          1
         ],
         "title": {
          "text": "Edad"
         }
        },
        "yaxis": {
         "anchor": "x",
         "domain": [
          0,
          1
         ],
         "title": {
          "text": "count"
         }
        }
       }
      }
     },
     "metadata": {},
     "output_type": "display_data"
    }
   ],
   "source": [
    "import plotly.express as px\n",
    "\n",
    "fig = px.histogram(\n",
    "    df,\n",
    "    x=\"edad\",\n",
    "    color=\"sexo_biologico\",\n",
    "    barmode=\"overlay\",  # también puedes usar 'group' o 'stack'\n",
    "    nbins=20,\n",
    "    title=\"Distribución de la audiencia por edad y sexo biológico\",\n",
    "    labels={\"edad\": \"Edad\", \"count\": \"Cantidad\"},\n",
    "    opacity=0.6,\n",
    "    color_discrete_sequence=[\"#3498db\", \"#e74c3c\"],\n",
    ")\n",
    "\n",
    "fig.update_layout(bargap=0.1)\n",
    "fig.show()"
   ]
  },
  {
   "cell_type": "code",
   "execution_count": null,
   "id": "1c5cff50",
   "metadata": {},
   "outputs": [
    {
     "data": {
      "text/plain": [
       "<Figure size 1000x600 with 0 Axes>"
      ]
     },
     "metadata": {},
     "output_type": "display_data"
    },
    {
     "data": {
      "image/png": "[encoded data removed]",
      "text/plain": [
       "<Figure size 1000x600 with 1 Axes>"
      ]
     },
     "metadata": {},
     "output_type": "display_data"
    }
   ],
   "source": [
    "# Pirámide poblacional (gráfico de barras horizontales divergentes)\n",
    "\n",
    "# 1. Crear grupos de edad\n",
    "df[\"grupo_edad\"] = pd.cut(df[\"edad\"], bins=range(0, 101, 10), right=False)\n",
    "\n",
    "# 2. Agrupar por sexo biológico y grupo de edad\n",
    "piramide = df.groupby([\"grupo_edad\", \"sexo_biologico\"]).size().unstack(fill_value=0)\n",
    "\n",
    "# 3. Invertir un grupo para graficar hacia la izquierda\n",
    "piramide[\"Masculino\"] = -piramide.get(\"Masculino\", 0)  # si 'Masculino' no existe, usa 0\n",
    "\n",
    "# 4. Graficar\n",
    "plt.figure(figsize=(10, 6))\n",
    "piramide[[\"Masculino\", \"Femenino\"]].plot(\n",
    "    kind=\"barh\", stacked=False, color=[\"skyblue\", \"lightcoral\"], figsize=(10, 6)\n",
    ")\n",
    "\n",
    "plt.title(\"Distribución de edad y sexo biológico del público de Zoop\")\n",
    "plt.xlabel(\"Cantidad de personas\")\n",
    "plt.ylabel(\"Grupos de edad\")\n",
    "plt.axvline(0, color=\"black\", linewidth=0.8)\n",
    "plt.legend(title=\"Sexo biológico\", loc=\"lower right\")\n",
    "plt.tight_layout()\n",
    "plt.show()"
   ]
  },
  {
   "cell_type": "code",
   "execution_count": 18,
   "id": "5b627459",
   "metadata": {},
   "outputs": [
    {
     "data": {
      "image/png": "[encoded data removed]",
      "text/plain": [
       "<Figure size 800x600 with 1 Axes>"
      ]
     },
     "metadata": {},
     "output_type": "display_data"
    }
   ],
   "source": [
    "# Boxplot\n",
    "\n",
    "plt.figure(figsize=(8, 6))\n",
    "sns.boxplot(data=df, x=\"sexo_biologico\", y=\"edad\", palette=\"pastel\")\n",
    "\n",
    "plt.title(\"Distribución de edades por sexo biológico\")\n",
    "plt.xlabel(\"Sexo biológico\")\n",
    "plt.ylabel(\"Edad\")\n",
    "plt.tight_layout()\n",
    "plt.show()"
   ]
  }
 ],
 "metadata": {
  "kernelspec": {
   "display_name": "condaenv",
   "language": "python",
   "name": "python3"
  },
  "language_info": {
   "codemirror_mode": {
    "name": "ipython",
    "version": 3
   },
   "file_extension": ".py",
   "mimetype": "text/x-python",
   "name": "python",
   "nbconvert_exporter": "python",
   "pygments_lexer": "ipython3",
   "version": "3.13.2"
  }
 },
 "nbformat": 4,
 "nbformat_minor": 5
}
