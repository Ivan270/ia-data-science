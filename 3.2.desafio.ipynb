{
 "cells": [
  {
   "cell_type": "markdown",
   "id": "cba344d4",
   "metadata": {},
   "source": [
    "# Datos anteriores"
   ]
  },
  {
   "cell_type": "code",
   "execution_count": 4,
   "id": "92d0da0c",
   "metadata": {},
   "outputs": [],
   "source": [
    "import pandas as pd\n",
    "import warnings\n",
    "\n",
    "warnings.filterwarnings(\"ignore\")\n",
    "\n",
    "url_clientes = \"https://gist.githubusercontent.com/ahcamachod/d08898e1cc84c7271856e78d9558ca3d/raw/2f7e1fa53711efe6433a5c5ec79948f600591cb9/clientes_zoop.csv\"\n",
    "url_ventas = \"https://gist.githubusercontent.com/ahcamachod/966d7162a3c3a2769b8770b35abf1bcc/raw/d79941b3fa46a450f3611589abd8663399c1277b/ventas_zoop.csv\"\n",
    "url_zoop_pay = \"https://gist.githubusercontent.com/ahcamachod/ce728231a836a973c0df94a9f03ed871/raw/8db6da43d7cd94fcab937208067d0fceb521b78c/zoop_pay.csv\"\n",
    "\n",
    "clientes = pd.read_csv(url_clientes)\n",
    "ventas = pd.read_csv(url_ventas)\n",
    "ventas[\"fecha\"] = pd.to_datetime(ventas[\"fecha\"], format=\"%Y-%m-%d\")\n",
    "ventas[\"horario\"] = pd.to_datetime(ventas[\"horario\"], format=\"%H:%M\").dt.time\n",
    "\n",
    "df = pd.merge(ventas, clientes, on=\"ID_compra\", how=\"inner\")\n",
    "# Reorganizar las columnas en el orden deseado\n",
    "columnas_ordenadas = [\n",
    "    \"ID_compra\",\n",
    "    \"fecha\",\n",
    "    \"horario\",\n",
    "    \"categoria\",\n",
    "    \"precio_unitario\",\n",
    "    \"cantidad\",\n",
    "    \"envio\",\n",
    "    \"metodo_pago\",\n",
    "    \"ID_cliente\",\n",
    "    \"edad\",\n",
    "    \"sexo_biologico\",\n",
    "    \"ciudad\",\n",
    "    \"estado\",\n",
    "    \"region\",\n",
    "    \"cashback\",\n",
    "    \"nota\",\n",
    "]\n",
    "\n",
    "# Aplicar el orden de las columnas\n",
    "df = df[columnas_ordenadas]\n",
    "\n",
    "clientes = pd.read_csv(url_clientes)\n",
    "ventas = pd.read_csv(url_ventas)\n",
    "zoop_pay = pd.read_csv(url_zoop_pay)\n",
    "\n",
    "# 2. Unir ventas y clientes por 'ID_compra'\n",
    "df = pd.merge(ventas, clientes, on=\"ID_compra\", how=\"inner\")\n",
    "\n",
    "# 3. Unir con la base zoop_pay por 'ID_cliente'\n",
    "df = pd.merge(df, zoop_pay, on=\"ID_cliente\", how=\"left\")\n",
    "\n",
    "# 4. Renombrar columnas para estandarizar nombres\n",
    "df = df.rename(\n",
    "    columns={\n",
    "        \"fecha de la compra\": \"fecha\",\n",
    "        \"hora de la compra\": \"horario\",\n",
    "        \"categoría del producto\": \"categoria\",\n",
    "        \"precio unitario del producto\": \"precio_unitario\",\n",
    "        \"cantidad vendida\": \"cantidad\",\n",
    "        \"método de pago\": \"metodo_pago\",\n",
    "        \"sexo biológico\": \"sexo_biologico\",\n",
    "        \"programa de cashback\": \"cashback\",\n",
    "    }\n",
    ")\n",
    "\n",
    "# 5. Asegurar tipo datetime para la columna 'fecha'\n",
    "df[\"fecha\"] = pd.to_datetime(df[\"fecha\"], errors=\"coerce\")\n",
    "\n",
    "# 6. Reordenar las columnas en el orden solicitado\n",
    "columnas_ordenadas = [\n",
    "    \"ID_compra\",\n",
    "    \"fecha\",\n",
    "    \"horario\",\n",
    "    \"categoria\",\n",
    "    \"precio_unitario\",\n",
    "    \"cantidad\",\n",
    "    \"envio\",\n",
    "    \"metodo_pago\",\n",
    "    \"ID_cliente\",\n",
    "    \"edad\",\n",
    "    \"sexo_biologico\",\n",
    "    \"ciudad\",\n",
    "    \"estado\",\n",
    "    \"region\",\n",
    "    \"cashback\",\n",
    "    \"zoop_pay\",\n",
    "]\n",
    "\n",
    "df = df[columnas_ordenadas]\n",
    "df.head()\n",
    "\n",
    "import matplotlib.pyplot as plt\n",
    "import seaborn as sns\n",
    "\n",
    "# 1. Crear la tabla resumen\n",
    "metodos_de_pago = df[\"metodo_pago\"].value_counts().reset_index()\n",
    "metodos_de_pago.columns = [\"metodo_pago\", \"cantidad\"]\n",
    "\n",
    "# 1. Crear una columna de facturación total por compra\n",
    "df[\"facturacion\"] = df[\"precio_unitario\"] * df[\"cantidad\"] + df[\"envio\"]\n",
    "\n",
    "# 2. Agrupar por categoría y sumar la facturación\n",
    "facturacion_categoria = df.groupby(\"categoria\")[\"facturacion\"].sum().sort_values()\n",
    "\n",
    "# Asegurarse de que la columna 'fecha' es datetime\n",
    "df[\"fecha\"] = pd.to_datetime(df[\"fecha\"])\n",
    "\n",
    "# Crear columna con el mes como texto completo\n",
    "df[\"mes_nombre\"] = df[\"fecha\"].dt.strftime(\"%B\")  # e.g., 'January', 'February', etc.\n",
    "\n",
    "# Crear columna con el número del mes para ordenar correctamente\n",
    "df[\"mes_numero\"] = df[\"fecha\"].dt.month\n",
    "\n",
    "# Calcular la facturación mensual\n",
    "ventas_mensuales = (\n",
    "    df.groupby([\"mes_numero\", \"mes_nombre\"])[\"facturacion\"].sum().reset_index()\n",
    ")\n",
    "\n",
    "# Ordenar por número de mes\n",
    "ventas_mensuales = ventas_mensuales.sort_values(\"mes_numero\")\n",
    "\n",
    "# Diccionario de traducción de meses\n",
    "meses = {\n",
    "    \"January\": \"Ene\",\n",
    "    \"February\": \"Feb\",\n",
    "    \"March\": \"Mar\",\n",
    "    \"April\": \"Abr\",\n",
    "    \"May\": \"May\",\n",
    "    \"June\": \"Jun\",\n",
    "    \"July\": \"Jul\",\n",
    "    \"August\": \"Ago\",\n",
    "    \"September\": \"Sep\",\n",
    "    \"October\": \"Oct\",\n",
    "    \"November\": \"Nov\",\n",
    "    \"December\": \"Dic\",\n",
    "}\n",
    "\n",
    "# Aplicar traducción\n",
    "ventas_mensuales[\"mes\"] = ventas_mensuales[\"mes_nombre\"].map(meses)\n",
    "\n",
    "# 2. Crear columna de trimestre (formato 'T1', 'T2', etc.)\n",
    "df[\"trimestre\"] = df[\"fecha\"].dt.to_period(\"Q\").astype(str).str.replace(\"2023Q\", \"T\")\n",
    "\n",
    "# 3. Agrupar por trimestre y método de pago, sumando facturación\n",
    "ventas_trimestre = (\n",
    "    df.groupby([\"trimestre\", \"metodo_pago\"])[\"facturacion\"].sum().unstack(fill_value=0)\n",
    ")\n",
    "\n",
    "# Filtrar solo las 3 categorías deseadas\n",
    "categorias_interes = [\"Papelería y oficina\", \"Libros\", \"Alimentos y bebidas\"]\n",
    "df_filtrado = df[df[\"categoria\"].isin(categorias_interes)]\n",
    "\n",
    "# Agrupar por trimestre y categoría, sumando la facturación\n",
    "ventas_categoria = (\n",
    "    df_filtrado.groupby([\"trimestre\", \"categoria\"])[\"facturacion\"]\n",
    "    .sum()\n",
    "    .unstack(fill_value=0)\n",
    ")\n",
    "\n",
    "ventas_region = (\n",
    "    df.groupby(\"region\", as_index=False)[\"facturacion\"]\n",
    "    .sum()\n",
    "    .sort_values(\n",
    "        \"facturacion\", ascending=True\n",
    "    )  # orden ascendente para barras horizontales\n",
    ")\n",
    "\n",
    "df_filtrado = df[df[\"estado\"].isin([\"Estado de México\", \"Puebla\"])]\n",
    "\n",
    "# 2. Agrupar por estado y sexo biológico, contar cantidad\n",
    "publico_estado_sexo = (\n",
    "    df_filtrado.groupby([\"estado\", \"sexo_biologico\"])\n",
    "    .size()\n",
    "    .reset_index(name=\"cantidad\")\n",
    ")"
   ]
  },
  {
   "cell_type": "markdown",
   "id": "1183f330",
   "metadata": {},
   "source": [
    "# Desafío\n",
    "\n",
    "Volviendo a nuestro proyecto de Manos a la Obra, logramos generar dos visualizaciones más con los datos de nuestros desafíos.\n",
    "\n",
    "¿Ahora, vamos a crear otros visuales enfocados en el perfil de nuestros clientes?\n",
    "\n",
    "Has recibido una nueva solicitud de Zoop para generar 2 visuales, siendo uno de ellos relacionado al registro de clientes para un nuevo servicio que Zoop implementará, el Zoop Pay, y el otro sobre las evaluaciones de los clientes en relación con su ubicación. Observemos las dos situaciones y construyamos con la ayuda de ChatGPT los dos gráficos solicitados:\n",
    "\n",
    "**Desafío 1:**\n",
    "\n",
    "Zoop está en proceso de lanzamiento de su billetera digital, que brindará acceso a una serie de beneficios para sus clientes, y le gustaría saber cuál es el porcentaje de personas que ya están pre-registradas para este producto. El e-commerce busca comprender este número para definir la necesidad de promoción y esfuerzo para atraer más clientes a esta funcionalidad.\n",
    "\n",
    "Construye y ejecuta un prompt en ChatGPT para generar, a partir de nuestra base de datos, un visual que presente la proporción de personas pre-registradas en Zoop Pay.\n",
    "\n",
    "**Desafío 2:**\n",
    "\n",
    "Zoop quiere analizar la distribución de las edades de los clientes por región con el fin de delinear una \"persona\" (perfil) de su clientela en diferentes localidades del país, y para ello, solicitó un visual que distribuya estos datos. Construye y ejecuta un prompt en ChatGPT para generar, a partir de nuestra base de datos, un visual que muestre la distribución de las edades de los clientes por región."
   ]
  },
  {
   "cell_type": "markdown",
   "id": "21bd1219",
   "metadata": {},
   "source": [
    "## Desafío 1:\n",
    "\n",
    "### Prompt\n",
    "\n",
    "Se buscará encontrar el porcentaje de clientes que están pre-registrados para el nuevo producto de Zoop, la billetera digital Zoop Pay. La intención es comprender el número para definir la necesidad de promoción y esfuerzo para atraer más clientes hacia la billetera digital.\n",
    "En el DataFrame llamado `df` contiene una columna llamada `zoop_pay` con dos opciones de valores `Sí` y `No`.\n",
    "\n",
    "La tarea es:\n",
    "1. Genera una visualización que grafique la proporción de clientes pre-registrados enb Zoop Pay.\n",
    "Utiliza las bibliotecas de visualización de datos de Python.\n",
    "\n",
    "### Respuesta\n",
    "\n",
    "Para representar la **proporción de clientes pre-registrados en Zoop Pay**, una buena opción es un **gráfico de pastel (pie chart)** o un **gráfico de barras**. Ambos son adecuados para mostrar proporciones categóricas. A continuación, te muestro cómo hacerlo con ambas opciones usando `Plotly`, que ofrece interactividad, pero también te doy el ejemplo con `matplotlib` por si prefieres algo más simple.\n",
    "\n",
    "---\n",
    "\n",
    "#### ✅ Opción 1: Gráfico de pastel interactivo (con Plotly)\n",
    "\n",
    "```python\n",
    "import plotly.express as px\n",
    "\n",
    "# Contar los registros por participación en Zoop Pay\n",
    "zoop_pay_data = df['zoop_pay'].value_counts().reset_index()\n",
    "zoop_pay_data.columns = ['zoop_pay', 'cantidad']\n",
    "\n",
    "# Crear gráfico de pastel\n",
    "fig = px.pie(\n",
    "    zoop_pay_data, \n",
    "    names='zoop_pay', \n",
    "    values='cantidad', \n",
    "    title='Proporción de clientes pre-registrados en Zoop Pay',\n",
    "    color='zoop_pay',\n",
    "    color_discrete_map={'Sí': 'mediumseagreen', 'No': 'indianred'},\n",
    "    hole=0.4  # opcional: para hacer un donut chart\n",
    ")\n",
    "fig.show()\n",
    "```\n",
    "\n",
    "---\n",
    "\n",
    "#### ✅ Opción 2: Gráfico de barras (con Matplotlib y Seaborn)\n",
    "\n",
    "```python\n",
    "import seaborn as sns\n",
    "import matplotlib.pyplot as plt\n",
    "\n",
    "# Contar los registros\n",
    "zoop_counts = df['zoop_pay'].value_counts().reset_index()\n",
    "zoop_counts.columns = ['zoop_pay', 'cantidad']\n",
    "\n",
    "# Crear gráfico\n",
    "plt.figure(figsize=(6, 5))\n",
    "sns.barplot(data=zoop_counts, x='zoop_pay', y='cantidad', palette={'Sí': 'mediumseagreen', 'No': 'indianred'})\n",
    "\n",
    "# Añadir etiquetas\n",
    "for i, row in zoop_counts.iterrows():\n",
    "    plt.text(i, row['cantidad'] + 10, f\"{row['cantidad']} ({(row['cantidad']/zoop_counts['cantidad'].sum()*100):.1f}%)\", \n",
    "             ha='center', va='bottom')\n",
    "\n",
    "plt.title('Clientes pre-registrados en Zoop Pay')\n",
    "plt.xlabel('Pre-registro en Zoop Pay')\n",
    "plt.ylabel('Cantidad de clientes')\n",
    "plt.tight_layout()\n",
    "plt.show()\n",
    "```\n",
    "\n",
    "---\n",
    "\n",
    "¿Te gustaría que muestre también cómo cambiar este gráfico para un reporte en Power BI o para formato vertical en dashboards web?\n"
   ]
  },
  {
   "cell_type": "code",
   "execution_count": 9,
   "id": "ff0d8282",
   "metadata": {},
   "outputs": [
    {
     "data": {
      "application/vnd.plotly.v1+json": {
       "config": {
        "plotlyServerURL": "https://plot.ly"
       },
       "data": [
        {
         "customdata": [
          [
           "No"
          ],
          [
           "Sí"
          ]
         ],
         "domain": {
          "x": [
           0,
           1
          ],
          "y": [
           0,
           1
          ]
         },
         "hole": 0.4,
         "hovertemplate": "zoop_pay=%{customdata[0]}<br>cantidad=%{value}<extra></extra>",
         "labels": [
          "No",
          "Sí"
         ],
         "legendgroup": "",
         "marker": {
          "colors": [
           "indianred",
           "mediumseagreen"
          ]
         },
         "name": "",
         "showlegend": true,
         "type": "pie",
         "values": {
          "bdata": "phJzBQ==",
          "dtype": "i2"
         }
        }
       ],
       "layout": {
        "legend": {
         "tracegroupgap": 0
        },
        "template": {
         "data": {
          "bar": [
           {
            "error_x": {
             "color": "#2a3f5f"
            },
            "error_y": {
             "color": "#2a3f5f"
            },
            "marker": {
             "line": {
              "color": "#E5ECF6",
              "width": 0.5
             },
             "pattern": {
              "fillmode": "overlay",
              "size": 10,
              "solidity": 0.2
             }
            },
            "type": "bar"
           }
          ],
          "barpolar": [
           {
            "marker": {
             "line": {
              "color": "#E5ECF6",
              "width": 0.5
             },
             "pattern": {
              "fillmode": "overlay",
              "size": 10,
              "solidity": 0.2
             }
            },
            "type": "barpolar"
           }
          ],
          "carpet": [
           {
            "aaxis": {
             "endlinecolor": "#2a3f5f",
             "gridcolor": "white",
             "linecolor": "white",
             "minorgridcolor": "white",
             "startlinecolor": "#2a3f5f"
            },
            "baxis": {
             "endlinecolor": "#2a3f5f",
             "gridcolor": "white",
             "linecolor": "white",
             "minorgridcolor": "white",
             "startlinecolor": "#2a3f5f"
            },
            "type": "carpet"
           }
          ],
          "choropleth": [
           {
            "colorbar": {
             "outlinewidth": 0,
             "ticks": ""
            },
            "type": "choropleth"
           }
          ],
          "contour": [
           {
            "colorbar": {
             "outlinewidth": 0,
             "ticks": ""
            },
            "colorscale": [
             [
              0,
              "#0d0887"
             ],
             [
              0.1111111111111111,
              "#46039f"
             ],
             [
              0.2222222222222222,
              "#7201a8"
             ],
             [
              0.3333333333333333,
              "#9c179e"
             ],
             [
              0.4444444444444444,
              "#bd3786"
             ],
             [
              0.5555555555555556,
              "#d8576b"
             ],
             [
              0.6666666666666666,
              "#ed7953"
             ],
             [
              0.7777777777777778,
              "#fb9f3a"
             ],
             [
              0.8888888888888888,
              "#fdca26"
             ],
             [
              1,
              "#f0f921"
             ]
            ],
            "type": "contour"
           }
          ],
          "contourcarpet": [
           {
            "colorbar": {
             "outlinewidth": 0,
             "ticks": ""
            },
            "type": "contourcarpet"
           }
          ],
          "heatmap": [
           {
            "colorbar": {
             "outlinewidth": 0,
             "ticks": ""
            },
            "colorscale": [
             [
              0,
              "#0d0887"
             ],
             [
              0.1111111111111111,
              "#46039f"
             ],
             [
              0.2222222222222222,
              "#7201a8"
             ],
             [
              0.3333333333333333,
              "#9c179e"
             ],
             [
              0.4444444444444444,
              "#bd3786"
             ],
             [
              0.5555555555555556,
              "#d8576b"
             ],
             [
              0.6666666666666666,
              "#ed7953"
             ],
             [
              0.7777777777777778,
              "#fb9f3a"
             ],
             [
              0.8888888888888888,
              "#fdca26"
             ],
             [
              1,
              "#f0f921"
             ]
            ],
            "type": "heatmap"
           }
          ],
          "histogram": [
           {
            "marker": {
             "pattern": {
              "fillmode": "overlay",
              "size": 10,
              "solidity": 0.2
             }
            },
            "type": "histogram"
           }
          ],
          "histogram2d": [
           {
            "colorbar": {
             "outlinewidth": 0,
             "ticks": ""
            },
            "colorscale": [
             [
              0,
              "#0d0887"
             ],
             [
              0.1111111111111111,
              "#46039f"
             ],
             [
              0.2222222222222222,
              "#7201a8"
             ],
             [
              0.3333333333333333,
              "#9c179e"
             ],
             [
              0.4444444444444444,
              "#bd3786"
             ],
             [
              0.5555555555555556,
              "#d8576b"
             ],
             [
              0.6666666666666666,
              "#ed7953"
             ],
             [
              0.7777777777777778,
              "#fb9f3a"
             ],
             [
              0.8888888888888888,
              "#fdca26"
             ],
             [
              1,
              "#f0f921"
             ]
            ],
            "type": "histogram2d"
           }
          ],
          "histogram2dcontour": [
           {
            "colorbar": {
             "outlinewidth": 0,
             "ticks": ""
            },
            "colorscale": [
             [
              0,
              "#0d0887"
             ],
             [
              0.1111111111111111,
              "#46039f"
             ],
             [
              0.2222222222222222,
              "#7201a8"
             ],
             [
              0.3333333333333333,
              "#9c179e"
             ],
             [
              0.4444444444444444,
              "#bd3786"
             ],
             [
              0.5555555555555556,
              "#d8576b"
             ],
             [
              0.6666666666666666,
              "#ed7953"
             ],
             [
              0.7777777777777778,
              "#fb9f3a"
             ],
             [
              0.8888888888888888,
              "#fdca26"
             ],
             [
              1,
              "#f0f921"
             ]
            ],
            "type": "histogram2dcontour"
           }
          ],
          "mesh3d": [
           {
            "colorbar": {
             "outlinewidth": 0,
             "ticks": ""
            },
            "type": "mesh3d"
           }
          ],
          "parcoords": [
           {
            "line": {
             "colorbar": {
              "outlinewidth": 0,
              "ticks": ""
             }
            },
            "type": "parcoords"
           }
          ],
          "pie": [
           {
            "automargin": true,
            "type": "pie"
           }
          ],
          "scatter": [
           {
            "fillpattern": {
             "fillmode": "overlay",
             "size": 10,
             "solidity": 0.2
            },
            "type": "scatter"
           }
          ],
          "scatter3d": [
           {
            "line": {
             "colorbar": {
              "outlinewidth": 0,
              "ticks": ""
             }
            },
            "marker": {
             "colorbar": {
              "outlinewidth": 0,
              "ticks": ""
             }
            },
            "type": "scatter3d"
           }
          ],
          "scattercarpet": [
           {
            "marker": {
             "colorbar": {
              "outlinewidth": 0,
              "ticks": ""
             }
            },
            "type": "scattercarpet"
           }
          ],
          "scattergeo": [
           {
            "marker": {
             "colorbar": {
              "outlinewidth": 0,
              "ticks": ""
             }
            },
            "type": "scattergeo"
           }
          ],
          "scattergl": [
           {
            "marker": {
             "colorbar": {
              "outlinewidth": 0,
              "ticks": ""
             }
            },
            "type": "scattergl"
           }
          ],
          "scattermap": [
           {
            "marker": {
             "colorbar": {
              "outlinewidth": 0,
              "ticks": ""
             }
            },
            "type": "scattermap"
           }
          ],
          "scattermapbox": [
           {
            "marker": {
             "colorbar": {
              "outlinewidth": 0,
              "ticks": ""
             }
            },
            "type": "scattermapbox"
           }
          ],
          "scatterpolar": [
           {
            "marker": {
             "colorbar": {
              "outlinewidth": 0,
              "ticks": ""
             }
            },
            "type": "scatterpolar"
           }
          ],
          "scatterpolargl": [
           {
            "marker": {
             "colorbar": {
              "outlinewidth": 0,
              "ticks": ""
             }
            },
            "type": "scatterpolargl"
           }
          ],
          "scatterternary": [
           {
            "marker": {
             "colorbar": {
              "outlinewidth": 0,
              "ticks": ""
             }
            },
            "type": "scatterternary"
           }
          ],
          "surface": [
           {
            "colorbar": {
             "outlinewidth": 0,
             "ticks": ""
            },
            "colorscale": [
             [
              0,
              "#0d0887"
             ],
             [
              0.1111111111111111,
              "#46039f"
             ],
             [
              0.2222222222222222,
              "#7201a8"
             ],
             [
              0.3333333333333333,
              "#9c179e"
             ],
             [
              0.4444444444444444,
              "#bd3786"
             ],
             [
              0.5555555555555556,
              "#d8576b"
             ],
             [
              0.6666666666666666,
              "#ed7953"
             ],
             [
              0.7777777777777778,
              "#fb9f3a"
             ],
             [
              0.8888888888888888,
              "#fdca26"
             ],
             [
              1,
              "#f0f921"
             ]
            ],
            "type": "surface"
           }
          ],
          "table": [
           {
            "cells": {
             "fill": {
              "color": "#EBF0F8"
             },
             "line": {
              "color": "white"
             }
            },
            "header": {
             "fill": {
              "color": "#C8D4E3"
             },
             "line": {
              "color": "white"
             }
            },
            "type": "table"
           }
          ]
         },
         "layout": {
          "annotationdefaults": {
           "arrowcolor": "#2a3f5f",
           "arrowhead": 0,
           "arrowwidth": 1
          },
          "autotypenumbers": "strict",
          "coloraxis": {
           "colorbar": {
            "outlinewidth": 0,
            "ticks": ""
           }
          },
          "colorscale": {
           "diverging": [
            [
             0,
             "#8e0152"
            ],
            [
             0.1,
             "#c51b7d"
            ],
            [
             0.2,
             "#de77ae"
            ],
            [
             0.3,
             "#f1b6da"
            ],
            [
             0.4,
             "#fde0ef"
            ],
            [
             0.5,
             "#f7f7f7"
            ],
            [
             0.6,
             "#e6f5d0"
            ],
            [
             0.7,
             "#b8e186"
            ],
            [
             0.8,
             "#7fbc41"
            ],
            [
             0.9,
             "#4d9221"
            ],
            [
             1,
             "#276419"
            ]
           ],
           "sequential": [
            [
             0,
             "#0d0887"
            ],
            [
             0.1111111111111111,
             "#46039f"
            ],
            [
             0.2222222222222222,
             "#7201a8"
            ],
            [
             0.3333333333333333,
             "#9c179e"
            ],
            [
             0.4444444444444444,
             "#bd3786"
            ],
            [
             0.5555555555555556,
             "#d8576b"
            ],
            [
             0.6666666666666666,
             "#ed7953"
            ],
            [
             0.7777777777777778,
             "#fb9f3a"
            ],
            [
             0.8888888888888888,
             "#fdca26"
            ],
            [
             1,
             "#f0f921"
            ]
           ],
           "sequentialminus": [
            [
             0,
             "#0d0887"
            ],
            [
             0.1111111111111111,
             "#46039f"
            ],
            [
             0.2222222222222222,
             "#7201a8"
            ],
            [
             0.3333333333333333,
             "#9c179e"
            ],
            [
             0.4444444444444444,
             "#bd3786"
            ],
            [
             0.5555555555555556,
             "#d8576b"
            ],
            [
             0.6666666666666666,
             "#ed7953"
            ],
            [
             0.7777777777777778,
             "#fb9f3a"
            ],
            [
             0.8888888888888888,
             "#fdca26"
            ],
            [
             1,
             "#f0f921"
            ]
           ]
          },
          "colorway": [
           "#636efa",
           "#EF553B",
           "#00cc96",
           "#ab63fa",
           "#FFA15A",
           "#19d3f3",
           "#FF6692",
           "#B6E880",
           "#FF97FF",
           "#FECB52"
          ],
          "font": {
           "color": "#2a3f5f"
          },
          "geo": {
           "bgcolor": "white",
           "lakecolor": "white",
           "landcolor": "#E5ECF6",
           "showlakes": true,
           "showland": true,
           "subunitcolor": "white"
          },
          "hoverlabel": {
           "align": "left"
          },
          "hovermode": "closest",
          "mapbox": {
           "style": "light"
          },
          "paper_bgcolor": "white",
          "plot_bgcolor": "#E5ECF6",
          "polar": {
           "angularaxis": {
            "gridcolor": "white",
            "linecolor": "white",
            "ticks": ""
           },
           "bgcolor": "#E5ECF6",
           "radialaxis": {
            "gridcolor": "white",
            "linecolor": "white",
            "ticks": ""
           }
          },
          "scene": {
           "xaxis": {
            "backgroundcolor": "#E5ECF6",
            "gridcolor": "white",
            "gridwidth": 2,
            "linecolor": "white",
            "showbackground": true,
            "ticks": "",
            "zerolinecolor": "white"
           },
           "yaxis": {
            "backgroundcolor": "#E5ECF6",
            "gridcolor": "white",
            "gridwidth": 2,
            "linecolor": "white",
            "showbackground": true,
            "ticks": "",
            "zerolinecolor": "white"
           },
           "zaxis": {
            "backgroundcolor": "#E5ECF6",
            "gridcolor": "white",
            "gridwidth": 2,
            "linecolor": "white",
            "showbackground": true,
            "ticks": "",
            "zerolinecolor": "white"
           }
          },
          "shapedefaults": {
           "line": {
            "color": "#2a3f5f"
           }
          },
          "ternary": {
           "aaxis": {
            "gridcolor": "white",
            "linecolor": "white",
            "ticks": ""
           },
           "baxis": {
            "gridcolor": "white",
            "linecolor": "white",
            "ticks": ""
           },
           "bgcolor": "#E5ECF6",
           "caxis": {
            "gridcolor": "white",
            "linecolor": "white",
            "ticks": ""
           }
          },
          "title": {
           "x": 0.05
          },
          "xaxis": {
           "automargin": true,
           "gridcolor": "white",
           "linecolor": "white",
           "ticks": "",
           "title": {
            "standoff": 15
           },
           "zerolinecolor": "white",
           "zerolinewidth": 2
          },
          "yaxis": {
           "automargin": true,
           "gridcolor": "white",
           "linecolor": "white",
           "ticks": "",
           "title": {
            "standoff": 15
           },
           "zerolinecolor": "white",
           "zerolinewidth": 2
          }
         }
        },
        "title": {
         "text": "Proporción de clientes pre-registrados en Zoop Pay"
        }
       }
      }
     },
     "metadata": {},
     "output_type": "display_data"
    }
   ],
   "source": [
    "import plotly.express as px\n",
    "\n",
    "# Contar los registros por participación en Zoop Pay\n",
    "zoop_pay_data = df[\"zoop_pay\"].value_counts().reset_index()\n",
    "zoop_pay_data.columns = [\"zoop_pay\", \"cantidad\"]\n",
    "\n",
    "# Crear gráfico de pastel\n",
    "fig = px.pie(\n",
    "    zoop_pay_data,\n",
    "    names=\"zoop_pay\",\n",
    "    values=\"cantidad\",\n",
    "    title=\"Proporción de clientes pre-registrados en Zoop Pay\",\n",
    "    color=\"zoop_pay\",\n",
    "    color_discrete_map={\"Sí\": \"mediumseagreen\", \"No\": \"indianred\"},\n",
    "    hole=0.4,  # opcional: para hacer un donut chart\n",
    ")\n",
    "fig.show()"
   ]
  },
  {
   "cell_type": "markdown",
   "id": "5a1cffbf",
   "metadata": {},
   "source": [
    "## Desafío 2:\n",
    "\n",
    "### Prompt\n",
    "\n",
    "Para el DataFrame llamado `df` se necesita analizar la distribución de las edades de los clientes por región. Esto para delinear una \"persona\" o perfil de su clientela en diferentes localidades del país. Será necesario crar una visual que distribuya esos datos.\n",
    "En `df` cuentas con la columna `edad` de tipo numérico y otra columna `region` con distintos nombres de regiones.\n",
    "Genera un gráfico que muestre la distribución de las edades de los clientes por región. Utiliza las librerías de visualización de datos de Python.\n",
    "\n",
    "### Respuesta\n",
    "\n",
    "Para analizar la **distribución de las edades de los clientes por región**, una excelente opción es usar un **boxplot (diagrama de caja)**. Este tipo de gráfico permite comparar la dispersión, la mediana y los valores atípicos entre regiones de forma clara y efectiva.\n",
    "\n",
    "A continuación te muestro cómo hacerlo utilizando `Seaborn`, una biblioteca poderosa y estética basada en `matplotlib`.\n",
    "\n",
    "---\n",
    "\n",
    "#### 📊 Opción: Boxplot con `Seaborn`\n",
    "\n",
    "```python\n",
    "import seaborn as sns\n",
    "import matplotlib.pyplot as plt\n",
    "\n",
    "plt.figure(figsize=(10, 6))\n",
    "sns.boxplot(data=df, x='region', y='edad', palette='Set2')\n",
    "\n",
    "plt.title('Distribución de edades de los clientes por región')\n",
    "plt.xlabel('Región')\n",
    "plt.ylabel('Edad')\n",
    "plt.xticks(rotation=45)  # Rotar etiquetas si son muchas\n",
    "plt.tight_layout()\n",
    "plt.show()\n",
    "```\n",
    "\n",
    "---\n",
    "\n",
    "#### ✅ ¿Por qué un boxplot?\n",
    "\n",
    "* Muestra la **mediana** (línea central del cuadro)\n",
    "* Visualiza la **dispersión** (rango intercuartil)\n",
    "* Permite detectar **outliers** (valores atípicos)\n",
    "* Ideal para comparar **varias categorías** (en este caso, regiones)\n",
    "\n",
    "---\n",
    "\n",
    "Si prefieres una visual más suave y continua, también se podría usar un gráfico de violín (`sns.violinplot`) o incluso `stripplot` para ver los puntos individuales.\n",
    "\n",
    "¿Quieres también una versión interactiva con `Plotly`?"
   ]
  },
  {
   "cell_type": "code",
   "execution_count": 8,
   "id": "36f572cd",
   "metadata": {},
   "outputs": [
    {
     "data": {
      "image/png": "[encoded data removed]",
      "text/plain": [
       "<Figure size 1000x600 with 1 Axes>"
      ]
     },
     "metadata": {},
     "output_type": "display_data"
    }
   ],
   "source": [
    "import seaborn as sns\n",
    "import matplotlib.pyplot as plt\n",
    "\n",
    "plt.figure(figsize=(10, 6))\n",
    "sns.boxplot(data=df, x=\"region\", y=\"edad\", palette=\"Set2\")\n",
    "\n",
    "plt.title(\"Distribución de edades de los clientes por región\")\n",
    "plt.xlabel(\"Región\")\n",
    "plt.ylabel(\"Edad\")\n",
    "plt.xticks(rotation=45)  # Rotar etiquetas si son muchas\n",
    "plt.tight_layout()\n",
    "plt.show()"
   ]
  }
 ],
 "metadata": {
  "kernelspec": {
   "display_name": "condaenv",
   "language": "python",
   "name": "python3"
  },
  "language_info": {
   "codemirror_mode": {
    "name": "ipython",
    "version": 3
   },
   "file_extension": ".py",
   "mimetype": "text/x-python",
   "name": "python",
   "nbconvert_exporter": "python",
   "pygments_lexer": "ipython3",
   "version": "3.13.2"
  }
 },
 "nbformat": 4,
 "nbformat_minor": 5
}
