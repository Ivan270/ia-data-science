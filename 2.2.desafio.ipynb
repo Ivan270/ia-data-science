{
 "cells": [
  {
   "cell_type": "markdown",
   "id": "a79bba00",
   "metadata": {},
   "source": [
    "# Desafío\n",
    "\n",
    "Vamos a practicar lo que aprendimos a partir del DataFrame df que generamos en el ejercicio de Manos a la Obra anterior?\n",
    "\n",
    "Has recibido una nueva demanda de Zoop para generar 2 nuevos visuales, uno relacionado con el perfil de las ventas y el otro con el perfil de los clientes de una región específica. Vamos a observar las dos situaciones y construir, con la ayuda de ChatGPT, los dos gráficos solicitados:\n",
    "\n",
    "Desafío 1:\n",
    "\n",
    "Construye y ejecuta un prompt en ChatGPT para generar, a partir de nuestra base de datos, un visual que muestre el facturación de las ventas por región. Recuerda que aquí la facturación se calcula multiplicando el valor unitario por la cantidad comprada y sumando el costo de envío.\n",
    "\n",
    "Desafío 2:\n",
    "\n",
    "Zoop quiere realizar una campaña en los estados de México y Puebla, por lo que necesita conocer el perfil de su público según el sexo biológico. Construye y ejecuta un prompt en ChatGPT para generar, a partir de nuestra base de datos, un visual que muestre la composición del público por sexo biológico en los estados de México y Puebla. Recuerda pedir que agrupe o apile los datos para la presentación.\n"
   ]
  },
  {
   "cell_type": "markdown",
   "id": "711228d6",
   "metadata": {},
   "source": [
    "# Datos anteriores"
   ]
  },
  {
   "cell_type": "code",
   "execution_count": 27,
   "id": "e5e9e4f4",
   "metadata": {},
   "outputs": [
    {
     "data": {
      "text/html": [
       "<div>\n",
       "<style scoped>\n",
       "    .dataframe tbody tr th:only-of-type {\n",
       "        vertical-align: middle;\n",
       "    }\n",
       "\n",
       "    .dataframe tbody tr th {\n",
       "        vertical-align: top;\n",
       "    }\n",
       "\n",
       "    .dataframe thead th {\n",
       "        text-align: right;\n",
       "    }\n",
       "</style>\n",
       "<table border=\"1\" class=\"dataframe\">\n",
       "  <thead>\n",
       "    <tr style=\"text-align: right;\">\n",
       "      <th></th>\n",
       "      <th>ID_compra</th>\n",
       "      <th>fecha</th>\n",
       "      <th>horario</th>\n",
       "      <th>categoria</th>\n",
       "      <th>precio_unitario</th>\n",
       "      <th>cantidad</th>\n",
       "      <th>envio</th>\n",
       "      <th>metodo_pago</th>\n",
       "      <th>ID_cliente</th>\n",
       "      <th>edad</th>\n",
       "      <th>sexo_biologico</th>\n",
       "      <th>ciudad</th>\n",
       "      <th>estado</th>\n",
       "      <th>region</th>\n",
       "      <th>cashback</th>\n",
       "      <th>zoop_pay</th>\n",
       "    </tr>\n",
       "  </thead>\n",
       "  <tbody>\n",
       "    <tr>\n",
       "      <th>0</th>\n",
       "      <td>6</td>\n",
       "      <td>2023-01-03</td>\n",
       "      <td>20:40</td>\n",
       "      <td>Electrónicos</td>\n",
       "      <td>4457.9</td>\n",
       "      <td>4</td>\n",
       "      <td>713.26</td>\n",
       "      <td>Paypal</td>\n",
       "      <td>6149</td>\n",
       "      <td>30</td>\n",
       "      <td>Masculino</td>\n",
       "      <td>Hermosillo</td>\n",
       "      <td>Sonora</td>\n",
       "      <td>Noroeste</td>\n",
       "      <td>Sí</td>\n",
       "      <td>No</td>\n",
       "    </tr>\n",
       "    <tr>\n",
       "      <th>1</th>\n",
       "      <td>5</td>\n",
       "      <td>2023-01-03</td>\n",
       "      <td>21:48</td>\n",
       "      <td>Herramientas y construcción</td>\n",
       "      <td>115.9</td>\n",
       "      <td>1</td>\n",
       "      <td>0.00</td>\n",
       "      <td>Transferencia</td>\n",
       "      <td>9491</td>\n",
       "      <td>36</td>\n",
       "      <td>Masculino</td>\n",
       "      <td>Ciudad de México</td>\n",
       "      <td>Ciudad de México</td>\n",
       "      <td>Centro</td>\n",
       "      <td>Sí</td>\n",
       "      <td>Sí</td>\n",
       "    </tr>\n",
       "    <tr>\n",
       "      <th>2</th>\n",
       "      <td>9</td>\n",
       "      <td>2023-01-03</td>\n",
       "      <td>17:08</td>\n",
       "      <td>Belleza e higiene</td>\n",
       "      <td>68.9</td>\n",
       "      <td>2</td>\n",
       "      <td>13.78</td>\n",
       "      <td>Tarjeta de Crédito</td>\n",
       "      <td>5288</td>\n",
       "      <td>39</td>\n",
       "      <td>Femenino</td>\n",
       "      <td>Aguascalientes</td>\n",
       "      <td>Aguascalientes</td>\n",
       "      <td>Centro-Norte</td>\n",
       "      <td>No</td>\n",
       "      <td>No</td>\n",
       "    </tr>\n",
       "    <tr>\n",
       "      <th>3</th>\n",
       "      <td>4</td>\n",
       "      <td>2023-01-03</td>\n",
       "      <td>14:29</td>\n",
       "      <td>Herramientas y construcción</td>\n",
       "      <td>80.9</td>\n",
       "      <td>5</td>\n",
       "      <td>40.45</td>\n",
       "      <td>Transferencia</td>\n",
       "      <td>9679</td>\n",
       "      <td>35</td>\n",
       "      <td>Masculino</td>\n",
       "      <td>Veracruz</td>\n",
       "      <td>Veracruz</td>\n",
       "      <td>Golfo</td>\n",
       "      <td>Sí</td>\n",
       "      <td>Sí</td>\n",
       "    </tr>\n",
       "    <tr>\n",
       "      <th>4</th>\n",
       "      <td>8</td>\n",
       "      <td>2023-01-03</td>\n",
       "      <td>18:02</td>\n",
       "      <td>Belleza e higiene</td>\n",
       "      <td>165.0</td>\n",
       "      <td>4</td>\n",
       "      <td>0.00</td>\n",
       "      <td>Transferencia</td>\n",
       "      <td>1380</td>\n",
       "      <td>50</td>\n",
       "      <td>Masculino</td>\n",
       "      <td>Ciudad de México</td>\n",
       "      <td>Ciudad de México</td>\n",
       "      <td>Centro</td>\n",
       "      <td>No</td>\n",
       "      <td>No</td>\n",
       "    </tr>\n",
       "  </tbody>\n",
       "</table>\n",
       "</div>"
      ],
      "text/plain": [
       "   ID_compra      fecha horario                    categoria  precio_unitario  \\\n",
       "0          6 2023-01-03   20:40                 Electrónicos           4457.9   \n",
       "1          5 2023-01-03   21:48  Herramientas y construcción            115.9   \n",
       "2          9 2023-01-03   17:08            Belleza e higiene             68.9   \n",
       "3          4 2023-01-03   14:29  Herramientas y construcción             80.9   \n",
       "4          8 2023-01-03   18:02            Belleza e higiene            165.0   \n",
       "\n",
       "   cantidad   envio         metodo_pago  ID_cliente  edad sexo_biologico  \\\n",
       "0         4  713.26              Paypal        6149    30      Masculino   \n",
       "1         1    0.00       Transferencia        9491    36      Masculino   \n",
       "2         2   13.78  Tarjeta de Crédito        5288    39       Femenino   \n",
       "3         5   40.45       Transferencia        9679    35      Masculino   \n",
       "4         4    0.00       Transferencia        1380    50      Masculino   \n",
       "\n",
       "             ciudad            estado        region cashback zoop_pay  \n",
       "0        Hermosillo            Sonora      Noroeste       Sí       No  \n",
       "1  Ciudad de México  Ciudad de México        Centro       Sí       Sí  \n",
       "2    Aguascalientes    Aguascalientes  Centro-Norte       No       No  \n",
       "3          Veracruz          Veracruz         Golfo       Sí       Sí  \n",
       "4  Ciudad de México  Ciudad de México        Centro       No       No  "
      ]
     },
     "execution_count": 27,
     "metadata": {},
     "output_type": "execute_result"
    }
   ],
   "source": [
    "import pandas as pd\n",
    "import warnings\n",
    "\n",
    "warnings.filterwarnings(\"ignore\")\n",
    "\n",
    "url_clientes = \"https://gist.githubusercontent.com/ahcamachod/d08898e1cc84c7271856e78d9558ca3d/raw/2f7e1fa53711efe6433a5c5ec79948f600591cb9/clientes_zoop.csv\"\n",
    "url_ventas = \"https://gist.githubusercontent.com/ahcamachod/966d7162a3c3a2769b8770b35abf1bcc/raw/d79941b3fa46a450f3611589abd8663399c1277b/ventas_zoop.csv\"\n",
    "url_zoop_pay = \"https://gist.githubusercontent.com/ahcamachod/ce728231a836a973c0df94a9f03ed871/raw/8db6da43d7cd94fcab937208067d0fceb521b78c/zoop_pay.csv\"\n",
    "\n",
    "clientes = pd.read_csv(url_clientes)\n",
    "ventas = pd.read_csv(url_ventas)\n",
    "ventas[\"fecha\"] = pd.to_datetime(ventas[\"fecha\"], format=\"%Y-%m-%d\")\n",
    "ventas[\"horario\"] = pd.to_datetime(ventas[\"horario\"], format=\"%H:%M\").dt.time\n",
    "\n",
    "df = pd.merge(ventas, clientes, on=\"ID_compra\", how=\"inner\")\n",
    "# Reorganizar las columnas en el orden deseado\n",
    "columnas_ordenadas = [\n",
    "    \"ID_compra\",\n",
    "    \"fecha\",\n",
    "    \"horario\",\n",
    "    \"categoria\",\n",
    "    \"precio_unitario\",\n",
    "    \"cantidad\",\n",
    "    \"envio\",\n",
    "    \"metodo_pago\",\n",
    "    \"ID_cliente\",\n",
    "    \"edad\",\n",
    "    \"sexo_biologico\",\n",
    "    \"ciudad\",\n",
    "    \"estado\",\n",
    "    \"region\",\n",
    "    \"cashback\",\n",
    "    \"nota\",\n",
    "]\n",
    "\n",
    "# Aplicar el orden de las columnas\n",
    "df = df[columnas_ordenadas]\n",
    "\n",
    "clientes = pd.read_csv(url_clientes)\n",
    "ventas = pd.read_csv(url_ventas)\n",
    "zoop_pay = pd.read_csv(url_zoop_pay)\n",
    "\n",
    "# 2. Unir ventas y clientes por 'ID_compra'\n",
    "df = pd.merge(ventas, clientes, on=\"ID_compra\", how=\"inner\")\n",
    "\n",
    "# 3. Unir con la base zoop_pay por 'ID_cliente'\n",
    "df = pd.merge(df, zoop_pay, on=\"ID_cliente\", how=\"left\")\n",
    "\n",
    "# 4. Renombrar columnas para estandarizar nombres\n",
    "df = df.rename(\n",
    "    columns={\n",
    "        \"fecha de la compra\": \"fecha\",\n",
    "        \"hora de la compra\": \"horario\",\n",
    "        \"categoría del producto\": \"categoria\",\n",
    "        \"precio unitario del producto\": \"precio_unitario\",\n",
    "        \"cantidad vendida\": \"cantidad\",\n",
    "        \"método de pago\": \"metodo_pago\",\n",
    "        \"sexo biológico\": \"sexo_biologico\",\n",
    "        \"programa de cashback\": \"cashback\",\n",
    "    }\n",
    ")\n",
    "\n",
    "# 5. Asegurar tipo datetime para la columna 'fecha'\n",
    "df[\"fecha\"] = pd.to_datetime(df[\"fecha\"], errors=\"coerce\")\n",
    "\n",
    "# 6. Reordenar las columnas en el orden solicitado\n",
    "columnas_ordenadas = [\n",
    "    \"ID_compra\",\n",
    "    \"fecha\",\n",
    "    \"horario\",\n",
    "    \"categoria\",\n",
    "    \"precio_unitario\",\n",
    "    \"cantidad\",\n",
    "    \"envio\",\n",
    "    \"metodo_pago\",\n",
    "    \"ID_cliente\",\n",
    "    \"edad\",\n",
    "    \"sexo_biologico\",\n",
    "    \"ciudad\",\n",
    "    \"estado\",\n",
    "    \"region\",\n",
    "    \"cashback\",\n",
    "    \"zoop_pay\",\n",
    "]\n",
    "\n",
    "df = df[columnas_ordenadas]\n",
    "df.head()"
   ]
  },
  {
   "cell_type": "markdown",
   "id": "a2f5908e",
   "metadata": {},
   "source": [
    "# Desafío 1:\n",
    "## Prompt\n",
    "\n",
    "Se ha generado una nueva petición: \n",
    "A partir del DataFrame llamado df generar una visualización que muestre la facturación de ventas por región. Es importante saber que la facturación se obtiene multiplicando el valor unitario por la cantidad comprada y se le suma el costo de envío.\n",
    "\n",
    "## Respuesta\n",
    "\n",
    "Aquí tienes un bloque de código en Python que\n",
    "\n",
    "1. calcula la **facturación** por registro (`precio_unitario * cantidad + envio`),\n",
    "2. agrega la facturación total por **región**, y\n",
    "3. presenta el resultado en un **gráfico de barras horizontales** para que las etiquetas se lean con claridad:\n",
    "\n",
    "```python\n",
    "import pandas as pd\n",
    "import matplotlib.pyplot as plt\n",
    "import seaborn as sns\n",
    "\n",
    "# 1. Calcular la facturación por fila\n",
    "df['facturacion'] = df['precio_unitario'] * df['cantidad'] + df['envio']\n",
    "\n",
    "# 2. Agrupar por región y sumar la facturación\n",
    "ventas_region = (\n",
    "    df.groupby('region', as_index=False)['facturacion']\n",
    "      .sum()\n",
    "      .sort_values('facturacion', ascending=True)  # orden ascendente para barras horizontales\n",
    ")\n",
    "\n",
    "# 3. Visualización: barras horizontales\n",
    "plt.figure(figsize=(10, 6))\n",
    "sns.barplot(data=ventas_region,\n",
    "            x='facturacion',\n",
    "            y='region',\n",
    "            palette='viridis')\n",
    "\n",
    "plt.title('Facturación total por región')\n",
    "plt.xlabel('Facturación')\n",
    "plt.ylabel('Región')\n",
    "plt.tight_layout()\n",
    "plt.show()\n",
    "```\n",
    "\n",
    "**Qué hace cada paso?**\n",
    "\n",
    "| Paso | Acción                                         | Resultado                                                   |\n",
    "| ---- | ---------------------------------------------- | ----------------------------------------------------------- |\n",
    "| 1    | Crea la columna `facturacion` para cada compra | Integra precio, cantidad y envío                            |\n",
    "| 2    | Agrega (`groupby`) la facturación por `region` | Produce una tabla con la facturación total de cada región   |\n",
    "| 3    | Dibuja un barplot horizontal con Seaborn       | Muestra, de forma ordenada, qué regiones generan más ventas |\n",
    "\n",
    "Con esto obtendrás una visualización clara de qué regiones impulsan los ingresos de Zoop. Si deseas ordenar las barras de mayor a menor, cambia `ascending=True` por `False`, o bien añade etiquetas de valores sobre cada barra usando `plt.bar_label`.\n"
   ]
  },
  {
   "cell_type": "code",
   "execution_count": 28,
   "id": "65d891cf",
   "metadata": {},
   "outputs": [
    {
     "data": {
      "image/png": "[encoded data removed]",
      "text/plain": [
       "<Figure size 1000x600 with 1 Axes>"
      ]
     },
     "metadata": {},
     "output_type": "display_data"
    }
   ],
   "source": [
    "import pandas as pd\n",
    "import matplotlib.pyplot as plt\n",
    "import seaborn as sns\n",
    "\n",
    "# 1. Calcular la facturación por fila\n",
    "df[\"facturacion\"] = df[\"precio_unitario\"] * df[\"cantidad\"] + df[\"envio\"]\n",
    "\n",
    "# 2. Agrupar por región y sumar la facturación\n",
    "ventas_region = (\n",
    "    df.groupby(\"region\", as_index=False)[\"facturacion\"]\n",
    "    .sum()\n",
    "    .sort_values(\n",
    "        \"facturacion\", ascending=True\n",
    "    )  # orden ascendente para barras horizontales\n",
    ")\n",
    "\n",
    "# 3. Visualización: barras horizontales\n",
    "plt.figure(figsize=(10, 6))\n",
    "sns.barplot(data=ventas_region, x=\"facturacion\", y=\"region\", palette=\"viridis\")\n",
    "\n",
    "plt.title(\"Facturación total por región\")\n",
    "plt.xlabel(\"Facturación\")\n",
    "plt.ylabel(\"Región\")\n",
    "plt.tight_layout()\n",
    "plt.show()"
   ]
  },
  {
   "cell_type": "markdown",
   "id": "5f0174d3",
   "metadata": {},
   "source": [
    "# Desafío 2:\n",
    "\n",
    "## Prompt\n",
    "En el DataFrame llamado `df` se profundizará en los datos de los estados México y Puebla para conocer al público de acuerdo a su sexo biológico.\n",
    "Genera una visualización en un gráfico de barras agrupado para comprender la composición del público según su sexo biológico (columna `sexo_biologico`) para los estados México y Puebla (columna `estado`).\n",
    "Utiliza la biblioteca de visualización Plotly para darle un toque adicional de interactividad.\n",
    "\n",
    "## Respuesta\n",
    "\n",
    "Perfecto. Vamos a crear un **gráfico de barras agrupado con Plotly** para visualizar la composición del público según su `sexo_biologico`, filtrando solo los estados **México** y **Puebla**.\n",
    "\n",
    "### ✅ Pasos que seguimos:\n",
    "\n",
    "1. Filtrar los datos para los estados “México” y “Puebla”.\n",
    "2. Agrupar por `estado` y `sexo_biologico`, contando cuántos registros hay por grupo.\n",
    "3. Construir un gráfico de barras agrupado usando `plotly.express`.\n",
    "\n",
    "---\n",
    "\n",
    "### 🧠 Código en Python:\n",
    "\n",
    "```python\n",
    "import pandas as pd\n",
    "import plotly.express as px\n",
    "\n",
    "# 1. Filtrar los estados de interés\n",
    "df_filtrado = df[df['estado'].isin(['Estado de México', 'Puebla'])]\n",
    "\n",
    "# 2. Agrupar por estado y sexo biológico, contar cantidad\n",
    "publico_estado_sexo = (\n",
    "    df_filtrado.groupby(['estado', 'sexo_biologico'])\n",
    "               .size()\n",
    "               .reset_index(name='cantidad')\n",
    ")\n",
    "\n",
    "# 3. Crear gráfico de barras agrupadas con Plotly\n",
    "fig = px.bar(\n",
    "    publico_estado_sexo,\n",
    "    x='estado',\n",
    "    y='cantidad',\n",
    "    color='sexo_biologico',\n",
    "    barmode='group',\n",
    "    title='Composición del público por sexo biológico en los estados de Estado de México y Puebla',\n",
    "    labels={'cantidad': 'Cantidad de clientes', 'sexo_biologico': 'Sexo biológico'}\n",
    ")\n",
    "\n",
    "# Mostrar gráfico interactivo\n",
    "fig.show()\n",
    "```\n",
    "\n",
    "---\n",
    "\n",
    "### 📊 ¿Qué verás?\n",
    "\n",
    "* Dos grupos de barras: uno para **Estado de México**, otro para **Puebla**.\n",
    "* Dentro de cada grupo, las barras están separadas por **sexo biológico**.\n",
    "* Puedes pasar el cursor sobre las barras para ver los valores exactos gracias a la interactividad de Plotly.\n",
    "\n",
    "¿Quieres cambiar colores, agregar porcentajes o exportar el gráfico a HTML o imagen? Te puedo ayudar con eso también.\n"
   ]
  },
  {
   "cell_type": "code",
   "execution_count": 31,
   "id": "4f7774b7",
   "metadata": {},
   "outputs": [
    {
     "data": {
      "application/vnd.plotly.v1+json": {
       "config": {
        "plotlyServerURL": "https://plot.ly"
       },
       "data": [
        {
         "alignmentgroup": "True",
         "hovertemplate": "Sexo biológico=Femenino<br>estado=%{x}<br>Cantidad de clientes=%{y}<extra></extra>",
         "legendgroup": "Femenino",
         "marker": {
          "color": "#636efa",
          "pattern": {
           "shape": ""
          }
         },
         "name": "Femenino",
         "offsetgroup": "Femenino",
         "orientation": "v",
         "showlegend": true,
         "textposition": "auto",
         "type": "bar",
         "x": [
          "Estado de México",
          "Puebla"
         ],
         "xaxis": "x",
         "y": {
          "bdata": "TgLMAA==",
          "dtype": "i2"
         },
         "yaxis": "y"
        },
        {
         "alignmentgroup": "True",
         "hovertemplate": "Sexo biológico=Masculino<br>estado=%{x}<br>Cantidad de clientes=%{y}<extra></extra>",
         "legendgroup": "Masculino",
         "marker": {
          "color": "#EF553B",
          "pattern": {
           "shape": ""
          }
         },
         "name": "Masculino",
         "offsetgroup": "Masculino",
         "orientation": "v",
         "showlegend": true,
         "textposition": "auto",
         "type": "bar",
         "x": [
          "Estado de México",
          "Puebla"
         ],
         "xaxis": "x",
         "y": {
          "bdata": "xAGzAA==",
          "dtype": "i2"
         },
         "yaxis": "y"
        }
       ],
       "layout": {
        "barmode": "group",
        "legend": {
         "title": {
          "text": "Sexo biológico"
         },
         "tracegroupgap": 0
        },
        "template": {
         "data": {
          "bar": [
           {
            "error_x": {
             "color": "#2a3f5f"
            },
            "error_y": {
             "color": "#2a3f5f"
            },
            "marker": {
             "line": {
              "color": "#E5ECF6",
              "width": 0.5
             },
             "pattern": {
              "fillmode": "overlay",
              "size": 10,
              "solidity": 0.2
             }
            },
            "type": "bar"
           }
          ],
          "barpolar": [
           {
            "marker": {
             "line": {
              "color": "#E5ECF6",
              "width": 0.5
             },
             "pattern": {
              "fillmode": "overlay",
              "size": 10,
              "solidity": 0.2
             }
            },
            "type": "barpolar"
           }
          ],
          "carpet": [
           {
            "aaxis": {
             "endlinecolor": "#2a3f5f",
             "gridcolor": "white",
             "linecolor": "white",
             "minorgridcolor": "white",
             "startlinecolor": "#2a3f5f"
            },
            "baxis": {
             "endlinecolor": "#2a3f5f",
             "gridcolor": "white",
             "linecolor": "white",
             "minorgridcolor": "white",
             "startlinecolor": "#2a3f5f"
            },
            "type": "carpet"
           }
          ],
          "choropleth": [
           {
            "colorbar": {
             "outlinewidth": 0,
             "ticks": ""
            },
            "type": "choropleth"
           }
          ],
          "contour": [
           {
            "colorbar": {
             "outlinewidth": 0,
             "ticks": ""
            },
            "colorscale": [
             [
              0,
              "#0d0887"
             ],
             [
              0.1111111111111111,
              "#46039f"
             ],
             [
              0.2222222222222222,
              "#7201a8"
             ],
             [
              0.3333333333333333,
              "#9c179e"
             ],
             [
              0.4444444444444444,
              "#bd3786"
             ],
             [
              0.5555555555555556,
              "#d8576b"
             ],
             [
              0.6666666666666666,
              "#ed7953"
             ],
             [
              0.7777777777777778,
              "#fb9f3a"
             ],
             [
              0.8888888888888888,
              "#fdca26"
             ],
             [
              1,
              "#f0f921"
             ]
            ],
            "type": "contour"
           }
          ],
          "contourcarpet": [
           {
            "colorbar": {
             "outlinewidth": 0,
             "ticks": ""
            },
            "type": "contourcarpet"
           }
          ],
          "heatmap": [
           {
            "colorbar": {
             "outlinewidth": 0,
             "ticks": ""
            },
            "colorscale": [
             [
              0,
              "#0d0887"
             ],
             [
              0.1111111111111111,
              "#46039f"
             ],
             [
              0.2222222222222222,
              "#7201a8"
             ],
             [
              0.3333333333333333,
              "#9c179e"
             ],
             [
              0.4444444444444444,
              "#bd3786"
             ],
             [
              0.5555555555555556,
              "#d8576b"
             ],
             [
              0.6666666666666666,
              "#ed7953"
             ],
             [
              0.7777777777777778,
              "#fb9f3a"
             ],
             [
              0.8888888888888888,
              "#fdca26"
             ],
             [
              1,
              "#f0f921"
             ]
            ],
            "type": "heatmap"
           }
          ],
          "histogram": [
           {
            "marker": {
             "pattern": {
              "fillmode": "overlay",
              "size": 10,
              "solidity": 0.2
             }
            },
            "type": "histogram"
           }
          ],
          "histogram2d": [
           {
            "colorbar": {
             "outlinewidth": 0,
             "ticks": ""
            },
            "colorscale": [
             [
              0,
              "#0d0887"
             ],
             [
              0.1111111111111111,
              "#46039f"
             ],
             [
              0.2222222222222222,
              "#7201a8"
             ],
             [
              0.3333333333333333,
              "#9c179e"
             ],
             [
              0.4444444444444444,
              "#bd3786"
             ],
             [
              0.5555555555555556,
              "#d8576b"
             ],
             [
              0.6666666666666666,
              "#ed7953"
             ],
             [
              0.7777777777777778,
              "#fb9f3a"
             ],
             [
              0.8888888888888888,
              "#fdca26"
             ],
             [
              1,
              "#f0f921"
             ]
            ],
            "type": "histogram2d"
           }
          ],
          "histogram2dcontour": [
           {
            "colorbar": {
             "outlinewidth": 0,
             "ticks": ""
            },
            "colorscale": [
             [
              0,
              "#0d0887"
             ],
             [
              0.1111111111111111,
              "#46039f"
             ],
             [
              0.2222222222222222,
              "#7201a8"
             ],
             [
              0.3333333333333333,
              "#9c179e"
             ],
             [
              0.4444444444444444,
              "#bd3786"
             ],
             [
              0.5555555555555556,
              "#d8576b"
             ],
             [
              0.6666666666666666,
              "#ed7953"
             ],
             [
              0.7777777777777778,
              "#fb9f3a"
             ],
             [
              0.8888888888888888,
              "#fdca26"
             ],
             [
              1,
              "#f0f921"
             ]
            ],
            "type": "histogram2dcontour"
           }
          ],
          "mesh3d": [
           {
            "colorbar": {
             "outlinewidth": 0,
             "ticks": ""
            },
            "type": "mesh3d"
           }
          ],
          "parcoords": [
           {
            "line": {
             "colorbar": {
              "outlinewidth": 0,
              "ticks": ""
             }
            },
            "type": "parcoords"
           }
          ],
          "pie": [
           {
            "automargin": true,
            "type": "pie"
           }
          ],
          "scatter": [
           {
            "fillpattern": {
             "fillmode": "overlay",
             "size": 10,
             "solidity": 0.2
            },
            "type": "scatter"
           }
          ],
          "scatter3d": [
           {
            "line": {
             "colorbar": {
              "outlinewidth": 0,
              "ticks": ""
             }
            },
            "marker": {
             "colorbar": {
              "outlinewidth": 0,
              "ticks": ""
             }
            },
            "type": "scatter3d"
           }
          ],
          "scattercarpet": [
           {
            "marker": {
             "colorbar": {
              "outlinewidth": 0,
              "ticks": ""
             }
            },
            "type": "scattercarpet"
           }
          ],
          "scattergeo": [
           {
            "marker": {
             "colorbar": {
              "outlinewidth": 0,
              "ticks": ""
             }
            },
            "type": "scattergeo"
           }
          ],
          "scattergl": [
           {
            "marker": {
             "colorbar": {
              "outlinewidth": 0,
              "ticks": ""
             }
            },
            "type": "scattergl"
           }
          ],
          "scattermap": [
           {
            "marker": {
             "colorbar": {
              "outlinewidth": 0,
              "ticks": ""
             }
            },
            "type": "scattermap"
           }
          ],
          "scattermapbox": [
           {
            "marker": {
             "colorbar": {
              "outlinewidth": 0,
              "ticks": ""
             }
            },
            "type": "scattermapbox"
           }
          ],
          "scatterpolar": [
           {
            "marker": {
             "colorbar": {
              "outlinewidth": 0,
              "ticks": ""
             }
            },
            "type": "scatterpolar"
           }
          ],
          "scatterpolargl": [
           {
            "marker": {
             "colorbar": {
              "outlinewidth": 0,
              "ticks": ""
             }
            },
            "type": "scatterpolargl"
           }
          ],
          "scatterternary": [
           {
            "marker": {
             "colorbar": {
              "outlinewidth": 0,
              "ticks": ""
             }
            },
            "type": "scatterternary"
           }
          ],
          "surface": [
           {
            "colorbar": {
             "outlinewidth": 0,
             "ticks": ""
            },
            "colorscale": [
             [
              0,
              "#0d0887"
             ],
             [
              0.1111111111111111,
              "#46039f"
             ],
             [
              0.2222222222222222,
              "#7201a8"
             ],
             [
              0.3333333333333333,
              "#9c179e"
             ],
             [
              0.4444444444444444,
              "#bd3786"
             ],
             [
              0.5555555555555556,
              "#d8576b"
             ],
             [
              0.6666666666666666,
              "#ed7953"
             ],
             [
              0.7777777777777778,
              "#fb9f3a"
             ],
             [
              0.8888888888888888,
              "#fdca26"
             ],
             [
              1,
              "#f0f921"
             ]
            ],
            "type": "surface"
           }
          ],
          "table": [
           {
            "cells": {
             "fill": {
              "color": "#EBF0F8"
             },
             "line": {
              "color": "white"
             }
            },
            "header": {
             "fill": {
              "color": "#C8D4E3"
             },
             "line": {
              "color": "white"
             }
            },
            "type": "table"
           }
          ]
         },
         "layout": {
          "annotationdefaults": {
           "arrowcolor": "#2a3f5f",
           "arrowhead": 0,
           "arrowwidth": 1
          },
          "autotypenumbers": "strict",
          "coloraxis": {
           "colorbar": {
            "outlinewidth": 0,
            "ticks": ""
           }
          },
          "colorscale": {
           "diverging": [
            [
             0,
             "#8e0152"
            ],
            [
             0.1,
             "#c51b7d"
            ],
            [
             0.2,
             "#de77ae"
            ],
            [
             0.3,
             "#f1b6da"
            ],
            [
             0.4,
             "#fde0ef"
            ],
            [
             0.5,
             "#f7f7f7"
            ],
            [
             0.6,
             "#e6f5d0"
            ],
            [
             0.7,
             "#b8e186"
            ],
            [
             0.8,
             "#7fbc41"
            ],
            [
             0.9,
             "#4d9221"
            ],
            [
             1,
             "#276419"
            ]
           ],
           "sequential": [
            [
             0,
             "#0d0887"
            ],
            [
             0.1111111111111111,
             "#46039f"
            ],
            [
             0.2222222222222222,
             "#7201a8"
            ],
            [
             0.3333333333333333,
             "#9c179e"
            ],
            [
             0.4444444444444444,
             "#bd3786"
            ],
            [
             0.5555555555555556,
             "#d8576b"
            ],
            [
             0.6666666666666666,
             "#ed7953"
            ],
            [
             0.7777777777777778,
             "#fb9f3a"
            ],
            [
             0.8888888888888888,
             "#fdca26"
            ],
            [
             1,
             "#f0f921"
            ]
           ],
           "sequentialminus": [
            [
             0,
             "#0d0887"
            ],
            [
             0.1111111111111111,
             "#46039f"
            ],
            [
             0.2222222222222222,
             "#7201a8"
            ],
            [
             0.3333333333333333,
             "#9c179e"
            ],
            [
             0.4444444444444444,
             "#bd3786"
            ],
            [
             0.5555555555555556,
             "#d8576b"
            ],
            [
             0.6666666666666666,
             "#ed7953"
            ],
            [
             0.7777777777777778,
             "#fb9f3a"
            ],
            [
             0.8888888888888888,
             "#fdca26"
            ],
            [
             1,
             "#f0f921"
            ]
           ]
          },
          "colorway": [
           "#636efa",
           "#EF553B",
           "#00cc96",
           "#ab63fa",
           "#FFA15A",
           "#19d3f3",
           "#FF6692",
           "#B6E880",
           "#FF97FF",
           "#FECB52"
          ],
          "font": {
           "color": "#2a3f5f"
          },
          "geo": {
           "bgcolor": "white",
           "lakecolor": "white",
           "landcolor": "#E5ECF6",
           "showlakes": true,
           "showland": true,
           "subunitcolor": "white"
          },
          "hoverlabel": {
           "align": "left"
          },
          "hovermode": "closest",
          "mapbox": {
           "style": "light"
          },
          "paper_bgcolor": "white",
          "plot_bgcolor": "#E5ECF6",
          "polar": {
           "angularaxis": {
            "gridcolor": "white",
            "linecolor": "white",
            "ticks": ""
           },
           "bgcolor": "#E5ECF6",
           "radialaxis": {
            "gridcolor": "white",
            "linecolor": "white",
            "ticks": ""
           }
          },
          "scene": {
           "xaxis": {
            "backgroundcolor": "#E5ECF6",
            "gridcolor": "white",
            "gridwidth": 2,
            "linecolor": "white",
            "showbackground": true,
            "ticks": "",
            "zerolinecolor": "white"
           },
           "yaxis": {
            "backgroundcolor": "#E5ECF6",
            "gridcolor": "white",
            "gridwidth": 2,
            "linecolor": "white",
            "showbackground": true,
            "ticks": "",
            "zerolinecolor": "white"
           },
           "zaxis": {
            "backgroundcolor": "#E5ECF6",
            "gridcolor": "white",
            "gridwidth": 2,
            "linecolor": "white",
            "showbackground": true,
            "ticks": "",
            "zerolinecolor": "white"
           }
          },
          "shapedefaults": {
           "line": {
            "color": "#2a3f5f"
           }
          },
          "ternary": {
           "aaxis": {
            "gridcolor": "white",
            "linecolor": "white",
            "ticks": ""
           },
           "baxis": {
            "gridcolor": "white",
            "linecolor": "white",
            "ticks": ""
           },
           "bgcolor": "#E5ECF6",
           "caxis": {
            "gridcolor": "white",
            "linecolor": "white",
            "ticks": ""
           }
          },
          "title": {
           "x": 0.05
          },
          "xaxis": {
           "automargin": true,
           "gridcolor": "white",
           "linecolor": "white",
           "ticks": "",
           "title": {
            "standoff": 15
           },
           "zerolinecolor": "white",
           "zerolinewidth": 2
          },
          "yaxis": {
           "automargin": true,
           "gridcolor": "white",
           "linecolor": "white",
           "ticks": "",
           "title": {
            "standoff": 15
           },
           "zerolinecolor": "white",
           "zerolinewidth": 2
          }
         }
        },
        "title": {
         "text": "Composición del público por sexo biológico en los estados de México y Puebla"
        },
        "xaxis": {
         "anchor": "y",
         "domain": [
          0,
          1
         ],
         "title": {
          "text": "estado"
         }
        },
        "yaxis": {
         "anchor": "x",
         "domain": [
          0,
          1
         ],
         "title": {
          "text": "Cantidad de clientes"
         }
        }
       }
      }
     },
     "metadata": {},
     "output_type": "display_data"
    }
   ],
   "source": [
    "import plotly.express as px\n",
    "\n",
    "# 1. Filtrar los estados de interés\n",
    "df_filtrado = df[df[\"estado\"].isin([\"Estado de México\", \"Puebla\"])]\n",
    "\n",
    "# 2. Agrupar por estado y sexo biológico, contar cantidad\n",
    "publico_estado_sexo = (\n",
    "    df_filtrado.groupby([\"estado\", \"sexo_biologico\"])\n",
    "    .size()\n",
    "    .reset_index(name=\"cantidad\")\n",
    ")\n",
    "\n",
    "# 3. Crear gráfico de barras agrupadas con Plotly\n",
    "fig = px.bar(\n",
    "    publico_estado_sexo,\n",
    "    x=\"estado\",\n",
    "    y=\"cantidad\",\n",
    "    color=\"sexo_biologico\",\n",
    "    barmode=\"group\",\n",
    "    title=\"Composición del público por sexo biológico en los estados de México y Puebla\",\n",
    "    labels={\"cantidad\": \"Cantidad de clientes\", \"sexo_biologico\": \"Sexo biológico\"},\n",
    ")\n",
    "\n",
    "# Mostrar gráfico interactivo\n",
    "fig.show()"
   ]
  },
  {
   "cell_type": "code",
   "execution_count": 30,
   "id": "0881c04b",
   "metadata": {},
   "outputs": [
    {
     "data": {
      "text/html": [
       "<div>\n",
       "<style scoped>\n",
       "    .dataframe tbody tr th:only-of-type {\n",
       "        vertical-align: middle;\n",
       "    }\n",
       "\n",
       "    .dataframe tbody tr th {\n",
       "        vertical-align: top;\n",
       "    }\n",
       "\n",
       "    .dataframe thead th {\n",
       "        text-align: right;\n",
       "    }\n",
       "</style>\n",
       "<table border=\"1\" class=\"dataframe\">\n",
       "  <thead>\n",
       "    <tr style=\"text-align: right;\">\n",
       "      <th></th>\n",
       "      <th>ID_compra</th>\n",
       "      <th>fecha</th>\n",
       "      <th>horario</th>\n",
       "      <th>categoria</th>\n",
       "      <th>precio_unitario</th>\n",
       "      <th>cantidad</th>\n",
       "      <th>envio</th>\n",
       "      <th>metodo_pago</th>\n",
       "      <th>ID_cliente</th>\n",
       "      <th>edad</th>\n",
       "      <th>sexo_biologico</th>\n",
       "      <th>ciudad</th>\n",
       "      <th>estado</th>\n",
       "      <th>region</th>\n",
       "      <th>cashback</th>\n",
       "      <th>zoop_pay</th>\n",
       "      <th>facturacion</th>\n",
       "    </tr>\n",
       "  </thead>\n",
       "  <tbody>\n",
       "    <tr>\n",
       "      <th>16</th>\n",
       "      <td>18</td>\n",
       "      <td>2023-01-04</td>\n",
       "      <td>00:09</td>\n",
       "      <td>Alimentos y bebidas</td>\n",
       "      <td>61.0</td>\n",
       "      <td>5</td>\n",
       "      <td>0.0</td>\n",
       "      <td>Tarjeta de Crédito</td>\n",
       "      <td>6492</td>\n",
       "      <td>18</td>\n",
       "      <td>Masculino</td>\n",
       "      <td>Amecameca</td>\n",
       "      <td>Estado de México</td>\n",
       "      <td>Centro</td>\n",
       "      <td>No</td>\n",
       "      <td>No</td>\n",
       "      <td>305.0</td>\n",
       "    </tr>\n",
       "    <tr>\n",
       "      <th>24</th>\n",
       "      <td>28</td>\n",
       "      <td>2023-01-05</td>\n",
       "      <td>14:10</td>\n",
       "      <td>Alimentos y bebidas</td>\n",
       "      <td>56.9</td>\n",
       "      <td>5</td>\n",
       "      <td>0.0</td>\n",
       "      <td>Tarjeta de Crédito</td>\n",
       "      <td>1955</td>\n",
       "      <td>51</td>\n",
       "      <td>Masculino</td>\n",
       "      <td>Atizapán de Zaragoza</td>\n",
       "      <td>Estado de México</td>\n",
       "      <td>Centro</td>\n",
       "      <td>No</td>\n",
       "      <td>No</td>\n",
       "      <td>284.5</td>\n",
       "    </tr>\n",
       "    <tr>\n",
       "      <th>25</th>\n",
       "      <td>25</td>\n",
       "      <td>2023-01-05</td>\n",
       "      <td>17:42</td>\n",
       "      <td>Casa y aseo</td>\n",
       "      <td>24.9</td>\n",
       "      <td>4</td>\n",
       "      <td>0.0</td>\n",
       "      <td>Tarjeta de Crédito</td>\n",
       "      <td>2411</td>\n",
       "      <td>45</td>\n",
       "      <td>Masculino</td>\n",
       "      <td>Naucalpan de Juárez</td>\n",
       "      <td>Estado de México</td>\n",
       "      <td>Centro</td>\n",
       "      <td>No</td>\n",
       "      <td>No</td>\n",
       "      <td>99.6</td>\n",
       "    </tr>\n",
       "    <tr>\n",
       "      <th>26</th>\n",
       "      <td>21</td>\n",
       "      <td>2023-01-05</td>\n",
       "      <td>00:58</td>\n",
       "      <td>Herramientas y construcción</td>\n",
       "      <td>143.9</td>\n",
       "      <td>3</td>\n",
       "      <td>0.0</td>\n",
       "      <td>Tarjeta de Crédito</td>\n",
       "      <td>6284</td>\n",
       "      <td>40</td>\n",
       "      <td>Femenino</td>\n",
       "      <td>Chalco</td>\n",
       "      <td>Estado de México</td>\n",
       "      <td>Centro</td>\n",
       "      <td>No</td>\n",
       "      <td>No</td>\n",
       "      <td>431.7</td>\n",
       "    </tr>\n",
       "    <tr>\n",
       "      <th>30</th>\n",
       "      <td>36</td>\n",
       "      <td>2023-01-06</td>\n",
       "      <td>17:49</td>\n",
       "      <td>Electrodomésticos</td>\n",
       "      <td>740.9</td>\n",
       "      <td>4</td>\n",
       "      <td>0.0</td>\n",
       "      <td>Tarjeta de Crédito</td>\n",
       "      <td>4977</td>\n",
       "      <td>33</td>\n",
       "      <td>Femenino</td>\n",
       "      <td>Texcoco</td>\n",
       "      <td>Estado de México</td>\n",
       "      <td>Centro</td>\n",
       "      <td>Sí</td>\n",
       "      <td>No</td>\n",
       "      <td>2963.6</td>\n",
       "    </tr>\n",
       "    <tr>\n",
       "      <th>...</th>\n",
       "      <td>...</td>\n",
       "      <td>...</td>\n",
       "      <td>...</td>\n",
       "      <td>...</td>\n",
       "      <td>...</td>\n",
       "      <td>...</td>\n",
       "      <td>...</td>\n",
       "      <td>...</td>\n",
       "      <td>...</td>\n",
       "      <td>...</td>\n",
       "      <td>...</td>\n",
       "      <td>...</td>\n",
       "      <td>...</td>\n",
       "      <td>...</td>\n",
       "      <td>...</td>\n",
       "      <td>...</td>\n",
       "      <td>...</td>\n",
       "    </tr>\n",
       "    <tr>\n",
       "      <th>6132</th>\n",
       "      <td>6130</td>\n",
       "      <td>2023-12-31</td>\n",
       "      <td>17:16</td>\n",
       "      <td>Herramientas y construcción</td>\n",
       "      <td>109.9</td>\n",
       "      <td>4</td>\n",
       "      <td>0.0</td>\n",
       "      <td>Transferencia</td>\n",
       "      <td>7000</td>\n",
       "      <td>26</td>\n",
       "      <td>Femenino</td>\n",
       "      <td>Atizapán de Zaragoza</td>\n",
       "      <td>Estado de México</td>\n",
       "      <td>Centro</td>\n",
       "      <td>No</td>\n",
       "      <td>No</td>\n",
       "      <td>439.6</td>\n",
       "    </tr>\n",
       "    <tr>\n",
       "      <th>6144</th>\n",
       "      <td>6136</td>\n",
       "      <td>2023-12-31</td>\n",
       "      <td>22:01</td>\n",
       "      <td>Casa y aseo</td>\n",
       "      <td>33.9</td>\n",
       "      <td>1</td>\n",
       "      <td>0.0</td>\n",
       "      <td>Tarjeta de Crédito</td>\n",
       "      <td>8006</td>\n",
       "      <td>36</td>\n",
       "      <td>Femenino</td>\n",
       "      <td>Toluca</td>\n",
       "      <td>Estado de México</td>\n",
       "      <td>Centro</td>\n",
       "      <td>Sí</td>\n",
       "      <td>Sí</td>\n",
       "      <td>33.9</td>\n",
       "    </tr>\n",
       "    <tr>\n",
       "      <th>6145</th>\n",
       "      <td>6153</td>\n",
       "      <td>2023-12-31</td>\n",
       "      <td>23:44</td>\n",
       "      <td>Electrónicos</td>\n",
       "      <td>6376.9</td>\n",
       "      <td>3</td>\n",
       "      <td>0.0</td>\n",
       "      <td>Transferencia</td>\n",
       "      <td>2719</td>\n",
       "      <td>37</td>\n",
       "      <td>Masculino</td>\n",
       "      <td>Ecatepec de Morelos</td>\n",
       "      <td>Estado de México</td>\n",
       "      <td>Centro</td>\n",
       "      <td>Sí</td>\n",
       "      <td>Sí</td>\n",
       "      <td>19130.7</td>\n",
       "    </tr>\n",
       "    <tr>\n",
       "      <th>6155</th>\n",
       "      <td>6164</td>\n",
       "      <td>2023-12-31</td>\n",
       "      <td>22:01</td>\n",
       "      <td>Belleza e higiene</td>\n",
       "      <td>199.9</td>\n",
       "      <td>5</td>\n",
       "      <td>0.0</td>\n",
       "      <td>Tarjeta de Crédito</td>\n",
       "      <td>9710</td>\n",
       "      <td>41</td>\n",
       "      <td>Femenino</td>\n",
       "      <td>Amecameca</td>\n",
       "      <td>Estado de México</td>\n",
       "      <td>Centro</td>\n",
       "      <td>No</td>\n",
       "      <td>No</td>\n",
       "      <td>999.5</td>\n",
       "    </tr>\n",
       "    <tr>\n",
       "      <th>6156</th>\n",
       "      <td>6154</td>\n",
       "      <td>2023-12-31</td>\n",
       "      <td>23:56</td>\n",
       "      <td>Alimentos y bebidas</td>\n",
       "      <td>9.9</td>\n",
       "      <td>2</td>\n",
       "      <td>0.0</td>\n",
       "      <td>Transferencia</td>\n",
       "      <td>5159</td>\n",
       "      <td>40</td>\n",
       "      <td>Femenino</td>\n",
       "      <td>San Sebastián Xhala</td>\n",
       "      <td>Estado de México</td>\n",
       "      <td>Centro</td>\n",
       "      <td>Sí</td>\n",
       "      <td>Sí</td>\n",
       "      <td>19.8</td>\n",
       "    </tr>\n",
       "  </tbody>\n",
       "</table>\n",
       "<p>1042 rows × 17 columns</p>\n",
       "</div>"
      ],
      "text/plain": [
       "      ID_compra      fecha horario                    categoria  \\\n",
       "16           18 2023-01-04   00:09          Alimentos y bebidas   \n",
       "24           28 2023-01-05   14:10          Alimentos y bebidas   \n",
       "25           25 2023-01-05   17:42                  Casa y aseo   \n",
       "26           21 2023-01-05   00:58  Herramientas y construcción   \n",
       "30           36 2023-01-06   17:49            Electrodomésticos   \n",
       "...         ...        ...     ...                          ...   \n",
       "6132       6130 2023-12-31   17:16  Herramientas y construcción   \n",
       "6144       6136 2023-12-31   22:01                  Casa y aseo   \n",
       "6145       6153 2023-12-31   23:44                 Electrónicos   \n",
       "6155       6164 2023-12-31   22:01            Belleza e higiene   \n",
       "6156       6154 2023-12-31   23:56          Alimentos y bebidas   \n",
       "\n",
       "      precio_unitario  cantidad  envio         metodo_pago  ID_cliente  edad  \\\n",
       "16               61.0         5    0.0  Tarjeta de Crédito        6492    18   \n",
       "24               56.9         5    0.0  Tarjeta de Crédito        1955    51   \n",
       "25               24.9         4    0.0  Tarjeta de Crédito        2411    45   \n",
       "26              143.9         3    0.0  Tarjeta de Crédito        6284    40   \n",
       "30              740.9         4    0.0  Tarjeta de Crédito        4977    33   \n",
       "...               ...       ...    ...                 ...         ...   ...   \n",
       "6132            109.9         4    0.0       Transferencia        7000    26   \n",
       "6144             33.9         1    0.0  Tarjeta de Crédito        8006    36   \n",
       "6145           6376.9         3    0.0       Transferencia        2719    37   \n",
       "6155            199.9         5    0.0  Tarjeta de Crédito        9710    41   \n",
       "6156              9.9         2    0.0       Transferencia        5159    40   \n",
       "\n",
       "     sexo_biologico                ciudad            estado  region cashback  \\\n",
       "16        Masculino             Amecameca  Estado de México  Centro       No   \n",
       "24        Masculino  Atizapán de Zaragoza  Estado de México  Centro       No   \n",
       "25        Masculino   Naucalpan de Juárez  Estado de México  Centro       No   \n",
       "26         Femenino                Chalco  Estado de México  Centro       No   \n",
       "30         Femenino               Texcoco  Estado de México  Centro       Sí   \n",
       "...             ...                   ...               ...     ...      ...   \n",
       "6132       Femenino  Atizapán de Zaragoza  Estado de México  Centro       No   \n",
       "6144       Femenino                Toluca  Estado de México  Centro       Sí   \n",
       "6145      Masculino   Ecatepec de Morelos  Estado de México  Centro       Sí   \n",
       "6155       Femenino             Amecameca  Estado de México  Centro       No   \n",
       "6156       Femenino   San Sebastián Xhala  Estado de México  Centro       Sí   \n",
       "\n",
       "     zoop_pay  facturacion  \n",
       "16         No        305.0  \n",
       "24         No        284.5  \n",
       "25         No         99.6  \n",
       "26         No        431.7  \n",
       "30         No       2963.6  \n",
       "...       ...          ...  \n",
       "6132       No        439.6  \n",
       "6144       Sí         33.9  \n",
       "6145       Sí      19130.7  \n",
       "6155       No        999.5  \n",
       "6156       Sí         19.8  \n",
       "\n",
       "[1042 rows x 17 columns]"
      ]
     },
     "execution_count": 30,
     "metadata": {},
     "output_type": "execute_result"
    }
   ],
   "source": [
    "df.query('estado == \"Estado de México\"')"
   ]
  }
 ],
 "metadata": {
  "kernelspec": {
   "display_name": "condaenv",
   "language": "python",
   "name": "python3"
  },
  "language_info": {
   "codemirror_mode": {
    "name": "ipython",
    "version": 3
   },
   "file_extension": ".py",
   "mimetype": "text/x-python",
   "name": "python",
   "nbconvert_exporter": "python",
   "pygments_lexer": "ipython3",
   "version": "3.13.2"
  }
 },
 "nbformat": 4,
 "nbformat_minor": 5
}
