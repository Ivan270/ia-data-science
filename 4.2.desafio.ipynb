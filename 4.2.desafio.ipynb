{
 "cells": [
  {
   "cell_type": "markdown",
   "id": "fe90796a",
   "metadata": {},
   "source": [
    "# Desafío\n",
    "\n",
    "Zoop ha seleccionado 2 de los visuales creados para formar parte del informe con la narración de datos de la empresa. Se ha definido que se utilizarán los visuales con el facturamiento por región en 2023 y el de personas pre-registradas en Zoop Pay. Refinaremos ambos visuales siguiendo las instrucciones a continuación y la paleta de colores de la e-commerce, alterándolos con la ayuda de ChatGPT:"
   ]
  },
  {
   "cell_type": "markdown",
   "id": "76b104b7",
   "metadata": {},
   "source": [
    "## Desafío 1:\n",
    "\n",
    "Construye y ejecuta un prompt en ChatGPT para refinar el visual que presenta el facturamiento de las ventas por región. Las instrucciones para el refinamiento son las siguientes:\n",
    "\n",
    "- Fondo de la figura y del área del gráfico en el color GRIS_1\n",
    "- Color de las columnas en AQUA_1 (si deseas destacar solo una, puedes recurrir a AQUA_3, por ejemplo)\n",
    "- Tamaño de la figura de (16,9)\n",
    "- Cambia el título de la figura a un tamaño de 18 y color GRIS_5, ajusta las etiquetas y rótulos del eje x e y, cuando existan, a un tamaño 12 y color AZUL_1\n",
    "- Elimina el máximo de bordes posible y ajusta los datos para que se presenten en las barras en orden de millones, con color AZUL_1 y tamaño 12\n",
    "**Observación 1:** Todas las variables que representan los colores en las instrucciones están en una celda en la pestaña Paleta de Colores dentro del notebook Desafíos de la Clase 04.\n",
    "\n",
    "**Observación 2:** Es probable que al ejecutar los prompts, ChatGPT sugiera colores para las variables y modificaciones en los códigos que llaman al DataFrame deseado. Presta mucha atención para eliminar la nueva definición de colores y ajustar el DataFrame según lo que has hecho en actividades anteriores."
   ]
  },
  {
   "cell_type": "markdown",
   "id": "11dc04ac",
   "metadata": {},
   "source": [
    "## Desafío 2:\n",
    "\n",
    "Construye y ejecuta un prompt en ChatGPT para refinar el visual que presenta la proporción de personas pre-registradas en Zoop Pay. Las instrucciones para el refinamiento son las siguientes:\n",
    "\n",
    "- Fondo de la figura y del área del gráfico en el color GRIS_1.\n",
    "- Color de las porciones: AZUL_1 para \"Sí\" y GRIS_3 para \"No\".\n",
    "- Tamaño de la figura de (6,6).\n",
    "- Cambia el título de la figura a un tamaño de 18 y color GRIS_5.\n",
    "- Añade etiquetas en las porciones con tamaño 12 y los porcentajes también con tamaño 12 y en negrita. Los porcentajes deben estar en color BLANCO y las etiquetas de las porciones en el mismo color que las porciones.\n",
    "- Ajusta la rosca para que su ancho sea de 0.4 y los porcentajes de las porciones estén en la posición 0.8 en relación al centro.\n",
    "- Evita explosiones de porciones y efectos que dificulten el análisis del gráfico."
   ]
  }
 ],
 "metadata": {
  "kernelspec": {
   "display_name": "condaenv",
   "language": "python",
   "name": "python3"
  },
  "language_info": {
   "name": "python",
   "version": "3.13.2"
  }
 },
 "nbformat": 4,
 "nbformat_minor": 5
}
