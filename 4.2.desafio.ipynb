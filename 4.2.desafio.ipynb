{
 "cells": [
  {
   "cell_type": "markdown",
   "id": "fe90796a",
   "metadata": {},
   "source": [
    "# Desafío\n",
    "\n",
    "Zoop ha seleccionado 2 de los visuales creados para formar parte del informe con la narración de datos de la empresa. Se ha definido que se utilizarán los visuales con el **facturamiento por región en 2023** y el de personas **pre-registradas en Zoop Pay**. Refinaremos ambos visuales siguiendo las instrucciones a continuación y la paleta de colores de la e-commerce, alterándolos con la ayuda de ChatGPT:"
   ]
  },
  {
   "cell_type": "markdown",
   "id": "b29f8ed6",
   "metadata": {},
   "source": [
    "## Datos anteriores"
   ]
  },
  {
   "cell_type": "code",
   "execution_count": 7,
   "id": "b8c374b3",
   "metadata": {},
   "outputs": [],
   "source": [
    "import pandas as pd\n",
    "import warnings\n",
    "\n",
    "warnings.filterwarnings(\"ignore\")\n",
    "\n",
    "url_clientes = \"https://gist.githubusercontent.com/ahcamachod/d08898e1cc84c7271856e78d9558ca3d/raw/2f7e1fa53711efe6433a5c5ec79948f600591cb9/clientes_zoop.csv\"\n",
    "url_ventas = \"https://gist.githubusercontent.com/ahcamachod/966d7162a3c3a2769b8770b35abf1bcc/raw/d79941b3fa46a450f3611589abd8663399c1277b/ventas_zoop.csv\"\n",
    "url_zoop_pay = \"https://gist.githubusercontent.com/ahcamachod/ce728231a836a973c0df94a9f03ed871/raw/8db6da43d7cd94fcab937208067d0fceb521b78c/zoop_pay.csv\"\n",
    "\n",
    "clientes = pd.read_csv(url_clientes)\n",
    "ventas = pd.read_csv(url_ventas)\n",
    "ventas[\"fecha\"] = pd.to_datetime(ventas[\"fecha\"], format=\"%Y-%m-%d\")\n",
    "ventas[\"horario\"] = pd.to_datetime(ventas[\"horario\"], format=\"%H:%M\").dt.time\n",
    "\n",
    "df = pd.merge(ventas, clientes, on=\"ID_compra\", how=\"inner\")\n",
    "# Reorganizar las columnas en el orden deseado\n",
    "columnas_ordenadas = [\n",
    "    \"ID_compra\",\n",
    "    \"fecha\",\n",
    "    \"horario\",\n",
    "    \"categoria\",\n",
    "    \"precio_unitario\",\n",
    "    \"cantidad\",\n",
    "    \"envio\",\n",
    "    \"metodo_pago\",\n",
    "    \"ID_cliente\",\n",
    "    \"edad\",\n",
    "    \"sexo_biologico\",\n",
    "    \"ciudad\",\n",
    "    \"estado\",\n",
    "    \"region\",\n",
    "    \"cashback\",\n",
    "    \"nota\",\n",
    "]\n",
    "\n",
    "# Aplicar el orden de las columnas\n",
    "df = df[columnas_ordenadas]\n",
    "\n",
    "clientes = pd.read_csv(url_clientes)\n",
    "ventas = pd.read_csv(url_ventas)\n",
    "zoop_pay = pd.read_csv(url_zoop_pay)\n",
    "\n",
    "# 2. Unir ventas y clientes por 'ID_compra'\n",
    "df = pd.merge(ventas, clientes, on=\"ID_compra\", how=\"inner\")\n",
    "\n",
    "# 3. Unir con la base zoop_pay por 'ID_cliente'\n",
    "df = pd.merge(df, zoop_pay, on=\"ID_cliente\", how=\"left\")\n",
    "\n",
    "# 4. Renombrar columnas para estandarizar nombres\n",
    "df = df.rename(\n",
    "    columns={\n",
    "        \"fecha de la compra\": \"fecha\",\n",
    "        \"hora de la compra\": \"horario\",\n",
    "        \"categoría del producto\": \"categoria\",\n",
    "        \"precio unitario del producto\": \"precio_unitario\",\n",
    "        \"cantidad vendida\": \"cantidad\",\n",
    "        \"método de pago\": \"metodo_pago\",\n",
    "        \"sexo biológico\": \"sexo_biologico\",\n",
    "        \"programa de cashback\": \"cashback\",\n",
    "    }\n",
    ")\n",
    "\n",
    "# 5. Asegurar tipo datetime para la columna 'fecha'\n",
    "df[\"fecha\"] = pd.to_datetime(df[\"fecha\"], errors=\"coerce\")\n",
    "\n",
    "# 6. Reordenar las columnas en el orden solicitado\n",
    "columnas_ordenadas = [\n",
    "    \"ID_compra\",\n",
    "    \"fecha\",\n",
    "    \"horario\",\n",
    "    \"categoria\",\n",
    "    \"precio_unitario\",\n",
    "    \"cantidad\",\n",
    "    \"envio\",\n",
    "    \"metodo_pago\",\n",
    "    \"ID_cliente\",\n",
    "    \"edad\",\n",
    "    \"sexo_biologico\",\n",
    "    \"ciudad\",\n",
    "    \"estado\",\n",
    "    \"region\",\n",
    "    \"cashback\",\n",
    "    \"zoop_pay\",\n",
    "]\n",
    "\n",
    "df = df[columnas_ordenadas]\n",
    "df.head()\n",
    "\n",
    "import matplotlib.pyplot as plt\n",
    "import seaborn as sns\n",
    "\n",
    "# 1. Crear la tabla resumen\n",
    "metodos_de_pago = df[\"metodo_pago\"].value_counts().reset_index()\n",
    "metodos_de_pago.columns = [\"metodo_pago\", \"cantidad\"]\n",
    "\n",
    "# 1. Crear una columna de facturación total por compra\n",
    "df[\"facturacion\"] = df[\"precio_unitario\"] * df[\"cantidad\"] + df[\"envio\"]\n",
    "\n",
    "# 2. Agrupar por categoría y sumar la facturación\n",
    "facturacion_categoria = df.groupby(\"categoria\")[\"facturacion\"].sum().sort_values()\n",
    "\n",
    "# Asegurarse de que la columna 'fecha' es datetime\n",
    "df[\"fecha\"] = pd.to_datetime(df[\"fecha\"])\n",
    "\n",
    "# Crear columna con el mes como texto completo\n",
    "df[\"mes_nombre\"] = df[\"fecha\"].dt.strftime(\"%B\")  # e.g., 'January', 'February', etc.\n",
    "\n",
    "# Crear columna con el número del mes para ordenar correctamente\n",
    "df[\"mes_numero\"] = df[\"fecha\"].dt.month\n",
    "\n",
    "# Calcular la facturación mensual\n",
    "ventas_mensuales = (\n",
    "    df.groupby([\"mes_numero\", \"mes_nombre\"])[\"facturacion\"].sum().reset_index()\n",
    ")\n",
    "\n",
    "# Ordenar por número de mes\n",
    "ventas_mensuales = ventas_mensuales.sort_values(\"mes_numero\")\n",
    "\n",
    "# Diccionario de traducción de meses\n",
    "meses = {\n",
    "    \"January\": \"Ene\",\n",
    "    \"February\": \"Feb\",\n",
    "    \"March\": \"Mar\",\n",
    "    \"April\": \"Abr\",\n",
    "    \"May\": \"May\",\n",
    "    \"June\": \"Jun\",\n",
    "    \"July\": \"Jul\",\n",
    "    \"August\": \"Ago\",\n",
    "    \"September\": \"Sep\",\n",
    "    \"October\": \"Oct\",\n",
    "    \"November\": \"Nov\",\n",
    "    \"December\": \"Dic\",\n",
    "}\n",
    "\n",
    "# Aplicar traducción\n",
    "ventas_mensuales[\"mes\"] = ventas_mensuales[\"mes_nombre\"].map(meses)\n",
    "\n",
    "# 2. Crear columna de trimestre (formato 'T1', 'T2', etc.)\n",
    "df[\"trimestre\"] = df[\"fecha\"].dt.to_period(\"Q\").astype(str).str.replace(\"2023Q\", \"T\")\n",
    "\n",
    "# 3. Agrupar por trimestre y método de pago, sumando facturación\n",
    "ventas_trimestre = (\n",
    "    df.groupby([\"trimestre\", \"metodo_pago\"])[\"facturacion\"].sum().unstack(fill_value=0)\n",
    ")\n",
    "\n",
    "# Filtrar solo las 3 categorías deseadas\n",
    "categorias_interes = [\"Papelería y oficina\", \"Libros\", \"Alimentos y bebidas\"]\n",
    "df_filtrado = df[df[\"categoria\"].isin(categorias_interes)]\n",
    "\n",
    "# Agrupar por trimestre y categoría, sumando la facturación\n",
    "ventas_categoria = (\n",
    "    df_filtrado.groupby([\"trimestre\", \"categoria\"])[\"facturacion\"]\n",
    "    .sum()\n",
    "    .unstack(fill_value=0)\n",
    ")\n",
    "\n",
    "ventas_region = (\n",
    "    df.groupby(\"region\", as_index=False)[\"facturacion\"]\n",
    "    .sum()\n",
    "    .sort_values(\n",
    "        \"facturacion\", ascending=True\n",
    "    )  # orden ascendente para barras horizontales\n",
    ")\n",
    "\n",
    "df_filtrado = df[df[\"estado\"].isin([\"Estado de México\", \"Puebla\"])]\n",
    "\n",
    "# 2. Agrupar por estado y sexo biológico, contar cantidad\n",
    "publico_estado_sexo = (\n",
    "    df_filtrado.groupby([\"estado\", \"sexo_biologico\"])\n",
    "    .size()\n",
    "    .reset_index(name=\"cantidad\")\n",
    ")\n",
    "\n",
    "# Adicionamos los colores al proyecto\n",
    "ROJO_1, ROJO_2, ROJO_3 = \"#e23155\", \"#cc2c4e\", \"#b32742\"\n",
    "AZUL_1, AZUL_2, AZUL_3 = \"#203f75\", \"#1c3867\", \"#19325b\"\n",
    "BLANCO, GRIS_1, GRIS_2, GRIS_3, GRIS_4, GRIS_5 = (\n",
    "    \"#ffffff\",\n",
    "    \"#ebebeb\",\n",
    "    \"#d9d9d9\",\n",
    "    \"#cccccc\",\n",
    "    \"#555655\",\n",
    "    \"#231f20\",\n",
    ")\n",
    "AQUA_1, AQUA_2, AQUA_3 = \"#addcd4\", \"#9fccc5\", \"#96bfb9\""
   ]
  },
  {
   "cell_type": "markdown",
   "id": "76b104b7",
   "metadata": {},
   "source": [
    "## Desafío 1:\n",
    "\n",
    "Construye y ejecuta un prompt en ChatGPT para refinar el visual que presenta el facturamiento de las ventas por región. Las instrucciones para el refinamiento son las siguientes:\n",
    "\n",
    "- Fondo de la figura y del área del gráfico en el color GRIS_1\n",
    "- Color de las columnas en AQUA_1 (si deseas destacar solo una, puedes recurrir a AQUA_3, por ejemplo)\n",
    "- Tamaño de la figura de (16,9)\n",
    "- Cambia el título de la figura a un tamaño de 18 y color GRIS_5, ajusta las etiquetas y rótulos del eje x e y, cuando existan, a un tamaño 12 y color AZUL_1\n",
    "- Elimina el máximo de bordes posible y ajusta los datos para que se presenten en las barras en orden de millones, con color AZUL_1 y tamaño 12\n",
    "\n",
    "**Observación 1:** Todas las variables que representan los colores en las instrucciones están en una celda en la pestaña Paleta de Colores dentro del notebook Desafíos de la Clase 04.\n",
    "\n",
    "**Observación 2:** Es probable que al ejecutar los prompts, ChatGPT sugiera colores para las variables y modificaciones en los códigos que llaman al DataFrame deseado. Presta mucha atención para eliminar la nueva definición de colores y ajustar el DataFrame según lo que has hecho en actividades anteriores."
   ]
  },
  {
   "cell_type": "code",
   "execution_count": 8,
   "id": "27a00505",
   "metadata": {},
   "outputs": [
    {
     "data": {
      "image/png": "[encoded data removed]",
      "text/plain": [
       "<Figure size 1000x600 with 1 Axes>"
      ]
     },
     "metadata": {},
     "output_type": "display_data"
    }
   ],
   "source": [
    "import pandas as pd\n",
    "import matplotlib.pyplot as plt\n",
    "import seaborn as sns\n",
    "\n",
    "# 1. Calcular la facturación por fila\n",
    "df[\"facturacion\"] = df[\"precio_unitario\"] * df[\"cantidad\"] + df[\"envio\"]\n",
    "\n",
    "# 2. Agrupar por región y sumar la facturación\n",
    "ventas_region = (\n",
    "    df.groupby(\"region\", as_index=False)[\"facturacion\"]\n",
    "    .sum()\n",
    "    .sort_values(\n",
    "        \"facturacion\", ascending=True\n",
    "    )  # orden ascendente para barras horizontales\n",
    ")\n",
    "\n",
    "# 3. Visualización: barras horizontales\n",
    "plt.figure(figsize=(10, 6))\n",
    "sns.barplot(data=ventas_region, x=\"facturacion\", y=\"region\", palette=\"viridis\")\n",
    "\n",
    "plt.title(\"Facturación total por región\")\n",
    "plt.xlabel(\"Facturación\")\n",
    "plt.ylabel(\"Región\")\n",
    "plt.tight_layout()\n",
    "plt.show()"
   ]
  },
  {
   "cell_type": "markdown",
   "id": "b1296adc",
   "metadata": {},
   "source": [
    "### Prompt\n",
    "\n",
    "Ahora vamos a refinar el gráfico de facturación total por región. Anteriormente teníamos esto:\n",
    "```python\n",
    "import pandas as pd\n",
    "import matplotlib.pyplot as plt\n",
    "import seaborn as sns\n",
    "\n",
    "# 1. Calcular la facturación por fila\n",
    "df[\"facturacion\"] = df[\"precio_unitario\"] * df[\"cantidad\"] + df[\"envio\"]\n",
    "\n",
    "# 2. Agrupar por región y sumar la facturación\n",
    "ventas_region = (\n",
    "    df.groupby(\"region\", as_index=False)[\"facturacion\"]\n",
    "    .sum()\n",
    "    .sort_values(\n",
    "        \"facturacion\", ascending=True\n",
    "    )  # orden ascendente para barras horizontales\n",
    ")\n",
    "\n",
    "# 3. Visualización: barras horizontales\n",
    "plt.figure(figsize=(10, 6))\n",
    "sns.barplot(data=ventas_region, x=\"facturacion\", y=\"region\", palette=\"viridis\")\n",
    "\n",
    "plt.title(\"Facturación total por región\")\n",
    "plt.xlabel(\"Facturación\")\n",
    "plt.ylabel(\"Región\")\n",
    "plt.tight_layout()\n",
    "plt.show()\n",
    "```\n",
    "\n",
    "Necesitamos realizar los siguientes ajustes para mejorar su visualización:\n",
    "1. Fondo de la figura y área del gráfico en color GRIS_1\n",
    "2. Color de las columnas en AQUA_1, se puede destacar la que tiene mayor facturación con el color AQUA_3\n",
    "3. Ajustar el tamaño de la figura a (16,9)\n",
    "4. Cambiar el título de la figura a tamaño 18, color GRIS_5\n",
    "5. Etiquetas y rótulos del eje X e Y en tamaño 12 y color AZUL_1\n",
    "6. Eliminar los bordes de arriba y de la derecha\n",
    "7. Mostrar el valor de la facturación de cada columna para mostrarlos al lado de la barra en formato de millones de pesos mexicanos (`$MXN{Número}M`) en color AZUL_1 y tamaño 12\n",
    "\n",
    "### Respuesta\n",
    "\n",
    "Perfecto. Vamos a ajustar el gráfico de **facturación total por región** con base en los lineamientos de identidad visual de Zoop. Aquí tienes el código refinado paso a paso:\n",
    "\n",
    "---\n",
    "\n",
    "### ✅ Código actualizado:\n",
    "\n",
    "```python\n",
    "import pandas as pd\n",
    "import matplotlib.pyplot as plt\n",
    "import seaborn as sns\n",
    "\n",
    "# Colores corporativos\n",
    "ROJO_1, ROJO_2, ROJO_3 = \"#e23155\", \"#cc2c4e\", \"#b32742\"\n",
    "AZUL_1, AZUL_2, AZUL_3 = \"#203f75\", \"#1c3867\", \"#19325b\"\n",
    "BLANCO, GRIS_1, GRIS_2, GRIS_3, GRIS_4, GRIS_5 = (\n",
    "    \"#ffffff\", \"#ebebeb\", \"#d9d9d9\", \"#cccccc\", \"#555655\", \"#231f20\"\n",
    ")\n",
    "AQUA_1, AQUA_2, AQUA_3 = \"#addcd4\", \"#9fccc5\", \"#96bfb9\"\n",
    "\n",
    "# 1. Calcular la facturación por fila\n",
    "df[\"facturacion\"] = df[\"precio_unitario\"] * df[\"cantidad\"] + df[\"envio\"]\n",
    "\n",
    "# 2. Agrupar por región y ordenar\n",
    "ventas_region = (\n",
    "    df.groupby(\"region\", as_index=False)[\"facturacion\"]\n",
    "    .sum()\n",
    "    .sort_values(\"facturacion\", ascending=True)\n",
    ")\n",
    "\n",
    "# 3. Crear paleta: todo AQUA_1 excepto el mayor valor que será AQUA_3\n",
    "colores = [AQUA_1] * len(ventas_region)\n",
    "colores[-1] = AQUA_3  # la última barra (mayor valor) en AQUA_3\n",
    "\n",
    "# 4. Visualización\n",
    "fig, ax = plt.subplots(figsize=(16, 9))\n",
    "fig.patch.set_facecolor(GRIS_1)\n",
    "ax.set_facecolor(GRIS_1)\n",
    "\n",
    "bars = ax.barh(\n",
    "    ventas_region[\"region\"],\n",
    "    ventas_region[\"facturacion\"],\n",
    "    color=colores\n",
    ")\n",
    "\n",
    "# 5. Estética\n",
    "ax.set_title(\"Facturación total por región\", fontsize=18, color=GRIS_5)\n",
    "ax.set_xlabel(\"Facturación\", fontsize=12, color=AZUL_1)\n",
    "ax.set_ylabel(\"Región\", fontsize=12, color=AZUL_1)\n",
    "ax.tick_params(axis='x', labelsize=12, colors=AZUL_1)\n",
    "ax.tick_params(axis='y', labelsize=12, colors=AZUL_1)\n",
    "\n",
    "# 6. Eliminar bordes\n",
    "ax.spines['top'].set_visible(False)\n",
    "ax.spines['right'].set_visible(False)\n",
    "\n",
    "# 7. Añadir etiquetas al lado de cada barra\n",
    "for bar in bars:\n",
    "    width = bar.get_width()\n",
    "    ax.text(\n",
    "        width + max(ventas_region[\"facturacion\"]) * 0.01,\n",
    "        bar.get_y() + bar.get_height() / 2,\n",
    "        f\"${width/1e6:.2f}M\",\n",
    "        va='center',\n",
    "        fontsize=12,\n",
    "        color=AZUL_1\n",
    "    )\n",
    "\n",
    "plt.tight_layout()\n",
    "plt.show()\n",
    "```\n",
    "\n",
    "---\n",
    "\n",
    "### 🧠 ¿Qué se hizo?\n",
    "\n",
    "* Se **calcula la facturación** por fila.\n",
    "* Se **agrega una lógica para resaltar la región con mayor facturación**.\n",
    "* Se ajusta la estética siguiendo la **identidad visual de Zoop**: fondo gris claro, barras aqua, texto azul, y bordes mínimos.\n",
    "* Se formatean los valores como **millones de pesos mexicanos** (`$MXN`).\n",
    "\n",
    "¿Quieres que el gráfico tenga interactividad con Plotly o alguna exportación a imagen o PDF?"
   ]
  },
  {
   "cell_type": "code",
   "execution_count": 16,
   "id": "5d1577fc",
   "metadata": {},
   "outputs": [
    {
     "data": {
      "image/png": "[encoded data removed]",
      "text/plain": [
       "<Figure size 1600x900 with 1 Axes>"
      ]
     },
     "metadata": {},
     "output_type": "display_data"
    }
   ],
   "source": [
    "import pandas as pd\n",
    "import matplotlib.pyplot as plt\n",
    "import seaborn as sns\n",
    "\n",
    "# Colores corporativos\n",
    "ROJO_1, ROJO_2, ROJO_3 = \"#e23155\", \"#cc2c4e\", \"#b32742\"\n",
    "AZUL_1, AZUL_2, AZUL_3 = \"#203f75\", \"#1c3867\", \"#19325b\"\n",
    "BLANCO, GRIS_1, GRIS_2, GRIS_3, GRIS_4, GRIS_5 = (\n",
    "    \"#ffffff\",\n",
    "    \"#ebebeb\",\n",
    "    \"#d9d9d9\",\n",
    "    \"#cccccc\",\n",
    "    \"#555655\",\n",
    "    \"#231f20\",\n",
    ")\n",
    "AQUA_1, AQUA_2, AQUA_3 = \"#addcd4\", \"#9fccc5\", \"#96bfb9\"\n",
    "\n",
    "# 1. Calcular la facturación por fila\n",
    "df[\"facturacion\"] = df[\"precio_unitario\"] * df[\"cantidad\"] + df[\"envio\"]\n",
    "\n",
    "# 2. Agrupar por región y ordenar\n",
    "ventas_region = (\n",
    "    df.groupby(\"region\", as_index=False)[\"facturacion\"]\n",
    "    .sum()\n",
    "    .sort_values(\"facturacion\", ascending=True)\n",
    ")\n",
    "\n",
    "# 3. Crear paleta: todo AQUA_1 excepto el mayor valor que será AQUA_3\n",
    "colores = [AQUA_1] * len(ventas_region)\n",
    "colores[-1] = AQUA_3  # la última barra (mayor valor) en AQUA_3\n",
    "\n",
    "# 4. Visualización\n",
    "fig, ax = plt.subplots(figsize=(16, 9))\n",
    "fig.patch.set_facecolor(GRIS_1)\n",
    "ax.set_facecolor(GRIS_1)\n",
    "\n",
    "bars = ax.barh(ventas_region[\"region\"], ventas_region[\"facturacion\"], color=colores)\n",
    "\n",
    "# 5. Estética\n",
    "ax.set_title(\"Facturación total por región\", fontsize=18, color=GRIS_5)\n",
    "ax.set_xlabel(\"Facturación\", fontsize=12, color=AZUL_1)\n",
    "ax.set_ylabel(\"Región\", fontsize=12, color=AZUL_1)\n",
    "ax.tick_params(axis=\"x\", labelsize=12, colors=AZUL_1)\n",
    "ax.tick_params(axis=\"y\", labelsize=12, colors=AZUL_1)\n",
    "\n",
    "# 6. Eliminar bordes\n",
    "ax.spines[\"top\"].set_visible(False)\n",
    "ax.spines[\"right\"].set_visible(False)\n",
    "\n",
    "# 7. Añadir etiquetas al lado de cada barra\n",
    "for bar in bars:\n",
    "    width = bar.get_width()\n",
    "    ax.text(\n",
    "        width + max(ventas_region[\"facturacion\"]) * 0.01,\n",
    "        bar.get_y() + bar.get_height() / 2,\n",
    "        f\"MXN${width/1e6:.2f}M\",\n",
    "        va=\"center\",\n",
    "        fontsize=12,\n",
    "        color=AZUL_1,\n",
    "    )\n",
    "\n",
    "plt.tight_layout()\n",
    "plt.show()"
   ]
  },
  {
   "cell_type": "markdown",
   "id": "11dc04ac",
   "metadata": {},
   "source": [
    "## Desafío 2:\n",
    "\n",
    "Construye y ejecuta un prompt en ChatGPT para refinar el visual que presenta la proporción de personas pre-registradas en Zoop Pay. Las instrucciones para el refinamiento son las siguientes:\n",
    "\n",
    "- Fondo de la figura y del área del gráfico en el color GRIS_1.\n",
    "- Color de las porciones: AZUL_1 para \"Sí\" y GRIS_3 para \"No\".\n",
    "- Tamaño de la figura de (6,6).\n",
    "- Cambia el título de la figura a un tamaño de 18 y color GRIS_5.\n",
    "- Añade etiquetas en las porciones con tamaño 12 y los porcentajes también con tamaño 12 y en negrita. Los porcentajes deben estar en color BLANCO y las etiquetas de las porciones en el mismo color que las porciones.\n",
    "- Ajusta la rosca para que su ancho sea de 0.4 y los porcentajes de las porciones estén en la posición 0.8 en relación al centro.\n",
    "- Evita explosiones de porciones y efectos que dificulten el análisis del gráfico."
   ]
  },
  {
   "cell_type": "code",
   "execution_count": 10,
   "id": "87511005",
   "metadata": {},
   "outputs": [
    {
     "data": {
      "application/vnd.plotly.v1+json": {
       "config": {
        "plotlyServerURL": "https://plot.ly"
       },
       "data": [
        {
         "customdata": [
          [
           "No"
          ],
          [
           "Sí"
          ]
         ],
         "domain": {
          "x": [
           0,
           1
          ],
          "y": [
           0,
           1
          ]
         },
         "hole": 0.4,
         "hovertemplate": "zoop_pay=%{customdata[0]}<br>cantidad=%{value}<extra></extra>",
         "labels": [
          "No",
          "Sí"
         ],
         "legendgroup": "",
         "marker": {
          "colors": [
           "indianred",
           "mediumseagreen"
          ]
         },
         "name": "",
         "showlegend": true,
         "type": "pie",
         "values": {
          "bdata": "phJzBQ==",
          "dtype": "i2"
         }
        }
       ],
       "layout": {
        "legend": {
         "tracegroupgap": 0
        },
        "template": {
         "data": {
          "bar": [
           {
            "error_x": {
             "color": "#2a3f5f"
            },
            "error_y": {
             "color": "#2a3f5f"
            },
            "marker": {
             "line": {
              "color": "#E5ECF6",
              "width": 0.5
             },
             "pattern": {
              "fillmode": "overlay",
              "size": 10,
              "solidity": 0.2
             }
            },
            "type": "bar"
           }
          ],
          "barpolar": [
           {
            "marker": {
             "line": {
              "color": "#E5ECF6",
              "width": 0.5
             },
             "pattern": {
              "fillmode": "overlay",
              "size": 10,
              "solidity": 0.2
             }
            },
            "type": "barpolar"
           }
          ],
          "carpet": [
           {
            "aaxis": {
             "endlinecolor": "#2a3f5f",
             "gridcolor": "white",
             "linecolor": "white",
             "minorgridcolor": "white",
             "startlinecolor": "#2a3f5f"
            },
            "baxis": {
             "endlinecolor": "#2a3f5f",
             "gridcolor": "white",
             "linecolor": "white",
             "minorgridcolor": "white",
             "startlinecolor": "#2a3f5f"
            },
            "type": "carpet"
           }
          ],
          "choropleth": [
           {
            "colorbar": {
             "outlinewidth": 0,
             "ticks": ""
            },
            "type": "choropleth"
           }
          ],
          "contour": [
           {
            "colorbar": {
             "outlinewidth": 0,
             "ticks": ""
            },
            "colorscale": [
             [
              0,
              "#0d0887"
             ],
             [
              0.1111111111111111,
              "#46039f"
             ],
             [
              0.2222222222222222,
              "#7201a8"
             ],
             [
              0.3333333333333333,
              "#9c179e"
             ],
             [
              0.4444444444444444,
              "#bd3786"
             ],
             [
              0.5555555555555556,
              "#d8576b"
             ],
             [
              0.6666666666666666,
              "#ed7953"
             ],
             [
              0.7777777777777778,
              "#fb9f3a"
             ],
             [
              0.8888888888888888,
              "#fdca26"
             ],
             [
              1,
              "#f0f921"
             ]
            ],
            "type": "contour"
           }
          ],
          "contourcarpet": [
           {
            "colorbar": {
             "outlinewidth": 0,
             "ticks": ""
            },
            "type": "contourcarpet"
           }
          ],
          "heatmap": [
           {
            "colorbar": {
             "outlinewidth": 0,
             "ticks": ""
            },
            "colorscale": [
             [
              0,
              "#0d0887"
             ],
             [
              0.1111111111111111,
              "#46039f"
             ],
             [
              0.2222222222222222,
              "#7201a8"
             ],
             [
              0.3333333333333333,
              "#9c179e"
             ],
             [
              0.4444444444444444,
              "#bd3786"
             ],
             [
              0.5555555555555556,
              "#d8576b"
             ],
             [
              0.6666666666666666,
              "#ed7953"
             ],
             [
              0.7777777777777778,
              "#fb9f3a"
             ],
             [
              0.8888888888888888,
              "#fdca26"
             ],
             [
              1,
              "#f0f921"
             ]
            ],
            "type": "heatmap"
           }
          ],
          "histogram": [
           {
            "marker": {
             "pattern": {
              "fillmode": "overlay",
              "size": 10,
              "solidity": 0.2
             }
            },
            "type": "histogram"
           }
          ],
          "histogram2d": [
           {
            "colorbar": {
             "outlinewidth": 0,
             "ticks": ""
            },
            "colorscale": [
             [
              0,
              "#0d0887"
             ],
             [
              0.1111111111111111,
              "#46039f"
             ],
             [
              0.2222222222222222,
              "#7201a8"
             ],
             [
              0.3333333333333333,
              "#9c179e"
             ],
             [
              0.4444444444444444,
              "#bd3786"
             ],
             [
              0.5555555555555556,
              "#d8576b"
             ],
             [
              0.6666666666666666,
              "#ed7953"
             ],
             [
              0.7777777777777778,
              "#fb9f3a"
             ],
             [
              0.8888888888888888,
              "#fdca26"
             ],
             [
              1,
              "#f0f921"
             ]
            ],
            "type": "histogram2d"
           }
          ],
          "histogram2dcontour": [
           {
            "colorbar": {
             "outlinewidth": 0,
             "ticks": ""
            },
            "colorscale": [
             [
              0,
              "#0d0887"
             ],
             [
              0.1111111111111111,
              "#46039f"
             ],
             [
              0.2222222222222222,
              "#7201a8"
             ],
             [
              0.3333333333333333,
              "#9c179e"
             ],
             [
              0.4444444444444444,
              "#bd3786"
             ],
             [
              0.5555555555555556,
              "#d8576b"
             ],
             [
              0.6666666666666666,
              "#ed7953"
             ],
             [
              0.7777777777777778,
              "#fb9f3a"
             ],
             [
              0.8888888888888888,
              "#fdca26"
             ],
             [
              1,
              "#f0f921"
             ]
            ],
            "type": "histogram2dcontour"
           }
          ],
          "mesh3d": [
           {
            "colorbar": {
             "outlinewidth": 0,
             "ticks": ""
            },
            "type": "mesh3d"
           }
          ],
          "parcoords": [
           {
            "line": {
             "colorbar": {
              "outlinewidth": 0,
              "ticks": ""
             }
            },
            "type": "parcoords"
           }
          ],
          "pie": [
           {
            "automargin": true,
            "type": "pie"
           }
          ],
          "scatter": [
           {
            "fillpattern": {
             "fillmode": "overlay",
             "size": 10,
             "solidity": 0.2
            },
            "type": "scatter"
           }
          ],
          "scatter3d": [
           {
            "line": {
             "colorbar": {
              "outlinewidth": 0,
              "ticks": ""
             }
            },
            "marker": {
             "colorbar": {
              "outlinewidth": 0,
              "ticks": ""
             }
            },
            "type": "scatter3d"
           }
          ],
          "scattercarpet": [
           {
            "marker": {
             "colorbar": {
              "outlinewidth": 0,
              "ticks": ""
             }
            },
            "type": "scattercarpet"
           }
          ],
          "scattergeo": [
           {
            "marker": {
             "colorbar": {
              "outlinewidth": 0,
              "ticks": ""
             }
            },
            "type": "scattergeo"
           }
          ],
          "scattergl": [
           {
            "marker": {
             "colorbar": {
              "outlinewidth": 0,
              "ticks": ""
             }
            },
            "type": "scattergl"
           }
          ],
          "scattermap": [
           {
            "marker": {
             "colorbar": {
              "outlinewidth": 0,
              "ticks": ""
             }
            },
            "type": "scattermap"
           }
          ],
          "scattermapbox": [
           {
            "marker": {
             "colorbar": {
              "outlinewidth": 0,
              "ticks": ""
             }
            },
            "type": "scattermapbox"
           }
          ],
          "scatterpolar": [
           {
            "marker": {
             "colorbar": {
              "outlinewidth": 0,
              "ticks": ""
             }
            },
            "type": "scatterpolar"
           }
          ],
          "scatterpolargl": [
           {
            "marker": {
             "colorbar": {
              "outlinewidth": 0,
              "ticks": ""
             }
            },
            "type": "scatterpolargl"
           }
          ],
          "scatterternary": [
           {
            "marker": {
             "colorbar": {
              "outlinewidth": 0,
              "ticks": ""
             }
            },
            "type": "scatterternary"
           }
          ],
          "surface": [
           {
            "colorbar": {
             "outlinewidth": 0,
             "ticks": ""
            },
            "colorscale": [
             [
              0,
              "#0d0887"
             ],
             [
              0.1111111111111111,
              "#46039f"
             ],
             [
              0.2222222222222222,
              "#7201a8"
             ],
             [
              0.3333333333333333,
              "#9c179e"
             ],
             [
              0.4444444444444444,
              "#bd3786"
             ],
             [
              0.5555555555555556,
              "#d8576b"
             ],
             [
              0.6666666666666666,
              "#ed7953"
             ],
             [
              0.7777777777777778,
              "#fb9f3a"
             ],
             [
              0.8888888888888888,
              "#fdca26"
             ],
             [
              1,
              "#f0f921"
             ]
            ],
            "type": "surface"
           }
          ],
          "table": [
           {
            "cells": {
             "fill": {
              "color": "#EBF0F8"
             },
             "line": {
              "color": "white"
             }
            },
            "header": {
             "fill": {
              "color": "#C8D4E3"
             },
             "line": {
              "color": "white"
             }
            },
            "type": "table"
           }
          ]
         },
         "layout": {
          "annotationdefaults": {
           "arrowcolor": "#2a3f5f",
           "arrowhead": 0,
           "arrowwidth": 1
          },
          "autotypenumbers": "strict",
          "coloraxis": {
           "colorbar": {
            "outlinewidth": 0,
            "ticks": ""
           }
          },
          "colorscale": {
           "diverging": [
            [
             0,
             "#8e0152"
            ],
            [
             0.1,
             "#c51b7d"
            ],
            [
             0.2,
             "#de77ae"
            ],
            [
             0.3,
             "#f1b6da"
            ],
            [
             0.4,
             "#fde0ef"
            ],
            [
             0.5,
             "#f7f7f7"
            ],
            [
             0.6,
             "#e6f5d0"
            ],
            [
             0.7,
             "#b8e186"
            ],
            [
             0.8,
             "#7fbc41"
            ],
            [
             0.9,
             "#4d9221"
            ],
            [
             1,
             "#276419"
            ]
           ],
           "sequential": [
            [
             0,
             "#0d0887"
            ],
            [
             0.1111111111111111,
             "#46039f"
            ],
            [
             0.2222222222222222,
             "#7201a8"
            ],
            [
             0.3333333333333333,
             "#9c179e"
            ],
            [
             0.4444444444444444,
             "#bd3786"
            ],
            [
             0.5555555555555556,
             "#d8576b"
            ],
            [
             0.6666666666666666,
             "#ed7953"
            ],
            [
             0.7777777777777778,
             "#fb9f3a"
            ],
            [
             0.8888888888888888,
             "#fdca26"
            ],
            [
             1,
             "#f0f921"
            ]
           ],
           "sequentialminus": [
            [
             0,
             "#0d0887"
            ],
            [
             0.1111111111111111,
             "#46039f"
            ],
            [
             0.2222222222222222,
             "#7201a8"
            ],
            [
             0.3333333333333333,
             "#9c179e"
            ],
            [
             0.4444444444444444,
             "#bd3786"
            ],
            [
             0.5555555555555556,
             "#d8576b"
            ],
            [
             0.6666666666666666,
             "#ed7953"
            ],
            [
             0.7777777777777778,
             "#fb9f3a"
            ],
            [
             0.8888888888888888,
             "#fdca26"
            ],
            [
             1,
             "#f0f921"
            ]
           ]
          },
          "colorway": [
           "#636efa",
           "#EF553B",
           "#00cc96",
           "#ab63fa",
           "#FFA15A",
           "#19d3f3",
           "#FF6692",
           "#B6E880",
           "#FF97FF",
           "#FECB52"
          ],
          "font": {
           "color": "#2a3f5f"
          },
          "geo": {
           "bgcolor": "white",
           "lakecolor": "white",
           "landcolor": "#E5ECF6",
           "showlakes": true,
           "showland": true,
           "subunitcolor": "white"
          },
          "hoverlabel": {
           "align": "left"
          },
          "hovermode": "closest",
          "mapbox": {
           "style": "light"
          },
          "paper_bgcolor": "white",
          "plot_bgcolor": "#E5ECF6",
          "polar": {
           "angularaxis": {
            "gridcolor": "white",
            "linecolor": "white",
            "ticks": ""
           },
           "bgcolor": "#E5ECF6",
           "radialaxis": {
            "gridcolor": "white",
            "linecolor": "white",
            "ticks": ""
           }
          },
          "scene": {
           "xaxis": {
            "backgroundcolor": "#E5ECF6",
            "gridcolor": "white",
            "gridwidth": 2,
            "linecolor": "white",
            "showbackground": true,
            "ticks": "",
            "zerolinecolor": "white"
           },
           "yaxis": {
            "backgroundcolor": "#E5ECF6",
            "gridcolor": "white",
            "gridwidth": 2,
            "linecolor": "white",
            "showbackground": true,
            "ticks": "",
            "zerolinecolor": "white"
           },
           "zaxis": {
            "backgroundcolor": "#E5ECF6",
            "gridcolor": "white",
            "gridwidth": 2,
            "linecolor": "white",
            "showbackground": true,
            "ticks": "",
            "zerolinecolor": "white"
           }
          },
          "shapedefaults": {
           "line": {
            "color": "#2a3f5f"
           }
          },
          "ternary": {
           "aaxis": {
            "gridcolor": "white",
            "linecolor": "white",
            "ticks": ""
           },
           "baxis": {
            "gridcolor": "white",
            "linecolor": "white",
            "ticks": ""
           },
           "bgcolor": "#E5ECF6",
           "caxis": {
            "gridcolor": "white",
            "linecolor": "white",
            "ticks": ""
           }
          },
          "title": {
           "x": 0.05
          },
          "xaxis": {
           "automargin": true,
           "gridcolor": "white",
           "linecolor": "white",
           "ticks": "",
           "title": {
            "standoff": 15
           },
           "zerolinecolor": "white",
           "zerolinewidth": 2
          },
          "yaxis": {
           "automargin": true,
           "gridcolor": "white",
           "linecolor": "white",
           "ticks": "",
           "title": {
            "standoff": 15
           },
           "zerolinecolor": "white",
           "zerolinewidth": 2
          }
         }
        },
        "title": {
         "text": "Proporción de clientes pre-registrados en Zoop Pay"
        }
       }
      }
     },
     "metadata": {},
     "output_type": "display_data"
    }
   ],
   "source": [
    "import plotly.express as px\n",
    "\n",
    "# Contar los registros por participación en Zoop Pay\n",
    "zoop_pay_data = df[\"zoop_pay\"].value_counts().reset_index()\n",
    "zoop_pay_data.columns = [\"zoop_pay\", \"cantidad\"]\n",
    "\n",
    "# Crear gráfico de pastel\n",
    "fig = px.pie(\n",
    "    zoop_pay_data,\n",
    "    names=\"zoop_pay\",\n",
    "    values=\"cantidad\",\n",
    "    title=\"Proporción de clientes pre-registrados en Zoop Pay\",\n",
    "    color=\"zoop_pay\",\n",
    "    color_discrete_map={\"Sí\": \"mediumseagreen\", \"No\": \"indianred\"},\n",
    "    hole=0.4,  # opcional: para hacer un donut chart\n",
    ")\n",
    "fig.show()"
   ]
  },
  {
   "cell_type": "markdown",
   "id": "99341e1c",
   "metadata": {},
   "source": [
    "### Prompt\n",
    "\n",
    "Haremos algunos ajustes para el gráfico de proporción de clientes pre-registrados en Zoop Pay, que era anteriormente así:\n",
    "\n",
    "```python\n",
    "import plotly.express as px\n",
    "\n",
    "# Contar los registros por participación en Zoop Pay\n",
    "zoop_pay_data = df[\"zoop_pay\"].value_counts().reset_index()\n",
    "zoop_pay_data.columns = [\"zoop_pay\", \"cantidad\"]\n",
    "\n",
    "# Crear gráfico de pastel\n",
    "fig = px.pie(\n",
    "    zoop_pay_data,\n",
    "    names=\"zoop_pay\",\n",
    "    values=\"cantidad\",\n",
    "    title=\"Proporción de clientes pre-registrados en Zoop Pay\",\n",
    "    color=\"zoop_pay\",\n",
    "    color_discrete_map={\"Sí\": \"mediumseagreen\", \"No\": \"indianred\"},\n",
    "    hole=0.4,  # opcional: para hacer un donut chart\n",
    ")\n",
    "fig.show()\n",
    "```\n",
    "Los nuevos requerimientos son:\n",
    "1. Fondo de figura y área del gráfico en color GRIS_1\n",
    "2. Color de las porciones: AZUL_1 para \"Si\" y GRIS3 para \"No\"\n",
    "3. Ajustar el tamaño de la figura a (6,6)\n",
    "4. Ajustar tamaño del título de la figura a 18 y color GRIS_5\n",
    "5. Añadir las etiquetas y porcentajes en las porciones con tamaño 12 y en negrita. Los porcentajes deben estar en color BLANCO y las etiquetas de las porciones en el mismo color que las porciones\n",
    "6. Ajustar tamaño de la rosca a 0.4\n",
    "7. Ajustar los porcentajes de las porciones para que estén en la posición 0.8 en relación al centro\n",
    "8. Tener cuidado con explosiones de porciones y efectos que puedan dificultar el análisis del gráfico\n",
    "\n",
    "### Resultado\n",
    "\n",
    "Perfecto, aquí tienes el código actualizado para el gráfico de **proporción de clientes pre-registrados en Zoop Pay**, cumpliendo con todos los requerimientos de estilo y diseño según la identidad visual definida:\n",
    "\n",
    "---\n",
    "\n",
    "### ✅ Código refinado con Plotly:\n",
    "\n",
    "```python\n",
    "import plotly.graph_objects as go\n",
    "\n",
    "# Colores corporativos\n",
    "ROJO_1, ROJO_2, ROJO_3 = \"#e23155\", \"#cc2c4e\", \"#b32742\"\n",
    "AZUL_1, AZUL_2, AZUL_3 = \"#203f75\", \"#1c3867\", \"#19325b\"\n",
    "BLANCO, GRIS_1, GRIS_2, GRIS_3, GRIS_4, GRIS_5 = (\n",
    "    \"#ffffff\", \"#ebebeb\", \"#d9d9d9\", \"#cccccc\", \"#555655\", \"#231f20\"\n",
    ")\n",
    "AQUA_1, AQUA_2, AQUA_3 = \"#addcd4\", \"#9fccc5\", \"#96bfb9\"\n",
    "\n",
    "# Datos\n",
    "zoop_pay_data = df[\"zoop_pay\"].value_counts().reset_index()\n",
    "zoop_pay_data.columns = [\"zoop_pay\", \"cantidad\"]\n",
    "\n",
    "# Asignar colores según participación\n",
    "color_map = {\"Sí\": AZUL_1, \"No\": GRIS_3}\n",
    "colors = [color_map[val] for val in zoop_pay_data[\"zoop_pay\"]]\n",
    "\n",
    "# Gráfico de pastel (rosca)\n",
    "fig = go.Figure(\n",
    "    data=[\n",
    "        go.Pie(\n",
    "            labels=zoop_pay_data[\"zoop_pay\"],\n",
    "            values=zoop_pay_data[\"cantidad\"],\n",
    "            hole=0.4,\n",
    "            marker=dict(colors=colors),\n",
    "            textinfo=\"label+percent\",\n",
    "            textfont=dict(size=12, color=BLANCO, family=\"Arial\", bold=True),\n",
    "            insidetextorientation=\"radial\",\n",
    "            textposition=\"inside\",\n",
    "            pull=[0, 0],  # sin explosión de porciones\n",
    "            sort=False,\n",
    "        )\n",
    "    ]\n",
    ")\n",
    "\n",
    "# Actualizar diseño\n",
    "fig.update_layout(\n",
    "    title=dict(\n",
    "        text=\"Proporción de clientes pre-registrados en Zoop Pay\",\n",
    "        font=dict(size=18, color=GRIS_5),\n",
    "        x=0.5\n",
    "    ),\n",
    "    width=600,\n",
    "    height=600,\n",
    "    paper_bgcolor=GRIS_1,\n",
    "    plot_bgcolor=GRIS_1,\n",
    "    showlegend=False\n",
    ")\n",
    "\n",
    "# Mostrar gráfico\n",
    "fig.show()\n",
    "```\n",
    "\n",
    "---\n",
    "\n",
    "### ✅ ¿Qué se implementó?\n",
    "\n",
    "* 🎯 **Colores** personalizados: `AZUL_1` para \"Sí\" y `GRIS_3` para \"No\".\n",
    "* 🎯 **Fondo** del gráfico y figura en `GRIS_1`.\n",
    "* 🎯 **Tamaño de figura**: 600x600 px.\n",
    "* 🎯 **Texto en las porciones**: etiquetas + porcentaje, con tipografía clara (blanca y en negrita).\n",
    "* 🎯 **Donut chart** con tamaño del hueco `0.4` y sin \"explosiones\" o efectos innecesarios.\n",
    "* 🎯 **Porcentajes posicionados dentro del círculo** (centrados adecuadamente).\n",
    "\n",
    "¿Te gustaría añadir una leyenda personalizada o exportarlo como imagen?"
   ]
  },
  {
   "cell_type": "code",
   "execution_count": 15,
   "id": "12d10fa1",
   "metadata": {},
   "outputs": [
    {
     "data": {
      "application/vnd.plotly.v1+json": {
       "config": {
        "plotlyServerURL": "https://plot.ly"
       },
       "data": [
        {
         "hole": 0.4,
         "insidetextorientation": "radial",
         "labels": [
          "No",
          "Sí"
         ],
         "marker": {
          "colors": [
           "#cccccc",
           "#203f75"
          ]
         },
         "pull": [
          0,
          0
         ],
         "sort": false,
         "textfont": {
          "color": "#ffffff",
          "family": "Arial",
          "size": 12
         },
         "textinfo": "label+percent",
         "textposition": "inside",
         "texttemplate": "<b>%{label}</b></br></br><b>%{percent}</b>",
         "type": "pie",
         "values": {
          "bdata": "phJzBQ==",
          "dtype": "i2"
         }
        }
       ],
       "layout": {
        "height": 600,
        "paper_bgcolor": "#ebebeb",
        "plot_bgcolor": "#ebebeb",
        "showlegend": false,
        "template": {
         "data": {
          "bar": [
           {
            "error_x": {
             "color": "#2a3f5f"
            },
            "error_y": {
             "color": "#2a3f5f"
            },
            "marker": {
             "line": {
              "color": "#E5ECF6",
              "width": 0.5
             },
             "pattern": {
              "fillmode": "overlay",
              "size": 10,
              "solidity": 0.2
             }
            },
            "type": "bar"
           }
          ],
          "barpolar": [
           {
            "marker": {
             "line": {
              "color": "#E5ECF6",
              "width": 0.5
             },
             "pattern": {
              "fillmode": "overlay",
              "size": 10,
              "solidity": 0.2
             }
            },
            "type": "barpolar"
           }
          ],
          "carpet": [
           {
            "aaxis": {
             "endlinecolor": "#2a3f5f",
             "gridcolor": "white",
             "linecolor": "white",
             "minorgridcolor": "white",
             "startlinecolor": "#2a3f5f"
            },
            "baxis": {
             "endlinecolor": "#2a3f5f",
             "gridcolor": "white",
             "linecolor": "white",
             "minorgridcolor": "white",
             "startlinecolor": "#2a3f5f"
            },
            "type": "carpet"
           }
          ],
          "choropleth": [
           {
            "colorbar": {
             "outlinewidth": 0,
             "ticks": ""
            },
            "type": "choropleth"
           }
          ],
          "contour": [
           {
            "colorbar": {
             "outlinewidth": 0,
             "ticks": ""
            },
            "colorscale": [
             [
              0,
              "#0d0887"
             ],
             [
              0.1111111111111111,
              "#46039f"
             ],
             [
              0.2222222222222222,
              "#7201a8"
             ],
             [
              0.3333333333333333,
              "#9c179e"
             ],
             [
              0.4444444444444444,
              "#bd3786"
             ],
             [
              0.5555555555555556,
              "#d8576b"
             ],
             [
              0.6666666666666666,
              "#ed7953"
             ],
             [
              0.7777777777777778,
              "#fb9f3a"
             ],
             [
              0.8888888888888888,
              "#fdca26"
             ],
             [
              1,
              "#f0f921"
             ]
            ],
            "type": "contour"
           }
          ],
          "contourcarpet": [
           {
            "colorbar": {
             "outlinewidth": 0,
             "ticks": ""
            },
            "type": "contourcarpet"
           }
          ],
          "heatmap": [
           {
            "colorbar": {
             "outlinewidth": 0,
             "ticks": ""
            },
            "colorscale": [
             [
              0,
              "#0d0887"
             ],
             [
              0.1111111111111111,
              "#46039f"
             ],
             [
              0.2222222222222222,
              "#7201a8"
             ],
             [
              0.3333333333333333,
              "#9c179e"
             ],
             [
              0.4444444444444444,
              "#bd3786"
             ],
             [
              0.5555555555555556,
              "#d8576b"
             ],
             [
              0.6666666666666666,
              "#ed7953"
             ],
             [
              0.7777777777777778,
              "#fb9f3a"
             ],
             [
              0.8888888888888888,
              "#fdca26"
             ],
             [
              1,
              "#f0f921"
             ]
            ],
            "type": "heatmap"
           }
          ],
          "histogram": [
           {
            "marker": {
             "pattern": {
              "fillmode": "overlay",
              "size": 10,
              "solidity": 0.2
             }
            },
            "type": "histogram"
           }
          ],
          "histogram2d": [
           {
            "colorbar": {
             "outlinewidth": 0,
             "ticks": ""
            },
            "colorscale": [
             [
              0,
              "#0d0887"
             ],
             [
              0.1111111111111111,
              "#46039f"
             ],
             [
              0.2222222222222222,
              "#7201a8"
             ],
             [
              0.3333333333333333,
              "#9c179e"
             ],
             [
              0.4444444444444444,
              "#bd3786"
             ],
             [
              0.5555555555555556,
              "#d8576b"
             ],
             [
              0.6666666666666666,
              "#ed7953"
             ],
             [
              0.7777777777777778,
              "#fb9f3a"
             ],
             [
              0.8888888888888888,
              "#fdca26"
             ],
             [
              1,
              "#f0f921"
             ]
            ],
            "type": "histogram2d"
           }
          ],
          "histogram2dcontour": [
           {
            "colorbar": {
             "outlinewidth": 0,
             "ticks": ""
            },
            "colorscale": [
             [
              0,
              "#0d0887"
             ],
             [
              0.1111111111111111,
              "#46039f"
             ],
             [
              0.2222222222222222,
              "#7201a8"
             ],
             [
              0.3333333333333333,
              "#9c179e"
             ],
             [
              0.4444444444444444,
              "#bd3786"
             ],
             [
              0.5555555555555556,
              "#d8576b"
             ],
             [
              0.6666666666666666,
              "#ed7953"
             ],
             [
              0.7777777777777778,
              "#fb9f3a"
             ],
             [
              0.8888888888888888,
              "#fdca26"
             ],
             [
              1,
              "#f0f921"
             ]
            ],
            "type": "histogram2dcontour"
           }
          ],
          "mesh3d": [
           {
            "colorbar": {
             "outlinewidth": 0,
             "ticks": ""
            },
            "type": "mesh3d"
           }
          ],
          "parcoords": [
           {
            "line": {
             "colorbar": {
              "outlinewidth": 0,
              "ticks": ""
             }
            },
            "type": "parcoords"
           }
          ],
          "pie": [
           {
            "automargin": true,
            "type": "pie"
           }
          ],
          "scatter": [
           {
            "fillpattern": {
             "fillmode": "overlay",
             "size": 10,
             "solidity": 0.2
            },
            "type": "scatter"
           }
          ],
          "scatter3d": [
           {
            "line": {
             "colorbar": {
              "outlinewidth": 0,
              "ticks": ""
             }
            },
            "marker": {
             "colorbar": {
              "outlinewidth": 0,
              "ticks": ""
             }
            },
            "type": "scatter3d"
           }
          ],
          "scattercarpet": [
           {
            "marker": {
             "colorbar": {
              "outlinewidth": 0,
              "ticks": ""
             }
            },
            "type": "scattercarpet"
           }
          ],
          "scattergeo": [
           {
            "marker": {
             "colorbar": {
              "outlinewidth": 0,
              "ticks": ""
             }
            },
            "type": "scattergeo"
           }
          ],
          "scattergl": [
           {
            "marker": {
             "colorbar": {
              "outlinewidth": 0,
              "ticks": ""
             }
            },
            "type": "scattergl"
           }
          ],
          "scattermap": [
           {
            "marker": {
             "colorbar": {
              "outlinewidth": 0,
              "ticks": ""
             }
            },
            "type": "scattermap"
           }
          ],
          "scattermapbox": [
           {
            "marker": {
             "colorbar": {
              "outlinewidth": 0,
              "ticks": ""
             }
            },
            "type": "scattermapbox"
           }
          ],
          "scatterpolar": [
           {
            "marker": {
             "colorbar": {
              "outlinewidth": 0,
              "ticks": ""
             }
            },
            "type": "scatterpolar"
           }
          ],
          "scatterpolargl": [
           {
            "marker": {
             "colorbar": {
              "outlinewidth": 0,
              "ticks": ""
             }
            },
            "type": "scatterpolargl"
           }
          ],
          "scatterternary": [
           {
            "marker": {
             "colorbar": {
              "outlinewidth": 0,
              "ticks": ""
             }
            },
            "type": "scatterternary"
           }
          ],
          "surface": [
           {
            "colorbar": {
             "outlinewidth": 0,
             "ticks": ""
            },
            "colorscale": [
             [
              0,
              "#0d0887"
             ],
             [
              0.1111111111111111,
              "#46039f"
             ],
             [
              0.2222222222222222,
              "#7201a8"
             ],
             [
              0.3333333333333333,
              "#9c179e"
             ],
             [
              0.4444444444444444,
              "#bd3786"
             ],
             [
              0.5555555555555556,
              "#d8576b"
             ],
             [
              0.6666666666666666,
              "#ed7953"
             ],
             [
              0.7777777777777778,
              "#fb9f3a"
             ],
             [
              0.8888888888888888,
              "#fdca26"
             ],
             [
              1,
              "#f0f921"
             ]
            ],
            "type": "surface"
           }
          ],
          "table": [
           {
            "cells": {
             "fill": {
              "color": "#EBF0F8"
             },
             "line": {
              "color": "white"
             }
            },
            "header": {
             "fill": {
              "color": "#C8D4E3"
             },
             "line": {
              "color": "white"
             }
            },
            "type": "table"
           }
          ]
         },
         "layout": {
          "annotationdefaults": {
           "arrowcolor": "#2a3f5f",
           "arrowhead": 0,
           "arrowwidth": 1
          },
          "autotypenumbers": "strict",
          "coloraxis": {
           "colorbar": {
            "outlinewidth": 0,
            "ticks": ""
           }
          },
          "colorscale": {
           "diverging": [
            [
             0,
             "#8e0152"
            ],
            [
             0.1,
             "#c51b7d"
            ],
            [
             0.2,
             "#de77ae"
            ],
            [
             0.3,
             "#f1b6da"
            ],
            [
             0.4,
             "#fde0ef"
            ],
            [
             0.5,
             "#f7f7f7"
            ],
            [
             0.6,
             "#e6f5d0"
            ],
            [
             0.7,
             "#b8e186"
            ],
            [
             0.8,
             "#7fbc41"
            ],
            [
             0.9,
             "#4d9221"
            ],
            [
             1,
             "#276419"
            ]
           ],
           "sequential": [
            [
             0,
             "#0d0887"
            ],
            [
             0.1111111111111111,
             "#46039f"
            ],
            [
             0.2222222222222222,
             "#7201a8"
            ],
            [
             0.3333333333333333,
             "#9c179e"
            ],
            [
             0.4444444444444444,
             "#bd3786"
            ],
            [
             0.5555555555555556,
             "#d8576b"
            ],
            [
             0.6666666666666666,
             "#ed7953"
            ],
            [
             0.7777777777777778,
             "#fb9f3a"
            ],
            [
             0.8888888888888888,
             "#fdca26"
            ],
            [
             1,
             "#f0f921"
            ]
           ],
           "sequentialminus": [
            [
             0,
             "#0d0887"
            ],
            [
             0.1111111111111111,
             "#46039f"
            ],
            [
             0.2222222222222222,
             "#7201a8"
            ],
            [
             0.3333333333333333,
             "#9c179e"
            ],
            [
             0.4444444444444444,
             "#bd3786"
            ],
            [
             0.5555555555555556,
             "#d8576b"
            ],
            [
             0.6666666666666666,
             "#ed7953"
            ],
            [
             0.7777777777777778,
             "#fb9f3a"
            ],
            [
             0.8888888888888888,
             "#fdca26"
            ],
            [
             1,
             "#f0f921"
            ]
           ]
          },
          "colorway": [
           "#636efa",
           "#EF553B",
           "#00cc96",
           "#ab63fa",
           "#FFA15A",
           "#19d3f3",
           "#FF6692",
           "#B6E880",
           "#FF97FF",
           "#FECB52"
          ],
          "font": {
           "color": "#2a3f5f"
          },
          "geo": {
           "bgcolor": "white",
           "lakecolor": "white",
           "landcolor": "#E5ECF6",
           "showlakes": true,
           "showland": true,
           "subunitcolor": "white"
          },
          "hoverlabel": {
           "align": "left"
          },
          "hovermode": "closest",
          "mapbox": {
           "style": "light"
          },
          "paper_bgcolor": "white",
          "plot_bgcolor": "#E5ECF6",
          "polar": {
           "angularaxis": {
            "gridcolor": "white",
            "linecolor": "white",
            "ticks": ""
           },
           "bgcolor": "#E5ECF6",
           "radialaxis": {
            "gridcolor": "white",
            "linecolor": "white",
            "ticks": ""
           }
          },
          "scene": {
           "xaxis": {
            "backgroundcolor": "#E5ECF6",
            "gridcolor": "white",
            "gridwidth": 2,
            "linecolor": "white",
            "showbackground": true,
            "ticks": "",
            "zerolinecolor": "white"
           },
           "yaxis": {
            "backgroundcolor": "#E5ECF6",
            "gridcolor": "white",
            "gridwidth": 2,
            "linecolor": "white",
            "showbackground": true,
            "ticks": "",
            "zerolinecolor": "white"
           },
           "zaxis": {
            "backgroundcolor": "#E5ECF6",
            "gridcolor": "white",
            "gridwidth": 2,
            "linecolor": "white",
            "showbackground": true,
            "ticks": "",
            "zerolinecolor": "white"
           }
          },
          "shapedefaults": {
           "line": {
            "color": "#2a3f5f"
           }
          },
          "ternary": {
           "aaxis": {
            "gridcolor": "white",
            "linecolor": "white",
            "ticks": ""
           },
           "baxis": {
            "gridcolor": "white",
            "linecolor": "white",
            "ticks": ""
           },
           "bgcolor": "#E5ECF6",
           "caxis": {
            "gridcolor": "white",
            "linecolor": "white",
            "ticks": ""
           }
          },
          "title": {
           "x": 0.05
          },
          "xaxis": {
           "automargin": true,
           "gridcolor": "white",
           "linecolor": "white",
           "ticks": "",
           "title": {
            "standoff": 15
           },
           "zerolinecolor": "white",
           "zerolinewidth": 2
          },
          "yaxis": {
           "automargin": true,
           "gridcolor": "white",
           "linecolor": "white",
           "ticks": "",
           "title": {
            "standoff": 15
           },
           "zerolinecolor": "white",
           "zerolinewidth": 2
          }
         }
        },
        "title": {
         "font": {
          "color": "#231f20",
          "size": 18
         },
         "text": "Proporción de clientes pre-registrados en Zoop Pay",
         "x": 0.5
        },
        "width": 600
       }
      }
     },
     "metadata": {},
     "output_type": "display_data"
    }
   ],
   "source": [
    "import plotly.graph_objects as go\n",
    "\n",
    "# Colores corporativos\n",
    "ROJO_1, ROJO_2, ROJO_3 = \"#e23155\", \"#cc2c4e\", \"#b32742\"\n",
    "AZUL_1, AZUL_2, AZUL_3 = \"#203f75\", \"#1c3867\", \"#19325b\"\n",
    "BLANCO, GRIS_1, GRIS_2, GRIS_3, GRIS_4, GRIS_5 = (\n",
    "    \"#ffffff\",\n",
    "    \"#ebebeb\",\n",
    "    \"#d9d9d9\",\n",
    "    \"#cccccc\",\n",
    "    \"#555655\",\n",
    "    \"#231f20\",\n",
    ")\n",
    "AQUA_1, AQUA_2, AQUA_3 = \"#addcd4\", \"#9fccc5\", \"#96bfb9\"\n",
    "\n",
    "# Datos\n",
    "zoop_pay_data = df[\"zoop_pay\"].value_counts().reset_index()\n",
    "zoop_pay_data.columns = [\"zoop_pay\", \"cantidad\"]\n",
    "\n",
    "# Asignar colores según participación\n",
    "color_map = {\"Sí\": AZUL_1, \"No\": GRIS_3}\n",
    "colors = [color_map[val] for val in zoop_pay_data[\"zoop_pay\"]]\n",
    "\n",
    "# Gráfico de pastel (rosca)\n",
    "fig = go.Figure(\n",
    "    data=[\n",
    "        go.Pie(\n",
    "            labels=zoop_pay_data[\"zoop_pay\"],\n",
    "            values=zoop_pay_data[\"cantidad\"],\n",
    "            hole=0.4,\n",
    "            marker=dict(colors=colors),\n",
    "            textinfo=\"label+percent\",\n",
    "            textfont=dict(size=12, color=BLANCO, family=\"Arial\"),\n",
    "            texttemplate=\"<b>%{label}</b></br></br><b>%{percent}</b>\", # esto lo tuve que arreglar yo\n",
    "            insidetextorientation=\"radial\",\n",
    "            textposition=\"inside\",\n",
    "            pull=[0, 0],  # sin explosión de porciones\n",
    "            sort=False,\n",
    "        )\n",
    "    ]\n",
    ")\n",
    "\n",
    "# Actualizar diseño\n",
    "fig.update_layout(\n",
    "    title=dict(\n",
    "        text=\"Proporción de clientes pre-registrados en Zoop Pay\",\n",
    "        font=dict(size=18, color=GRIS_5),\n",
    "        x=0.5,\n",
    "    ),\n",
    "    width=600,\n",
    "    height=600,\n",
    "    paper_bgcolor=GRIS_1,\n",
    "    plot_bgcolor=GRIS_1,\n",
    "    showlegend=False,\n",
    ")\n",
    "\n",
    "# Mostrar gráfico\n",
    "fig.show()"
   ]
  }
 ],
 "metadata": {
  "kernelspec": {
   "display_name": "condaenv",
   "language": "python",
   "name": "python3"
  },
  "language_info": {
   "codemirror_mode": {
    "name": "ipython",
    "version": 3
   },
   "file_extension": ".py",
   "mimetype": "text/x-python",
   "name": "python",
   "nbconvert_exporter": "python",
   "pygments_lexer": "ipython3",
   "version": "3.13.2"
  }
 },
 "nbformat": 4,
 "nbformat_minor": 5
}
